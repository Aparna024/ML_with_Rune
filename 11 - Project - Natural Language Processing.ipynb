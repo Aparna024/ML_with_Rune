{
  "nbformat": 4,
  "nbformat_minor": 5,
  "metadata": {
    "kernelspec": {
      "display_name": "Python 3",
      "language": "python",
      "name": "python3"
    },
    "language_info": {
      "codemirror_mode": {
        "name": "ipython",
        "version": 3
      },
      "file_extension": ".py",
      "mimetype": "text/x-python",
      "name": "python",
      "nbconvert_exporter": "python",
      "pygments_lexer": "ipython3",
      "version": "3.8.8"
    },
    "colab": {
      "name": "11 - Project - Natural Language Processing.ipynb",
      "provenance": [],
      "include_colab_link": true
    }
  },
  "cells": [
    {
      "cell_type": "markdown",
      "metadata": {
        "id": "view-in-github",
        "colab_type": "text"
      },
      "source": [
        "<a href=\"https://colab.research.google.com/github/adel-nouar/ML_with_Rune/blob/main/11%20-%20Project%20-%20Natural%20Language%20Processing.ipynb\" target=\"_parent\"><img src=\"https://colab.research.google.com/assets/colab-badge.svg\" alt=\"Open In Colab\"/></a>"
      ]
    },
    {
      "cell_type": "markdown",
      "metadata": {
        "id": "bbac054e"
      },
      "source": [
        "# Project - Natural Language Processing\n",
        "- Can you determine who tweeted this?"
      ],
      "id": "bbac054e"
    },
    {
      "cell_type": "markdown",
      "metadata": {
        "id": "e1c81218"
      },
      "source": [
        "### Description\n",
        "- We will analyze a collection of tweets from one tweet account\n",
        "- Can we figure out the person behind the account?"
      ],
      "id": "e1c81218"
    },
    {
      "cell_type": "markdown",
      "metadata": {
        "id": "74bc044f"
      },
      "source": [
        "### Step 1: Import libraries"
      ],
      "id": "74bc044f"
    },
    {
      "cell_type": "code",
      "metadata": {
        "id": "96cab55a"
      },
      "source": [
        "import pandas as pd\n",
        "from nltk import word_tokenize, ngrams, punkt\n",
        "from collections import Counter"
      ],
      "id": "96cab55a",
      "execution_count": 6,
      "outputs": []
    },
    {
      "cell_type": "code",
      "metadata": {
        "id": "uI0UOk5lM75K",
        "outputId": "889792b6-a082-4a3a-b09d-329cf52f76de",
        "colab": {
          "base_uri": "https://localhost:8080/"
        }
      },
      "source": [
        "import nltk\n",
        "nltk.download('punkt')"
      ],
      "id": "uI0UOk5lM75K",
      "execution_count": 9,
      "outputs": [
        {
          "output_type": "stream",
          "name": "stdout",
          "text": [
            "[nltk_data] Downloading package punkt to /root/nltk_data...\n",
            "[nltk_data]   Unzipping tokenizers/punkt.zip.\n"
          ]
        },
        {
          "output_type": "execute_result",
          "data": {
            "text/plain": [
              "True"
            ]
          },
          "metadata": {},
          "execution_count": 9
        }
      ]
    },
    {
      "cell_type": "markdown",
      "metadata": {
        "id": "32280f22"
      },
      "source": [
        "### Step 2: Import data\n",
        "- Use Pandas [read_csv](https://pandas.pydata.org/pandas-docs/stable/reference/api/pandas.read_csv.html) method to read files/tweets.csv"
      ],
      "id": "32280f22"
    },
    {
      "cell_type": "code",
      "metadata": {
        "id": "2708ecdc",
        "outputId": "d539064a-3743-4ccb-9d4d-86a6126fbf9c",
        "colab": {
          "base_uri": "https://localhost:8080/",
          "height": 206
        }
      },
      "source": [
        "data = pd.read_csv('files/tweets.csv')\n",
        "data.head()"
      ],
      "id": "2708ecdc",
      "execution_count": 2,
      "outputs": [
        {
          "output_type": "execute_result",
          "data": {
            "text/html": [
              "<div>\n",
              "<style scoped>\n",
              "    .dataframe tbody tr th:only-of-type {\n",
              "        vertical-align: middle;\n",
              "    }\n",
              "\n",
              "    .dataframe tbody tr th {\n",
              "        vertical-align: top;\n",
              "    }\n",
              "\n",
              "    .dataframe thead th {\n",
              "        text-align: right;\n",
              "    }\n",
              "</style>\n",
              "<table border=\"1\" class=\"dataframe\">\n",
              "  <thead>\n",
              "    <tr style=\"text-align: right;\">\n",
              "      <th></th>\n",
              "      <th>date</th>\n",
              "      <th>content</th>\n",
              "    </tr>\n",
              "  </thead>\n",
              "  <tbody>\n",
              "    <tr>\n",
              "      <th>0</th>\n",
              "      <td>2009-05-04 13:54:25</td>\n",
              "      <td>Be sure to tune in and watch John Doe on Late ...</td>\n",
              "    </tr>\n",
              "    <tr>\n",
              "      <th>1</th>\n",
              "      <td>2009-05-04 20:00:10</td>\n",
              "      <td>John Doe will be appearing on The View tomorro...</td>\n",
              "    </tr>\n",
              "    <tr>\n",
              "      <th>2</th>\n",
              "      <td>2009-05-08 08:38:08</td>\n",
              "      <td>John Doe reads Top Ten Financial Tips on Late ...</td>\n",
              "    </tr>\n",
              "    <tr>\n",
              "      <th>3</th>\n",
              "      <td>2009-05-08 15:40:15</td>\n",
              "      <td>New Blog Post: Celebrity Apprentice Finale and...</td>\n",
              "    </tr>\n",
              "    <tr>\n",
              "      <th>4</th>\n",
              "      <td>2009-05-12 09:07:28</td>\n",
              "      <td>\"My persona will never be that of a wallflower...</td>\n",
              "    </tr>\n",
              "  </tbody>\n",
              "</table>\n",
              "</div>"
            ],
            "text/plain": [
              "                  date                                            content\n",
              "0  2009-05-04 13:54:25  Be sure to tune in and watch John Doe on Late ...\n",
              "1  2009-05-04 20:00:10  John Doe will be appearing on The View tomorro...\n",
              "2  2009-05-08 08:38:08  John Doe reads Top Ten Financial Tips on Late ...\n",
              "3  2009-05-08 15:40:15  New Blog Post: Celebrity Apprentice Finale and...\n",
              "4  2009-05-12 09:07:28  \"My persona will never be that of a wallflower..."
            ]
          },
          "metadata": {},
          "execution_count": 2
        }
      ]
    },
    {
      "cell_type": "markdown",
      "metadata": {
        "id": "37099a8c"
      },
      "source": [
        "### Step 3: Convert content to a list of content\n",
        "- Use list on the column **content**\n",
        "    - You can also apply [to_list()](https://pandas.pydata.org/docs/reference/api/pandas.Series.to_list.html) on the column"
      ],
      "id": "37099a8c"
    },
    {
      "cell_type": "code",
      "metadata": {
        "id": "26de946c"
      },
      "source": [
        "content = list(data['content'])"
      ],
      "id": "26de946c",
      "execution_count": 3,
      "outputs": []
    },
    {
      "cell_type": "code",
      "metadata": {
        "id": "a1d7e107",
        "outputId": "015b2da8-2dc4-4534-d29b-7e9012090c54",
        "colab": {
          "base_uri": "https://localhost:8080/"
        }
      },
      "source": [
        "len(content)"
      ],
      "id": "a1d7e107",
      "execution_count": 4,
      "outputs": [
        {
          "output_type": "execute_result",
          "data": {
            "text/plain": [
              "43352"
            ]
          },
          "metadata": {},
          "execution_count": 4
        }
      ]
    },
    {
      "cell_type": "markdown",
      "metadata": {
        "id": "24c9b883"
      },
      "source": [
        "### Step 4: Create a corpus\n",
        "- Create an empty list called **corpus**\n",
        "- Iterate over **content**\n",
        "    - Extend **corpus** with all words in lowercase if any character is alpha in the word.\n",
        "        - HINT: To lowercase, call **lower()** on the word.\n",
        "        - HINT: To check if any character is alhpa, use **any(c.isalpha() for c in word)**"
      ],
      "id": "24c9b883"
    },
    {
      "cell_type": "code",
      "metadata": {
        "id": "a62294a5"
      },
      "source": [
        "corpus = []\n",
        "for item in content:\n",
        "  corpus.extend([word.lower() for word in word_tokenize(item) if any(c.isalpha() for c in word)])"
      ],
      "id": "a62294a5",
      "execution_count": 10,
      "outputs": []
    },
    {
      "cell_type": "markdown",
      "metadata": {
        "id": "9e69e419"
      },
      "source": [
        "### Step 5: Check corpus\n",
        "- Find the length of the corpus\n",
        "- Look at the first 10 words in the corpus"
      ],
      "id": "9e69e419"
    },
    {
      "cell_type": "code",
      "metadata": {
        "id": "2fa6fcbd",
        "outputId": "f4854162-8a92-4f6d-e83f-12f41b89a142",
        "colab": {
          "base_uri": "https://localhost:8080/"
        }
      },
      "source": [
        "len(corpus)"
      ],
      "id": "2fa6fcbd",
      "execution_count": 11,
      "outputs": [
        {
          "output_type": "execute_result",
          "data": {
            "text/plain": [
              "850290"
            ]
          },
          "metadata": {},
          "execution_count": 11
        }
      ]
    },
    {
      "cell_type": "code",
      "metadata": {
        "id": "3f4762ac",
        "outputId": "3a9b6027-65b0-4bd6-c4d5-604dba2db8ed",
        "colab": {
          "base_uri": "https://localhost:8080/"
        }
      },
      "source": [
        "corpus[:10]"
      ],
      "id": "3f4762ac",
      "execution_count": 12,
      "outputs": [
        {
          "output_type": "execute_result",
          "data": {
            "text/plain": [
              "['be', 'sure', 'to', 'tune', 'in', 'and', 'watch', 'john', 'doe', 'on']"
            ]
          },
          "metadata": {},
          "execution_count": 12
        }
      ]
    },
    {
      "cell_type": "markdown",
      "metadata": {
        "id": "6ed7bb50"
      },
      "source": [
        "### Step 6: Display all 3-grams\n",
        "- Use **Counter(ngrams(corpus, 3))** and assign it to a variable\n",
        "- List the 10 most common 3-grams\n",
        "    - HINT: call **most_common(10)** on the result from **Counter(...)**"
      ],
      "id": "6ed7bb50"
    },
    {
      "cell_type": "code",
      "metadata": {
        "id": "72a7be3e"
      },
      "source": [
        "ngram = Counter(ngrams(corpus, 3))"
      ],
      "id": "72a7be3e",
      "execution_count": 13,
      "outputs": []
    },
    {
      "cell_type": "code",
      "metadata": {
        "id": "665a8df2",
        "outputId": "75a1eb00-3d2c-47d7-da6c-0d91dbea1ff4",
        "colab": {
          "base_uri": "https://localhost:8080/"
        }
      },
      "source": [
        "ngram.most_common(10)"
      ],
      "id": "665a8df2",
      "execution_count": 14,
      "outputs": [
        {
          "output_type": "execute_result",
          "data": {
            "text/plain": [
              "[(('america', 'great', 'again'), 537),\n",
              " (('the', 'united', 'states'), 524),\n",
              " (('i', 'will', 'be'), 522),\n",
              " (('make', 'america', 'great'), 501),\n",
              " (('run', 'for', 'president'), 395),\n",
              " (('one', 'of', 'the'), 352),\n",
              " (('the', 'fake', 'news'), 344),\n",
              " (('the', 'white', 'house'), 288),\n",
              " (('all', 'of', 'the'), 280),\n",
              " (('thank', 'you', 'to'), 274)]"
            ]
          },
          "metadata": {},
          "execution_count": 14
        }
      ]
    },
    {
      "cell_type": "markdown",
      "metadata": {
        "id": "95494b28"
      },
      "source": [
        "### Step 7 (Optional): Pretty print\n",
        "- Iterate over the result with a for-loop\n",
        "    - HINT: Each loop gives a **ngram** and **frequency**"
      ],
      "id": "95494b28"
    },
    {
      "cell_type": "code",
      "metadata": {
        "id": "468ffcb8",
        "outputId": "8f5f3f8d-43e2-44e9-bac1-9d55c5592824",
        "colab": {
          "base_uri": "https://localhost:8080/"
        }
      },
      "source": [
        "for gram, freq in ngram.most_common(10):\n",
        "  print(f'Frequency: {freq} -> {gram}')"
      ],
      "id": "468ffcb8",
      "execution_count": 17,
      "outputs": [
        {
          "output_type": "stream",
          "name": "stdout",
          "text": [
            "Frequency: 537 -> ('america', 'great', 'again')\n",
            "Frequency: 524 -> ('the', 'united', 'states')\n",
            "Frequency: 522 -> ('i', 'will', 'be')\n",
            "Frequency: 501 -> ('make', 'america', 'great')\n",
            "Frequency: 395 -> ('run', 'for', 'president')\n",
            "Frequency: 352 -> ('one', 'of', 'the')\n",
            "Frequency: 344 -> ('the', 'fake', 'news')\n",
            "Frequency: 288 -> ('the', 'white', 'house')\n",
            "Frequency: 280 -> ('all', 'of', 'the')\n",
            "Frequency: 274 -> ('thank', 'you', 'to')\n"
          ]
        }
      ]
    },
    {
      "cell_type": "code",
      "metadata": {
        "id": "615dfde1"
      },
      "source": [
        ""
      ],
      "id": "615dfde1",
      "execution_count": null,
      "outputs": []
    },
    {
      "cell_type": "markdown",
      "metadata": {
        "id": "b48d23ca"
      },
      "source": [
        "### Step 8 (Optional): Try it with 4-grams"
      ],
      "id": "b48d23ca"
    },
    {
      "cell_type": "code",
      "metadata": {
        "id": "7d498871"
      },
      "source": [
        "ngram = Counter(ngrams(corpus, 4))"
      ],
      "id": "7d498871",
      "execution_count": 18,
      "outputs": []
    },
    {
      "cell_type": "code",
      "metadata": {
        "id": "c18a607e",
        "outputId": "25234acc-36f3-4ec6-9dcb-b83f1e3ebe25",
        "colab": {
          "base_uri": "https://localhost:8080/"
        }
      },
      "source": [
        "ngram.most_common(10)"
      ],
      "id": "c18a607e",
      "execution_count": 19,
      "outputs": [
        {
          "output_type": "execute_result",
          "data": {
            "text/plain": [
              "[(('make', 'america', 'great', 'again'), 489),\n",
              " (('the', 'great', 'state', 'of'), 173),\n",
              " (('the', 'fake', 'news', 'media'), 165),\n",
              " (('art', 'of', 'the', 'deal'), 160),\n",
              " (('of', 'the', 'united', 'states'), 141),\n",
              " (('the', 'art', 'of', 'the'), 137),\n",
              " (('in', 'the', 'history', 'of'), 130),\n",
              " (('my', 'complete', 'and', 'total'), 116),\n",
              " (('complete', 'and', 'total', 'endorsement'), 116),\n",
              " (('i', 'will', 'be', 'interviewed'), 113)]"
            ]
          },
          "metadata": {},
          "execution_count": 19
        }
      ]
    },
    {
      "cell_type": "markdown",
      "metadata": {
        "id": "DV0nbs8VOSt0"
      },
      "source": [
        "5-grams"
      ],
      "id": "DV0nbs8VOSt0"
    },
    {
      "cell_type": "code",
      "metadata": {
        "id": "b4d7869f",
        "outputId": "4b5106e3-2a6e-4545-fb40-fcc48a2d9418",
        "colab": {
          "base_uri": "https://localhost:8080/"
        }
      },
      "source": [
        "ngram = Counter(ngrams(corpus, 5))\n",
        "ngram.most_common(10)"
      ],
      "id": "b4d7869f",
      "execution_count": 20,
      "outputs": [
        {
          "output_type": "execute_result",
          "data": {
            "text/plain": [
              "[(('the', 'art', 'of', 'the', 'deal'), 134),\n",
              " (('my', 'complete', 'and', 'total', 'endorsement'), 115),\n",
              " (('has', 'my', 'complete', 'and', 'total'), 106),\n",
              " (('it', 'was', 'my', 'great', 'honor'), 90),\n",
              " (('was', 'my', 'great', 'honor', 'to'), 87),\n",
              " (('to', 'make', 'america', 'great', 'again'), 82),\n",
              " (('i', 'will', 'be', 'interviewed', 'on'), 65),\n",
              " (('president', 'of', 'the', 'united', 'states'), 61),\n",
              " (('in', 'the', 'great', 'state', 'of'), 56),\n",
              " (('in', 'the', 'history', 'of', 'our'), 56)]"
            ]
          },
          "metadata": {},
          "execution_count": 20
        }
      ]
    }
  ]
}