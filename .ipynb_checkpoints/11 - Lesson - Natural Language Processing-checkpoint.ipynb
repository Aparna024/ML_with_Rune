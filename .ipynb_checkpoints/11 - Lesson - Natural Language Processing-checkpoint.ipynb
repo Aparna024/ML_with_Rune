{
 "cells": [
  {
   "cell_type": "markdown",
   "id": "fd1a157f",
   "metadata": {
    "colab_type": "text",
    "id": "view-in-github"
   },
   "source": [
    "<a href=\"https://colab.research.google.com/github/adel-nouar/ML_with_Rune/blob/main/11%20-%20Lesson%20-%20Natural%20Language%20Processing.ipynb\" target=\"_parent\"><img src=\"https://colab.research.google.com/assets/colab-badge.svg\" alt=\"Open In Colab\"/></a>"
   ]
  },
  {
   "cell_type": "markdown",
   "id": "ba959ea8",
   "metadata": {
    "id": "ba959ea8"
   },
   "source": [
    "# Natural Language Processing\n",
    "### Goal of lesson\n",
    "- How the simple syntax of language can be parsed\n",
    "- What Context-Free Grammar (CFG) is\n",
    "- Use it to parse text\n",
    "- Understand text in trigrams\n",
    "- See how it can be used to generate predictions\n",
    "\n",
    "### What is Natural Language Processing\n",
    "- Automatic computational processing of human languages\n",
    "- Includes \n",
    "    - Algorithms that take human written language as input\n",
    "    - Algorithms that produce natural text\n",
    "\n",
    "- Examples include\n",
    "    - Automatic summarization\n",
    "    - Language identification\n",
    "    - Translation"
   ]
  },
  {
   "cell_type": "markdown",
   "id": "88cafa61",
   "metadata": {
    "id": "88cafa61"
   },
   "source": [
    "### Syntax\n",
    "- One basic description of a language's syntax is the sequence in which the subject, verb, and object usually appear in sentences.\n",
    "\n",
    "### Formal Grammar\n",
    "- A system of rules for genrating sentences in a language\n",
    "- A grammar is usually thought of as a language generator ([wiki](https://en.wikipedia.org/wiki/Formal_grammar))"
   ]
  },
  {
   "cell_type": "markdown",
   "id": "338af3bc",
   "metadata": {
    "id": "338af3bc"
   },
   "source": [
    "### Context-Free Grammar (CFG)\n",
    "- A formal grammar is \"context free\" if its production rules can be applied regardless of the context of a nonterminal ([wiki](https://en.wikipedia.org/wiki/Context-free_grammar))."
   ]
  },
  {
   "cell_type": "markdown",
   "id": "eec8e4f6",
   "metadata": {
    "id": "eec8e4f6"
   },
   "source": [
    "> #### Programming Notes:\n",
    "> - Libraries used\n",
    ">     - [**nltk**](https://www.nltk.org) - Natural Language Toolkit\n",
    ">     - [**os**](https://docs.python.org/3/library/os.html) Miscellaneous operating system interfaces\n",
    ">     - [**collections**](https://docs.python.org/3/library/collections.html) Container datatypes\n",
    ">     - [**markovify**](https://pypi.org/project/markovify/) A simple, extensible Markov chain generato\n",
    "> - Functionality and concepts used\n",
    ">     - [**ChartParser**](https://tedboy.github.io/nlps/generated/generated/nltk.ChartParser.html) generic chart parser\n",
    ">     - **List Comprehension** to convert data ([Lecture on **List Comprehension**](https://youtu.be/vCYEvtfXdig))\n",
    ">     - [**Counter**](https://docs.python.org/3/library/collections.html#collections.Counter) a dict subclass for counting hashable objects\n",
    ">     - [**markovify.Text**](https://pypi.org/project/markovify/) to create your Markov Model"
   ]
  },
  {
   "cell_type": "code",
   "execution_count": 1,
   "id": "9ea2f28f",
   "metadata": {
    "colab": {
     "base_uri": "https://localhost:8080/"
    },
    "id": "9ea2f28f",
    "outputId": "d0d0e18b-ad1d-422e-e5e9-3950f794deb2"
   },
   "outputs": [
    {
     "name": "stdout",
     "output_type": "stream",
     "text": [
      "Requirement already satisfied: nltk in /usr/local/lib/python3.7/dist-packages (3.2.5)\n",
      "Requirement already satisfied: six in /usr/local/lib/python3.7/dist-packages (from nltk) (1.15.0)\n"
     ]
    }
   ],
   "source": [
    "#!pip install nltk"
   ]
  },
  {
   "cell_type": "code",
   "execution_count": 1,
   "id": "7d8eea04",
   "metadata": {
    "id": "7d8eea04"
   },
   "outputs": [],
   "source": [
    "import nltk"
   ]
  },
  {
   "cell_type": "code",
   "execution_count": 18,
   "id": "06e74e9f",
   "metadata": {
    "colab": {
     "base_uri": "https://localhost:8080/"
    },
    "id": "06e74e9f",
    "outputId": "dce603be-39f7-4bc4-a724-7cec15df70f1"
   },
   "outputs": [
    {
     "name": "stdin",
     "output_type": "stream",
     "text": [
      " she liked town\n"
     ]
    },
    {
     "name": "stdout",
     "output_type": "stream",
     "text": [
      "      S           \n",
      "  ____|____        \n",
      " |         VP     \n",
      " |     ____|___    \n",
      " NP   |        NP \n",
      " |    |        |   \n",
      " N    V        N  \n",
      " |    |        |   \n",
      "she liked     town\n",
      "\n"
     ]
    }
   ],
   "source": [
    "grammar = nltk.CFG.fromstring(\"\"\"\n",
    "    S -> NP VP\n",
    "\n",
    "    NP -> D N | N\n",
    "    VP -> V | V NP\n",
    "\n",
    "    D -> \"the\" | \"a\" | \"an\"\n",
    "    N -> \"she\" | \"city\" | \"car\" | \"town\"\n",
    "    V -> \"saw\" | \"walked\" | \"liked\"   \n",
    "\"\"\")\n",
    "\n",
    "parser = nltk.ChartParser(grammar)\n",
    "\n",
    "sentence = input().split()\n",
    "\n",
    "for tree in parser.parse(sentence):\n",
    "    tree.pretty_print()"
   ]
  },
  {
   "cell_type": "markdown",
   "id": "b6fa8235",
   "metadata": {
    "id": "b6fa8235"
   },
   "source": [
    "### Challenge with CFG\n",
    "- You need to encode all possibilities\n",
    "\n",
    "### Idea\n",
    "- Understand text in small subsets\n",
    "- **$n$-gram**\n",
    "    - a contiguous sequence of $n$ items from a sample text\n",
    "- **Word $n$-gram**\n",
    "    - a contiguous sequence of $n$ words from a sample text\n",
    "- **unigram**\n",
    "    - 1 items in sequence\n",
    "- **bigram**\n",
    "    - 2 items in sequence\n",
    "- **trigram**\n",
    "    - 3 items in sequence"
   ]
  },
  {
   "cell_type": "markdown",
   "id": "30889d25",
   "metadata": {
    "id": "30889d25"
   },
   "source": [
    "### Word Tokenization\n",
    "- the task of splitting a sequence of words into tokens\n",
    "\n",
    "- Considerations: comma, punktuation, etc."
   ]
  },
  {
   "cell_type": "code",
   "execution_count": 7,
   "id": "d4ea65e3",
   "metadata": {
    "id": "d4ea65e3"
   },
   "outputs": [],
   "source": [
    "import os\n",
    "from collections import Counter"
   ]
  },
  {
   "cell_type": "code",
   "execution_count": 8,
   "id": "d3d5f1b8",
   "metadata": {
    "colab": {
     "base_uri": "https://localhost:8080/"
    },
    "id": "d3d5f1b8",
    "outputId": "89e0f9f8-29f0-497e-e658-dcb7e0b54764"
   },
   "outputs": [
    {
     "name": "stderr",
     "output_type": "stream",
     "text": [
      "[nltk_data] Downloading package punkt to /Users/adel/nltk_data...\n",
      "[nltk_data]   Unzipping tokenizers/punkt.zip.\n"
     ]
    },
    {
     "data": {
      "text/plain": [
       "True"
      ]
     },
     "execution_count": 8,
     "metadata": {},
     "output_type": "execute_result"
    }
   ],
   "source": [
    "nltk.download('punkt')"
   ]
  },
  {
   "cell_type": "code",
   "execution_count": 9,
   "id": "be1f0f82",
   "metadata": {
    "colab": {
     "base_uri": "https://localhost:8080/",
     "height": 227
    },
    "id": "be1f0f82",
    "outputId": "cac2ec4d-d979-4d40-fdda-02a66dedc7be"
   },
   "outputs": [],
   "source": [
    "content = []\n",
    "for filename in os.listdir('files/holmes/'):\n",
    "    with open(f'files/holmes/{filename}') as f:\n",
    "        content.append(f.read())"
   ]
  },
  {
   "cell_type": "code",
   "execution_count": 10,
   "id": "7fcdbe57",
   "metadata": {
    "id": "7fcdbe57"
   },
   "outputs": [
    {
     "data": {
      "text/plain": [
       "21"
      ]
     },
     "execution_count": 10,
     "metadata": {},
     "output_type": "execute_result"
    }
   ],
   "source": [
    "len(content)"
   ]
  },
  {
   "cell_type": "code",
   "execution_count": 11,
   "id": "a58c7ddd",
   "metadata": {
    "id": "a58c7ddd"
   },
   "outputs": [],
   "source": [
    "corpus = []\n",
    "for item in content:\n",
    "    corpus.extend([word.lower() for word in nltk.word_tokenize(item) if any(c.isalpha() for c in word)])"
   ]
  },
  {
   "cell_type": "code",
   "execution_count": 12,
   "id": "79dc5211",
   "metadata": {
    "id": "79dc5211"
   },
   "outputs": [
    {
     "data": {
      "text/plain": [
       "178205"
      ]
     },
     "execution_count": 12,
     "metadata": {},
     "output_type": "execute_result"
    }
   ],
   "source": [
    "len(corpus)"
   ]
  },
  {
   "cell_type": "code",
   "execution_count": 13,
   "id": "99ed6d7f-d2cf-4972-9fa2-b6f9217db404",
   "metadata": {},
   "outputs": [],
   "source": [
    "ngrams = Counter(nltk.ngrams(corpus, 3))"
   ]
  },
  {
   "cell_type": "code",
   "execution_count": 14,
   "id": "d9b296ab",
   "metadata": {
    "id": "d9b296ab"
   },
   "outputs": [
    {
     "name": "stdout",
     "output_type": "stream",
     "text": [
      "80: ('it', 'was', 'a')\n",
      "71: ('one', 'of', 'the')\n",
      "65: ('i', 'think', 'that')\n",
      "59: ('out', 'of', 'the')\n",
      "55: ('that', 'it', 'was')\n",
      "55: ('that', 'he', 'had')\n",
      "55: ('there', 'was', 'a')\n",
      "55: ('that', 'he', 'was')\n",
      "52: ('it', 'is', 'a')\n",
      "49: ('i', 'can', 'not')\n"
     ]
    }
   ],
   "source": [
    "for ngram, freq in ngrams.most_common(10):\n",
    "    print(f'{freq}: {ngram}')"
   ]
  },
  {
   "cell_type": "markdown",
   "id": "1373e8d6",
   "metadata": {
    "id": "1373e8d6"
   },
   "source": [
    "### Markov Model\n",
    "- A Markov chain is a stochastic model describing a sequence of possible events in which the probability of each event depends only on the state attained in the previous even ([wiki](https://en.wikipedia.org/wiki/Markov_chain))\n",
    "- Or as the example above:\n",
    "    - Given any two words -> you have probabilities for the next word"
   ]
  },
  {
   "cell_type": "code",
   "execution_count": null,
   "id": "2866684b-342c-4008-addd-a674f1ca58c0",
   "metadata": {},
   "outputs": [],
   "source": [
    "!pip install markovify"
   ]
  },
  {
   "cell_type": "code",
   "execution_count": null,
   "id": "c260c02b",
   "metadata": {
    "id": "c260c02b"
   },
   "outputs": [],
   "source": [
    "import markovify"
   ]
  },
  {
   "cell_type": "code",
   "execution_count": null,
   "id": "c3e9fc8c",
   "metadata": {
    "id": "c3e9fc8c"
   },
   "outputs": [],
   "source": [
    "with open('files/shakespeare.txt') as f:\n",
    "    text = f.read()"
   ]
  },
  {
   "cell_type": "code",
   "execution_count": null,
   "id": "354f2d51",
   "metadata": {
    "id": "354f2d51"
   },
   "outputs": [],
   "source": [
    "model = markovify.Text(text)"
   ]
  },
  {
   "cell_type": "code",
   "execution_count": null,
   "id": "4f76620f",
   "metadata": {
    "id": "4f76620f"
   },
   "outputs": [],
   "source": [
    "model.make_sentence()"
   ]
  },
  {
   "cell_type": "code",
   "execution_count": null,
   "id": "e40aba96",
   "metadata": {
    "id": "e40aba96"
   },
   "outputs": [],
   "source": []
  },
  {
   "cell_type": "code",
   "execution_count": null,
   "id": "2a9923ab",
   "metadata": {
    "id": "2a9923ab"
   },
   "outputs": [],
   "source": []
  }
 ],
 "metadata": {
  "colab": {
   "include_colab_link": true,
   "name": "11 - Lesson - Natural Language Processing.ipynb",
   "provenance": []
  },
  "kernelspec": {
   "display_name": "Python 3 (ipykernel)",
   "language": "python",
   "name": "python3"
  },
  "language_info": {
   "codemirror_mode": {
    "name": "ipython",
    "version": 3
   },
   "file_extension": ".py",
   "mimetype": "text/x-python",
   "name": "python",
   "nbconvert_exporter": "python",
   "pygments_lexer": "ipython3",
   "version": "3.9.7"
  },
  "widgets": {
   "application/vnd.jupyter.widget-state+json": {
    "state": {},
    "version_major": 2,
    "version_minor": 0
   }
  }
 },
 "nbformat": 4,
 "nbformat_minor": 5
}
