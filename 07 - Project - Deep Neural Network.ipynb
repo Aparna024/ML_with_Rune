{
  "nbformat": 4,
  "nbformat_minor": 5,
  "metadata": {
    "kernelspec": {
      "display_name": "Python 3",
      "language": "python",
      "name": "python3"
    },
    "language_info": {
      "codemirror_mode": {
        "name": "ipython",
        "version": 3
      },
      "file_extension": ".py",
      "mimetype": "text/x-python",
      "name": "python",
      "nbconvert_exporter": "python",
      "pygments_lexer": "ipython3",
      "version": "3.8.8"
    },
    "colab": {
      "name": "07 - Project - Deep Neural Network.ipynb",
      "provenance": [],
      "include_colab_link": true
    }
  },
  "cells": [
    {
      "cell_type": "markdown",
      "metadata": {
        "id": "view-in-github",
        "colab_type": "text"
      },
      "source": [
        "<a href=\"https://colab.research.google.com/github/adel-nouar/ML_with_Rune/blob/main/07%20-%20Project%20-%20Deep%20Neural%20Network.ipynb\" target=\"_parent\"><img src=\"https://colab.research.google.com/assets/colab-badge.svg\" alt=\"Open In Colab\"/></a>"
      ]
    },
    {
      "cell_type": "markdown",
      "metadata": {
        "id": "5ea243b8"
      },
      "source": [
        "# Project: Deep Neural Network\n",
        "- Identify false banknotes"
      ],
      "id": "5ea243b8"
    },
    {
      "cell_type": "markdown",
      "metadata": {
        "id": "fbc0d19b"
      },
      "source": [
        "### Step 1: Import libraries"
      ],
      "id": "fbc0d19b"
    },
    {
      "cell_type": "code",
      "metadata": {
        "id": "b1fb93ca"
      },
      "source": [
        "import pandas as pd\n",
        "from sklearn.model_selection import train_test_split\n",
        "from tensorflow.keras.layers import Dense\n",
        "from tensorflow.keras.models import Sequential"
      ],
      "id": "b1fb93ca",
      "execution_count": 1,
      "outputs": []
    },
    {
      "cell_type": "markdown",
      "metadata": {
        "id": "50b057d4"
      },
      "source": [
        "### Step 2: Read the data\n",
        "- Use Pandas [read_csv](https://pandas.pydata.org/pandas-docs/stable/reference/api/pandas.read_csv.html) method to read **files/banknotes.csv**"
      ],
      "id": "50b057d4"
    },
    {
      "cell_type": "code",
      "metadata": {
        "id": "6aff7b49",
        "outputId": "6c18d2c9-fff8-40e3-c4d4-c160d3353430",
        "colab": {
          "base_uri": "https://localhost:8080/",
          "height": 204
        }
      },
      "source": [
        "data = pd.read_csv('banknotes.csv')\n",
        "data.head()"
      ],
      "id": "6aff7b49",
      "execution_count": 2,
      "outputs": [
        {
          "output_type": "execute_result",
          "data": {
            "text/html": [
              "<div>\n",
              "<style scoped>\n",
              "    .dataframe tbody tr th:only-of-type {\n",
              "        vertical-align: middle;\n",
              "    }\n",
              "\n",
              "    .dataframe tbody tr th {\n",
              "        vertical-align: top;\n",
              "    }\n",
              "\n",
              "    .dataframe thead th {\n",
              "        text-align: right;\n",
              "    }\n",
              "</style>\n",
              "<table border=\"1\" class=\"dataframe\">\n",
              "  <thead>\n",
              "    <tr style=\"text-align: right;\">\n",
              "      <th></th>\n",
              "      <th>variance</th>\n",
              "      <th>skewness</th>\n",
              "      <th>curtosis</th>\n",
              "      <th>entropy</th>\n",
              "      <th>class</th>\n",
              "    </tr>\n",
              "  </thead>\n",
              "  <tbody>\n",
              "    <tr>\n",
              "      <th>0</th>\n",
              "      <td>-0.89569</td>\n",
              "      <td>3.00250</td>\n",
              "      <td>-3.606700</td>\n",
              "      <td>-3.44570</td>\n",
              "      <td>1</td>\n",
              "    </tr>\n",
              "    <tr>\n",
              "      <th>1</th>\n",
              "      <td>3.47690</td>\n",
              "      <td>-0.15314</td>\n",
              "      <td>2.530000</td>\n",
              "      <td>2.44950</td>\n",
              "      <td>0</td>\n",
              "    </tr>\n",
              "    <tr>\n",
              "      <th>2</th>\n",
              "      <td>3.91020</td>\n",
              "      <td>6.06500</td>\n",
              "      <td>-2.453400</td>\n",
              "      <td>-0.68234</td>\n",
              "      <td>0</td>\n",
              "    </tr>\n",
              "    <tr>\n",
              "      <th>3</th>\n",
              "      <td>0.60731</td>\n",
              "      <td>3.95440</td>\n",
              "      <td>-4.772000</td>\n",
              "      <td>-4.48530</td>\n",
              "      <td>1</td>\n",
              "    </tr>\n",
              "    <tr>\n",
              "      <th>4</th>\n",
              "      <td>2.37180</td>\n",
              "      <td>7.49080</td>\n",
              "      <td>0.015989</td>\n",
              "      <td>-1.74140</td>\n",
              "      <td>0</td>\n",
              "    </tr>\n",
              "  </tbody>\n",
              "</table>\n",
              "</div>"
            ],
            "text/plain": [
              "   variance  skewness  curtosis  entropy  class\n",
              "0  -0.89569   3.00250 -3.606700 -3.44570      1\n",
              "1   3.47690  -0.15314  2.530000  2.44950      0\n",
              "2   3.91020   6.06500 -2.453400 -0.68234      0\n",
              "3   0.60731   3.95440 -4.772000 -4.48530      1\n",
              "4   2.37180   7.49080  0.015989 -1.74140      0"
            ]
          },
          "metadata": {},
          "execution_count": 2
        }
      ]
    },
    {
      "cell_type": "markdown",
      "metadata": {
        "id": "44ed20c2"
      },
      "source": [
        "### Step 3: Investitigate the data\n",
        "- Check how many classes (class)\n",
        "    - HINT: use [unique()](https://pandas.pydata.org/docs/reference/api/pandas.unique.html)\n",
        "- Check for missing data\n",
        "    - HINT: use [isna()](https://pandas.pydata.org/docs/reference/api/pandas.DataFrame.isna.html)[.sum()](https://pandas.pydata.org/docs/reference/api/pandas.DataFrame.sum.html)"
      ],
      "id": "44ed20c2"
    },
    {
      "cell_type": "code",
      "metadata": {
        "id": "235f48b6",
        "outputId": "de16b8dd-9891-4fc8-ea1d-b26d66f5e500",
        "colab": {
          "base_uri": "https://localhost:8080/"
        }
      },
      "source": [
        "data['class'].unique()"
      ],
      "id": "235f48b6",
      "execution_count": 3,
      "outputs": [
        {
          "output_type": "execute_result",
          "data": {
            "text/plain": [
              "array([1, 0])"
            ]
          },
          "metadata": {},
          "execution_count": 3
        }
      ]
    },
    {
      "cell_type": "code",
      "metadata": {
        "id": "16f22f43",
        "outputId": "bbba001a-805a-424e-d493-88795912b673",
        "colab": {
          "base_uri": "https://localhost:8080/"
        }
      },
      "source": [
        "data.isna().sum()"
      ],
      "id": "16f22f43",
      "execution_count": 4,
      "outputs": [
        {
          "output_type": "execute_result",
          "data": {
            "text/plain": [
              "variance    0\n",
              "skewness    0\n",
              "curtosis    0\n",
              "entropy     0\n",
              "class       0\n",
              "dtype: int64"
            ]
          },
          "metadata": {},
          "execution_count": 4
        }
      ]
    },
    {
      "cell_type": "markdown",
      "metadata": {
        "id": "a9db20eb"
      },
      "source": [
        "### Step 4: Divite data into feature vectors and labels\n",
        "- Assign the feature vectors to $X$\n",
        "    - HINT: that is all but the last column of the data\n",
        "- Assign the labels to $y$\n",
        "    - HINT: that is the last column (**class**)"
      ],
      "id": "a9db20eb"
    },
    {
      "cell_type": "code",
      "metadata": {
        "id": "671d7340",
        "outputId": "495ff364-f636-4a59-de5b-3d61a3251acf",
        "colab": {
          "base_uri": "https://localhost:8080/",
          "height": 204
        }
      },
      "source": [
        "X = data.iloc[:,:-1]\n",
        "y = data.iloc[:,-1]\n",
        "X.head()"
      ],
      "id": "671d7340",
      "execution_count": 6,
      "outputs": [
        {
          "output_type": "execute_result",
          "data": {
            "text/html": [
              "<div>\n",
              "<style scoped>\n",
              "    .dataframe tbody tr th:only-of-type {\n",
              "        vertical-align: middle;\n",
              "    }\n",
              "\n",
              "    .dataframe tbody tr th {\n",
              "        vertical-align: top;\n",
              "    }\n",
              "\n",
              "    .dataframe thead th {\n",
              "        text-align: right;\n",
              "    }\n",
              "</style>\n",
              "<table border=\"1\" class=\"dataframe\">\n",
              "  <thead>\n",
              "    <tr style=\"text-align: right;\">\n",
              "      <th></th>\n",
              "      <th>variance</th>\n",
              "      <th>skewness</th>\n",
              "      <th>curtosis</th>\n",
              "      <th>entropy</th>\n",
              "    </tr>\n",
              "  </thead>\n",
              "  <tbody>\n",
              "    <tr>\n",
              "      <th>0</th>\n",
              "      <td>-0.89569</td>\n",
              "      <td>3.00250</td>\n",
              "      <td>-3.606700</td>\n",
              "      <td>-3.44570</td>\n",
              "    </tr>\n",
              "    <tr>\n",
              "      <th>1</th>\n",
              "      <td>3.47690</td>\n",
              "      <td>-0.15314</td>\n",
              "      <td>2.530000</td>\n",
              "      <td>2.44950</td>\n",
              "    </tr>\n",
              "    <tr>\n",
              "      <th>2</th>\n",
              "      <td>3.91020</td>\n",
              "      <td>6.06500</td>\n",
              "      <td>-2.453400</td>\n",
              "      <td>-0.68234</td>\n",
              "    </tr>\n",
              "    <tr>\n",
              "      <th>3</th>\n",
              "      <td>0.60731</td>\n",
              "      <td>3.95440</td>\n",
              "      <td>-4.772000</td>\n",
              "      <td>-4.48530</td>\n",
              "    </tr>\n",
              "    <tr>\n",
              "      <th>4</th>\n",
              "      <td>2.37180</td>\n",
              "      <td>7.49080</td>\n",
              "      <td>0.015989</td>\n",
              "      <td>-1.74140</td>\n",
              "    </tr>\n",
              "  </tbody>\n",
              "</table>\n",
              "</div>"
            ],
            "text/plain": [
              "   variance  skewness  curtosis  entropy\n",
              "0  -0.89569   3.00250 -3.606700 -3.44570\n",
              "1   3.47690  -0.15314  2.530000  2.44950\n",
              "2   3.91020   6.06500 -2.453400 -0.68234\n",
              "3   0.60731   3.95440 -4.772000 -4.48530\n",
              "4   2.37180   7.49080  0.015989 -1.74140"
            ]
          },
          "metadata": {},
          "execution_count": 6
        }
      ]
    },
    {
      "cell_type": "code",
      "metadata": {
        "id": "7a7c76f5",
        "outputId": "f8d5068b-3161-4641-dd90-15d70a74a2e5",
        "colab": {
          "base_uri": "https://localhost:8080/"
        }
      },
      "source": [
        "y.head()"
      ],
      "id": "7a7c76f5",
      "execution_count": 7,
      "outputs": [
        {
          "output_type": "execute_result",
          "data": {
            "text/plain": [
              "0    1\n",
              "1    0\n",
              "2    0\n",
              "3    1\n",
              "4    0\n",
              "Name: class, dtype: int64"
            ]
          },
          "metadata": {},
          "execution_count": 7
        }
      ]
    },
    {
      "cell_type": "markdown",
      "metadata": {
        "id": "5c768c6c"
      },
      "source": [
        "### Step 5: Create training and test datasets\n",
        "- Split $X$ and $y$ into train and test sets using **train_test_split** with **test_size=.4**"
      ],
      "id": "5c768c6c"
    },
    {
      "cell_type": "code",
      "metadata": {
        "id": "d7878b4d"
      },
      "source": [
        "X_train, X_test, y_train, y_test = train_test_split(X, y, test_size=.4, random_state=42)"
      ],
      "id": "d7878b4d",
      "execution_count": 8,
      "outputs": []
    },
    {
      "cell_type": "markdown",
      "metadata": {
        "id": "aaf02924"
      },
      "source": [
        "### Step 6: Create and compile the model\n",
        "- Create a **Sequential** model\n",
        "    - **Dense** with 8 nodes with **input_dim=4, activaition='relu'**\n",
        "    - **Dense** with 1 (the output node) with **activaition='sigmoid'**\n",
        "- Complie the model with **optimizer='adam', loss='binary_crossentropy', metrics=['accuracy']**"
      ],
      "id": "aaf02924"
    },
    {
      "cell_type": "code",
      "metadata": {
        "id": "35c0a015"
      },
      "source": [
        "model = Sequential()\n",
        "model.add(Dense(8, input_dim = 4, activation='relu'))\n",
        "model.add(Dense(1, activation='sigmoid'))\n",
        "model.compile(optimizer='adam', loss='binary_crossentropy', metrics=['accuracy'])"
      ],
      "id": "35c0a015",
      "execution_count": 21,
      "outputs": []
    },
    {
      "cell_type": "markdown",
      "metadata": {
        "id": "d7d9ac1a"
      },
      "source": [
        "### Step 7: Fit and test the accuracy\n",
        "- Fit the model on training data with **epochs=20**\n",
        "- Evaluate the model with test data with **verbose=2**"
      ],
      "id": "d7d9ac1a"
    },
    {
      "cell_type": "code",
      "metadata": {
        "id": "a5ef7fe4",
        "outputId": "5fdeff5a-8521-4389-cfd6-b703b28e3acb",
        "colab": {
          "base_uri": "https://localhost:8080/"
        }
      },
      "source": [
        "model.fit(X_train, y_train, epochs=20)\n",
        "model.evaluate(X_test, y_test, verbose=2)"
      ],
      "id": "a5ef7fe4",
      "execution_count": 22,
      "outputs": [
        {
          "output_type": "stream",
          "name": "stdout",
          "text": [
            "Epoch 1/20\n",
            "26/26 [==============================] - 0s 1ms/step - loss: 1.8821 - accuracy: 0.5553\n",
            "Epoch 2/20\n",
            "26/26 [==============================] - 0s 1ms/step - loss: 1.6350 - accuracy: 0.5553\n",
            "Epoch 3/20\n",
            "26/26 [==============================] - 0s 1ms/step - loss: 1.4252 - accuracy: 0.5565\n",
            "Epoch 4/20\n",
            "26/26 [==============================] - 0s 1ms/step - loss: 1.2408 - accuracy: 0.5577\n",
            "Epoch 5/20\n",
            "26/26 [==============================] - 0s 2ms/step - loss: 1.0961 - accuracy: 0.5626\n",
            "Epoch 6/20\n",
            "26/26 [==============================] - 0s 2ms/step - loss: 0.9731 - accuracy: 0.5638\n",
            "Epoch 7/20\n",
            "26/26 [==============================] - 0s 1ms/step - loss: 0.8733 - accuracy: 0.5650\n",
            "Epoch 8/20\n",
            "26/26 [==============================] - 0s 1ms/step - loss: 0.7873 - accuracy: 0.5662\n",
            "Epoch 9/20\n",
            "26/26 [==============================] - 0s 2ms/step - loss: 0.7137 - accuracy: 0.5650\n",
            "Epoch 10/20\n",
            "26/26 [==============================] - 0s 2ms/step - loss: 0.6466 - accuracy: 0.5699\n",
            "Epoch 11/20\n",
            "26/26 [==============================] - 0s 2ms/step - loss: 0.5867 - accuracy: 0.5832\n",
            "Epoch 12/20\n",
            "26/26 [==============================] - 0s 3ms/step - loss: 0.5342 - accuracy: 0.6100\n",
            "Epoch 13/20\n",
            "26/26 [==============================] - 0s 2ms/step - loss: 0.4878 - accuracy: 0.6646\n",
            "Epoch 14/20\n",
            "26/26 [==============================] - 0s 2ms/step - loss: 0.4469 - accuracy: 0.7047\n",
            "Epoch 15/20\n",
            "26/26 [==============================] - 0s 2ms/step - loss: 0.4120 - accuracy: 0.7290\n",
            "Epoch 16/20\n",
            "26/26 [==============================] - 0s 2ms/step - loss: 0.3822 - accuracy: 0.7631\n",
            "Epoch 17/20\n",
            "26/26 [==============================] - 0s 2ms/step - loss: 0.3572 - accuracy: 0.8202\n",
            "Epoch 18/20\n",
            "26/26 [==============================] - 0s 1ms/step - loss: 0.3358 - accuracy: 0.8493\n",
            "Epoch 19/20\n",
            "26/26 [==============================] - 0s 1ms/step - loss: 0.3182 - accuracy: 0.8809\n",
            "Epoch 20/20\n",
            "26/26 [==============================] - 0s 1ms/step - loss: 0.3009 - accuracy: 0.9332\n",
            "18/18 - 0s - loss: 0.2807 - accuracy: 0.9545\n"
          ]
        },
        {
          "output_type": "execute_result",
          "data": {
            "text/plain": [
              "[0.28072458505630493, 0.9544626474380493]"
            ]
          },
          "metadata": {},
          "execution_count": 22
        }
      ]
    },
    {
      "cell_type": "markdown",
      "metadata": {
        "id": "12ee1716"
      },
      "source": [
        "### Step 8 (Optional): Add another hidden layer\n",
        "- Add another hidden layer in the model\n",
        "- Test performance"
      ],
      "id": "12ee1716"
    },
    {
      "cell_type": "code",
      "metadata": {
        "id": "26bff70b"
      },
      "source": [
        "model = Sequential()\n",
        "model.add(Dense(8, input_dim = 4, activation='relu'))\n",
        "model.add(Dense(4, activation='relu'))\n",
        "model.add(Dense(1, activation='sigmoid'))\n",
        "model.compile(optimizer='adam', loss='binary_crossentropy', metrics=['accuracy'])"
      ],
      "id": "26bff70b",
      "execution_count": 31,
      "outputs": []
    },
    {
      "cell_type": "code",
      "metadata": {
        "id": "4c50441b",
        "outputId": "36d0893e-33fc-4905-ec90-9b42b5f3c19b",
        "colab": {
          "base_uri": "https://localhost:8080/"
        }
      },
      "source": [
        "model.fit(X_train, y_train, epochs=20)\n",
        "model.evaluate(X_test, y_test, verbose=2)"
      ],
      "id": "4c50441b",
      "execution_count": 32,
      "outputs": [
        {
          "output_type": "stream",
          "name": "stdout",
          "text": [
            "Epoch 1/20\n",
            "26/26 [==============================] - 1s 1ms/step - loss: 1.3835 - accuracy: 0.4399\n",
            "Epoch 2/20\n",
            "26/26 [==============================] - 0s 1ms/step - loss: 1.1401 - accuracy: 0.4435\n",
            "Epoch 3/20\n",
            "26/26 [==============================] - 0s 2ms/step - loss: 0.9404 - accuracy: 0.4484\n",
            "Epoch 4/20\n",
            "26/26 [==============================] - 0s 1ms/step - loss: 0.7894 - accuracy: 0.4593\n",
            "Epoch 5/20\n",
            "26/26 [==============================] - 0s 2ms/step - loss: 0.6777 - accuracy: 0.4957\n",
            "Epoch 6/20\n",
            "26/26 [==============================] - 0s 1ms/step - loss: 0.6009 - accuracy: 0.6282\n",
            "Epoch 7/20\n",
            "26/26 [==============================] - 0s 2ms/step - loss: 0.5310 - accuracy: 0.7631\n",
            "Epoch 8/20\n",
            "26/26 [==============================] - 0s 2ms/step - loss: 0.4526 - accuracy: 0.8044\n",
            "Epoch 9/20\n",
            "26/26 [==============================] - 0s 2ms/step - loss: 0.3933 - accuracy: 0.8445\n",
            "Epoch 10/20\n",
            "26/26 [==============================] - 0s 2ms/step - loss: 0.3476 - accuracy: 0.8688\n",
            "Epoch 11/20\n",
            "26/26 [==============================] - 0s 2ms/step - loss: 0.3089 - accuracy: 0.8809\n",
            "Epoch 12/20\n",
            "26/26 [==============================] - 0s 2ms/step - loss: 0.2744 - accuracy: 0.8919\n",
            "Epoch 13/20\n",
            "26/26 [==============================] - 0s 2ms/step - loss: 0.2419 - accuracy: 0.9040\n",
            "Epoch 14/20\n",
            "26/26 [==============================] - 0s 1ms/step - loss: 0.2115 - accuracy: 0.9137\n",
            "Epoch 15/20\n",
            "26/26 [==============================] - 0s 2ms/step - loss: 0.1844 - accuracy: 0.9259\n",
            "Epoch 16/20\n",
            "26/26 [==============================] - 0s 2ms/step - loss: 0.1617 - accuracy: 0.9368\n",
            "Epoch 17/20\n",
            "26/26 [==============================] - 0s 1ms/step - loss: 0.1431 - accuracy: 0.9490\n",
            "Epoch 18/20\n",
            "26/26 [==============================] - 0s 1ms/step - loss: 0.1280 - accuracy: 0.9538\n",
            "Epoch 19/20\n",
            "26/26 [==============================] - 0s 1ms/step - loss: 0.1162 - accuracy: 0.9563\n",
            "Epoch 20/20\n",
            "26/26 [==============================] - 0s 1ms/step - loss: 0.1059 - accuracy: 0.9635\n",
            "18/18 - 0s - loss: 0.1007 - accuracy: 0.9581\n"
          ]
        },
        {
          "output_type": "execute_result",
          "data": {
            "text/plain": [
              "[0.10065844655036926, 0.9581056237220764]"
            ]
          },
          "metadata": {},
          "execution_count": 32
        }
      ]
    }
  ]
}