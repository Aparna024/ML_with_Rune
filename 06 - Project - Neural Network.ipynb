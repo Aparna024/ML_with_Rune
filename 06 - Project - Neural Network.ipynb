{
  "nbformat": 4,
  "nbformat_minor": 5,
  "metadata": {
    "kernelspec": {
      "display_name": "Python 3",
      "language": "python",
      "name": "python3"
    },
    "language_info": {
      "codemirror_mode": {
        "name": "ipython",
        "version": 3
      },
      "file_extension": ".py",
      "mimetype": "text/x-python",
      "name": "python",
      "nbconvert_exporter": "python",
      "pygments_lexer": "ipython3",
      "version": "3.8.8"
    },
    "colab": {
      "name": "06 - Project - Neural Network.ipynb",
      "provenance": [],
      "include_colab_link": true
    }
  },
  "cells": [
    {
      "cell_type": "markdown",
      "metadata": {
        "id": "view-in-github",
        "colab_type": "text"
      },
      "source": [
        "<a href=\"https://colab.research.google.com/github/adel-nouar/ML_with_Rune/blob/main/06%20-%20Project%20-%20Neural%20Network.ipynb\" target=\"_parent\"><img src=\"https://colab.research.google.com/assets/colab-badge.svg\" alt=\"Open In Colab\"/></a>"
      ]
    },
    {
      "cell_type": "markdown",
      "metadata": {
        "id": "8b1dcffe"
      },
      "source": [
        "# Project: Neural Network\n",
        "- Diabetes Classification\n",
        "- Given a dataset of various metrics can we predict if a patient has diabetes"
      ],
      "id": "8b1dcffe"
    },
    {
      "cell_type": "markdown",
      "metadata": {
        "id": "9631cb36"
      },
      "source": [
        "### Step 1: Import libraries"
      ],
      "id": "9631cb36"
    },
    {
      "cell_type": "code",
      "metadata": {
        "id": "d4cd816d"
      },
      "source": [
        "import pandas as pd\n",
        "import numpy as np\n",
        "import tensorflow as tf\n",
        "from tensorflow.keras.layers import Input, Dense\n",
        "from tensorflow.keras.models import Sequential\n",
        "from sklearn.model_selection import train_test_split\n",
        "import matplotlib.pyplot as plt\n",
        "%matplotlib inline"
      ],
      "id": "d4cd816d",
      "execution_count": 1,
      "outputs": []
    },
    {
      "cell_type": "markdown",
      "metadata": {
        "id": "c42bbc01"
      },
      "source": [
        "### Step 2: Read the data\n",
        "- Use Pandas [read_csv](https://pandas.pydata.org/pandas-docs/stable/reference/api/pandas.read_csv.html) method to read **files/diabetes.csv**"
      ],
      "id": "c42bbc01"
    },
    {
      "cell_type": "code",
      "metadata": {
        "id": "182c1888",
        "outputId": "1f4aaa49-590d-458c-b465-d01d57f94d74",
        "colab": {
          "base_uri": "https://localhost:8080/",
          "height": 221
        }
      },
      "source": [
        "data = pd.read_csv('./files/diabetes.csv')\n",
        "data.head()"
      ],
      "id": "182c1888",
      "execution_count": 2,
      "outputs": [
        {
          "output_type": "execute_result",
          "data": {
            "text/html": [
              "<div>\n",
              "<style scoped>\n",
              "    .dataframe tbody tr th:only-of-type {\n",
              "        vertical-align: middle;\n",
              "    }\n",
              "\n",
              "    .dataframe tbody tr th {\n",
              "        vertical-align: top;\n",
              "    }\n",
              "\n",
              "    .dataframe thead th {\n",
              "        text-align: right;\n",
              "    }\n",
              "</style>\n",
              "<table border=\"1\" class=\"dataframe\">\n",
              "  <thead>\n",
              "    <tr style=\"text-align: right;\">\n",
              "      <th></th>\n",
              "      <th>Number of times pregnant</th>\n",
              "      <th>Plasma glucose concentration</th>\n",
              "      <th>Diastolic blood pressure</th>\n",
              "      <th>Triceps skin fold thickness</th>\n",
              "      <th>2-Hour serum insulin</th>\n",
              "      <th>Body mass index</th>\n",
              "      <th>Diabetes pedigree function</th>\n",
              "      <th>Age</th>\n",
              "      <th>Class variable</th>\n",
              "    </tr>\n",
              "  </thead>\n",
              "  <tbody>\n",
              "    <tr>\n",
              "      <th>0</th>\n",
              "      <td>6</td>\n",
              "      <td>148</td>\n",
              "      <td>72</td>\n",
              "      <td>35</td>\n",
              "      <td>0</td>\n",
              "      <td>33.6</td>\n",
              "      <td>0.627</td>\n",
              "      <td>50</td>\n",
              "      <td>1</td>\n",
              "    </tr>\n",
              "    <tr>\n",
              "      <th>1</th>\n",
              "      <td>1</td>\n",
              "      <td>85</td>\n",
              "      <td>66</td>\n",
              "      <td>29</td>\n",
              "      <td>0</td>\n",
              "      <td>26.6</td>\n",
              "      <td>0.351</td>\n",
              "      <td>31</td>\n",
              "      <td>0</td>\n",
              "    </tr>\n",
              "    <tr>\n",
              "      <th>2</th>\n",
              "      <td>8</td>\n",
              "      <td>183</td>\n",
              "      <td>64</td>\n",
              "      <td>0</td>\n",
              "      <td>0</td>\n",
              "      <td>23.3</td>\n",
              "      <td>0.672</td>\n",
              "      <td>32</td>\n",
              "      <td>1</td>\n",
              "    </tr>\n",
              "    <tr>\n",
              "      <th>3</th>\n",
              "      <td>1</td>\n",
              "      <td>89</td>\n",
              "      <td>66</td>\n",
              "      <td>23</td>\n",
              "      <td>94</td>\n",
              "      <td>28.1</td>\n",
              "      <td>0.167</td>\n",
              "      <td>21</td>\n",
              "      <td>0</td>\n",
              "    </tr>\n",
              "    <tr>\n",
              "      <th>4</th>\n",
              "      <td>0</td>\n",
              "      <td>137</td>\n",
              "      <td>40</td>\n",
              "      <td>35</td>\n",
              "      <td>168</td>\n",
              "      <td>43.1</td>\n",
              "      <td>2.288</td>\n",
              "      <td>33</td>\n",
              "      <td>1</td>\n",
              "    </tr>\n",
              "  </tbody>\n",
              "</table>\n",
              "</div>"
            ],
            "text/plain": [
              "   Number of times pregnant  Plasma glucose concentration  ...  Age  Class variable\n",
              "0                         6                           148  ...   50               1\n",
              "1                         1                            85  ...   31               0\n",
              "2                         8                           183  ...   32               1\n",
              "3                         1                            89  ...   21               0\n",
              "4                         0                           137  ...   33               1\n",
              "\n",
              "[5 rows x 9 columns]"
            ]
          },
          "metadata": {},
          "execution_count": 2
        }
      ]
    },
    {
      "cell_type": "markdown",
      "metadata": {
        "id": "afaa56d9"
      },
      "source": [
        "### Step 3: Check for data quality\n",
        "- Check **.isna().sum()**\n",
        "- Check **.dtypes**"
      ],
      "id": "afaa56d9"
    },
    {
      "cell_type": "code",
      "metadata": {
        "id": "87c86774",
        "outputId": "30c05649-3d55-485b-e0ca-77d1aaa77e71",
        "colab": {
          "base_uri": "https://localhost:8080/"
        }
      },
      "source": [
        "data.isna().sum()"
      ],
      "id": "87c86774",
      "execution_count": 3,
      "outputs": [
        {
          "output_type": "execute_result",
          "data": {
            "text/plain": [
              "Number of times pregnant        0\n",
              "Plasma glucose concentration    0\n",
              "Diastolic blood pressure        0\n",
              "Triceps skin fold thickness     0\n",
              "2-Hour serum insulin            0\n",
              "Body mass index                 0\n",
              "Diabetes pedigree function      0\n",
              "Age                             0\n",
              "Class variable                  0\n",
              "dtype: int64"
            ]
          },
          "metadata": {},
          "execution_count": 3
        }
      ]
    },
    {
      "cell_type": "code",
      "metadata": {
        "id": "f1e40926",
        "outputId": "edb0374d-14bc-4ce9-d204-9003241d42a3",
        "colab": {
          "base_uri": "https://localhost:8080/"
        }
      },
      "source": [
        "data.dtypes"
      ],
      "id": "f1e40926",
      "execution_count": 4,
      "outputs": [
        {
          "output_type": "execute_result",
          "data": {
            "text/plain": [
              "Number of times pregnant          int64\n",
              "Plasma glucose concentration      int64\n",
              "Diastolic blood pressure          int64\n",
              "Triceps skin fold thickness       int64\n",
              "2-Hour serum insulin              int64\n",
              "Body mass index                 float64\n",
              "Diabetes pedigree function      float64\n",
              "Age                               int64\n",
              "Class variable                    int64\n",
              "dtype: object"
            ]
          },
          "metadata": {},
          "execution_count": 4
        }
      ]
    },
    {
      "cell_type": "markdown",
      "metadata": {
        "id": "c11677e0"
      },
      "source": [
        "### Step 4: Create dataset\n",
        "- Assign **X** to all but the last column\n",
        "- Assign **y** to the last column"
      ],
      "id": "c11677e0"
    },
    {
      "cell_type": "code",
      "metadata": {
        "id": "1a6e8fde"
      },
      "source": [
        "X = data.iloc[:,:-1]\n",
        "y = data.iloc[:, -1]"
      ],
      "id": "1a6e8fde",
      "execution_count": 5,
      "outputs": []
    },
    {
      "cell_type": "markdown",
      "metadata": {
        "id": "8017f19c"
      },
      "source": [
        "### Step 5: Create training and test set\n",
        "- Use **train_test_split** to create **X_train, X_test, y_train, y_test**."
      ],
      "id": "8017f19c"
    },
    {
      "cell_type": "code",
      "metadata": {
        "id": "afd3a92f"
      },
      "source": [
        "X_train, X_test, y_train, y_test = train_test_split(X, y, random_state=42)"
      ],
      "id": "afd3a92f",
      "execution_count": 6,
      "outputs": []
    },
    {
      "cell_type": "markdown",
      "metadata": {
        "id": "2ca69460"
      },
      "source": [
        "### Step 6: Calculate average accuracy for 10 runs\n",
        "- Create an empty list and assign it to **accuracies**\n",
        "- Loop over **i** over 10 integers.\n",
        "    - Set the random seed: **tf.random.set_seed(i)**\n",
        "    - Create a **Sequential** model\n",
        "    - Add a **Dense** layer with one exit node and **input_dim=8**, and **activation='sigmoid'**\n",
        "    - Compile the model with **loss='binary_crossentropy', optimizer='adam', metrics=['accuracy']**\n",
        "    - Fit the model with **epochs=1500, batch_size=100, verbose=0**\n",
        "    - Calculate the accuracy with **evaluate** on **X_test** and **y_test**\n",
        "        - The second return variable is the accuracy\n",
        "    - Append the accuracy (possibly multiplied by 100) to **accuraries**\n",
        "- Calculate the average value"
      ],
      "id": "2ca69460"
    },
    {
      "cell_type": "code",
      "metadata": {
        "id": "3bc1af12",
        "outputId": "3ae72b47-4040-4d99-f3dd-850ecab7f133",
        "colab": {
          "base_uri": "https://localhost:8080/"
        }
      },
      "source": [
        "accuracies = []\n",
        "\n",
        "for i in range(10):\n",
        "  tf.random.set_seed(i)\n",
        "  model = Sequential()\n",
        "  model.add(Dense(1, input_dim=8, activation='sigmoid'))\n",
        "  model.compile(loss='binary_crossentropy', optimizer='adam', metrics=['accuracy'])\n",
        "  model.fit(X_train, y_train, epochs=1500, batch_size=100, verbose=0)\n",
        "  _, accuracy = model.evaluate(X_test, y_test)\n",
        "  accuracies.append(accuracy*100)"
      ],
      "id": "3bc1af12",
      "execution_count": 7,
      "outputs": [
        {
          "output_type": "stream",
          "name": "stdout",
          "text": [
            "6/6 [==============================] - 0s 3ms/step - loss: 0.5216 - accuracy: 0.7344\n",
            "6/6 [==============================] - 0s 3ms/step - loss: 0.5231 - accuracy: 0.7552\n",
            "6/6 [==============================] - 0s 2ms/step - loss: 0.5192 - accuracy: 0.7604\n",
            "6/6 [==============================] - 0s 2ms/step - loss: 0.5193 - accuracy: 0.7500\n",
            "6/6 [==============================] - 0s 2ms/step - loss: 0.5285 - accuracy: 0.7552\n",
            "6/6 [==============================] - 0s 2ms/step - loss: 0.5209 - accuracy: 0.7396\n",
            "6/6 [==============================] - 0s 3ms/step - loss: 0.5206 - accuracy: 0.7448\n",
            "6/6 [==============================] - 0s 2ms/step - loss: 0.5289 - accuracy: 0.7552\n",
            "6/6 [==============================] - 0s 2ms/step - loss: 0.5219 - accuracy: 0.7448\n",
            "6/6 [==============================] - 0s 2ms/step - loss: 0.5238 - accuracy: 0.7760\n"
          ]
        }
      ]
    },
    {
      "cell_type": "code",
      "metadata": {
        "id": "491382d8",
        "outputId": "8c62f929-efc7-4508-c940-44d427a31a14",
        "colab": {
          "base_uri": "https://localhost:8080/"
        }
      },
      "source": [
        "sum(accuracies) / len(accuracies)"
      ],
      "id": "491382d8",
      "execution_count": 8,
      "outputs": [
        {
          "output_type": "execute_result",
          "data": {
            "text/plain": [
              "75.15625"
            ]
          },
          "metadata": {},
          "execution_count": 8
        }
      ]
    },
    {
      "cell_type": "markdown",
      "metadata": {
        "id": "b8ff3d82"
      },
      "source": [
        "### Step 7: Predict values\n",
        "- Predict all values with model on **X**\n",
        "- Make it into class ids with **np.where(y_pred < 0.5, 0, 1)** *(assuming **y_pred** is the predictions)*"
      ],
      "id": "b8ff3d82"
    },
    {
      "cell_type": "code",
      "metadata": {
        "id": "b12e5f14"
      },
      "source": [
        "y_pred = model.predict(X)\n",
        "y_pred = np.where(y_pred < .5, 0, 1)"
      ],
      "id": "b12e5f14",
      "execution_count": 9,
      "outputs": []
    },
    {
      "cell_type": "markdown",
      "metadata": {
        "id": "7e3999bd"
      },
      "source": [
        "### Step 8 (Optional): Visualize correct vs incorrect predictions\n",
        "- Calculate the ones that differ\n",
        "    - **np.abs(y.to_numpy() - y_pred.T)** *(assuming the variables names are correct)*\n",
        "    - Incorrect predictions will be 1, correct will be 0\n",
        "- Make a scatter plot with the two variables and the correctness calculations as colors"
      ],
      "id": "7e3999bd"
    },
    {
      "cell_type": "code",
      "metadata": {
        "id": "3483c8ff",
        "outputId": "0dc97cdd-223a-4be3-bc9b-6d372b689128",
        "colab": {
          "base_uri": "https://localhost:8080/",
          "height": 282
        }
      },
      "source": [
        "differ = np.abs(y.to_numpy() - y_pred.T)\n",
        "\n",
        "fig, ax = plt.subplots()\n",
        "ax.scatter(x=X['Body mass index'], y=X['Age'], c = differ, alpha = .35)"
      ],
      "id": "3483c8ff",
      "execution_count": 12,
      "outputs": [
        {
          "output_type": "execute_result",
          "data": {
            "text/plain": [
              "<matplotlib.collections.PathCollection at 0x7f7966dc9d50>"
            ]
          },
          "metadata": {},
          "execution_count": 12
        },
        {
          "output_type": "display_data",
          "data": {
            "image/png": "[encoded data removed]",
            "text/plain": [
              "<Figure size 432x288 with 1 Axes>"
            ]
          },
          "metadata": {
            "needs_background": "light"
          }
        }
      ]
    }
  ]
}