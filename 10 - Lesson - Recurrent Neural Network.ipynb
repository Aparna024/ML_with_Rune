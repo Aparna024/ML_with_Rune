{
  "nbformat": 4,
  "nbformat_minor": 5,
  "metadata": {
    "kernelspec": {
      "display_name": "Python 3",
      "language": "python",
      "name": "python3"
    },
    "language_info": {
      "codemirror_mode": {
        "name": "ipython",
        "version": 3
      },
      "file_extension": ".py",
      "mimetype": "text/x-python",
      "name": "python",
      "nbconvert_exporter": "python",
      "pygments_lexer": "ipython3",
      "version": "3.8.8"
    },
    "colab": {
      "name": "10 - Lesson - Recurrent Neural Network.ipynb",
      "provenance": [],
      "include_colab_link": true
    }
  },
  "cells": [
    {
      "cell_type": "markdown",
      "metadata": {
        "id": "view-in-github",
        "colab_type": "text"
      },
      "source": [
        "<a href=\"https://colab.research.google.com/github/adel-nouar/ML_with_Rune/blob/main/10%20-%20Lesson%20-%20Recurrent%20Neural%20Network.ipynb\" target=\"_parent\"><img src=\"https://colab.research.google.com/assets/colab-badge.svg\" alt=\"Open In Colab\"/></a>"
      ]
    },
    {
      "cell_type": "markdown",
      "metadata": {
        "id": "4993ca55"
      },
      "source": [
        "# Recurrent Neural Network (RNN)\n",
        "### Goal of lesson\n",
        "- Understand Recurrent Neural Network (RNN)\n",
        "- Build a RNN on a timeseries\n",
        "- Hover over the theory of RNN (LSTM cells)\n",
        "- Use the MinMaxScaler from sklearn.\n",
        "- Create a RNN model with tensorflow\n",
        "- Applying the Dropout techniques.\n",
        "- Predict stock prices and make weather forecast using RNN.\n",
        "\n",
        "### Feed-Forward Neural Network\n",
        "- Neural network that has connection only in one direction\n",
        "\n",
        "### Recurrent Neural Network\n",
        "- Neural network that generates output that feeds back into its own inputs\n",
        "- Can do one-to-many and many-to-many relationship (not possible for feed-forward neural networks)\n",
        "- This can generate sentences (while feed-forward neural network can only generate \"words\" or fixed sets of outputs)\n",
        "- For time series\n",
        "\n",
        "![RNN](https://github.com/adel-nouar/ML_with_Rune/blob/main/img/rnn.png?raw=1)\n",
        "\n",
        "### Examples Recurrent Neural Network\n",
        "- Google translate\n",
        "- Voice recognition\n",
        "- Video copy right violation"
      ],
      "id": "4993ca55"
    },
    {
      "cell_type": "markdown",
      "metadata": {
        "id": "11047afa"
      },
      "source": [
        "### Theory\n",
        "- It is complex - and luckily - not needed to understand in depth\n",
        "- Quote of the author of Keras (Francios Chollet):\n",
        "    - \"*You don't need to understand everything about the specific architecutre of an LSTM cell [...] just that LSTM cell is meant to allow past information to be reinjected at a later time.*\""
      ],
      "id": "11047afa"
    },
    {
      "cell_type": "markdown",
      "metadata": {
        "id": "61c11de8"
      },
      "source": [
        "> #### Programming Notes:\n",
        "> - Libraries used\n",
        ">     - [**pandas**](https://pandas.pydata.org) - a data analysis and manipulation tool\n",
        ">     - [**numpy**](http://numpy.org) - scientific computing with Python ([Lecture on NumPy](https://youtu.be/BpzpU8_j0-c))\n",
        ">     - [**matplotlib**](http://matplotlib.org) - visualization with Python ([Lecture on **visualization**](https://youtu.be/htIh8YHh4xs))\n",
        ">     - [**tensorflow**](https://www.tensorflow.org) - end-to-end open source machine learning platform\n",
        "> - Functionality and concepts used\n",
        ">     - [**CSV**](https://en.wikipedia.org/wiki/Comma-separated_values) file ([Lecture on CSV](https://youtu.be/LEyojSOg4EI))\n",
        ">     - [**read_csv()**](https://pandas.pydata.org/pandas-docs/stable/reference/api/pandas.read_csv.html) read a comma-separated values (csv) file into **pandas** DataFrame.\n",
        ">     - [**MinMaxScaler**](https://scikit-learn.org/stable/modules/generated/sklearn.preprocessing.MinMaxScaler.html) Transform features by scaling each feature to a given range\n",
        ">     - [**Sequential**](https://www.tensorflow.org/api_docs/python/tf/keras/Sequential) provides training and inference features for a model\n",
        ">     - [**Dense**](https://www.tensorflow.org/api_docs/python/tf/keras/layers/Dense) regular densely-connected Neural Network (NN) layer.\n",
        ">     - [**Dropout**](https://www.tensorflow.org/api_docs/python/tf/keras/layers/Dropout) applies Dropout to the input\n",
        ">     - [**LSTM**](https://www.tensorflow.org/api_docs/python/tf/keras/layers/LSTM) Long Short-Term Memory layer - Hochreiter 1997"
      ],
      "id": "61c11de8"
    },
    {
      "cell_type": "code",
      "metadata": {
        "id": "214586d1"
      },
      "source": [
        "import numpy as np\n",
        "import pandas as pd\n",
        "from sklearn.preprocessing import MinMaxScaler\n",
        "from tensorflow.keras.models import Sequential\n",
        "from tensorflow.keras.layers import Dense\n",
        "from tensorflow.keras.layers import LSTM\n",
        "from tensorflow.keras.layers import Dropout\n",
        "import matplotlib.pyplot as plt\n",
        "%matplotlib inline"
      ],
      "id": "214586d1",
      "execution_count": 1,
      "outputs": []
    },
    {
      "cell_type": "code",
      "metadata": {
        "id": "b4506af3"
      },
      "source": [
        "data = pd.read_csv('files/aapl.csv', parse_dates=True, index_col=0)"
      ],
      "id": "b4506af3",
      "execution_count": 2,
      "outputs": []
    },
    {
      "cell_type": "code",
      "metadata": {
        "id": "91768a79",
        "outputId": "498faafc-2f15-45d8-92a8-4c7b3c8073d2",
        "colab": {
          "base_uri": "https://localhost:8080/",
          "height": 238
        }
      },
      "source": [
        "data.head()"
      ],
      "id": "91768a79",
      "execution_count": 3,
      "outputs": [
        {
          "output_type": "execute_result",
          "data": {
            "text/html": [
              "<div>\n",
              "<style scoped>\n",
              "    .dataframe tbody tr th:only-of-type {\n",
              "        vertical-align: middle;\n",
              "    }\n",
              "\n",
              "    .dataframe tbody tr th {\n",
              "        vertical-align: top;\n",
              "    }\n",
              "\n",
              "    .dataframe thead th {\n",
              "        text-align: right;\n",
              "    }\n",
              "</style>\n",
              "<table border=\"1\" class=\"dataframe\">\n",
              "  <thead>\n",
              "    <tr style=\"text-align: right;\">\n",
              "      <th></th>\n",
              "      <th>High</th>\n",
              "      <th>Low</th>\n",
              "      <th>Open</th>\n",
              "      <th>Close</th>\n",
              "      <th>Volume</th>\n",
              "      <th>Adj Close</th>\n",
              "    </tr>\n",
              "    <tr>\n",
              "      <th>Date</th>\n",
              "      <th></th>\n",
              "      <th></th>\n",
              "      <th></th>\n",
              "      <th></th>\n",
              "      <th></th>\n",
              "      <th></th>\n",
              "    </tr>\n",
              "  </thead>\n",
              "  <tbody>\n",
              "    <tr>\n",
              "      <th>2000-01-03</th>\n",
              "      <td>1.004464</td>\n",
              "      <td>0.907924</td>\n",
              "      <td>0.936384</td>\n",
              "      <td>0.999442</td>\n",
              "      <td>535796800.0</td>\n",
              "      <td>0.858137</td>\n",
              "    </tr>\n",
              "    <tr>\n",
              "      <th>2000-01-04</th>\n",
              "      <td>0.987723</td>\n",
              "      <td>0.903460</td>\n",
              "      <td>0.966518</td>\n",
              "      <td>0.915179</td>\n",
              "      <td>512377600.0</td>\n",
              "      <td>0.785788</td>\n",
              "    </tr>\n",
              "    <tr>\n",
              "      <th>2000-01-05</th>\n",
              "      <td>0.987165</td>\n",
              "      <td>0.919643</td>\n",
              "      <td>0.926339</td>\n",
              "      <td>0.928571</td>\n",
              "      <td>778321600.0</td>\n",
              "      <td>0.797286</td>\n",
              "    </tr>\n",
              "    <tr>\n",
              "      <th>2000-01-06</th>\n",
              "      <td>0.955357</td>\n",
              "      <td>0.848214</td>\n",
              "      <td>0.947545</td>\n",
              "      <td>0.848214</td>\n",
              "      <td>767972800.0</td>\n",
              "      <td>0.728291</td>\n",
              "    </tr>\n",
              "    <tr>\n",
              "      <th>2000-01-07</th>\n",
              "      <td>0.901786</td>\n",
              "      <td>0.852679</td>\n",
              "      <td>0.861607</td>\n",
              "      <td>0.888393</td>\n",
              "      <td>460734400.0</td>\n",
              "      <td>0.762789</td>\n",
              "    </tr>\n",
              "  </tbody>\n",
              "</table>\n",
              "</div>"
            ],
            "text/plain": [
              "                High       Low      Open     Close       Volume  Adj Close\n",
              "Date                                                                      \n",
              "2000-01-03  1.004464  0.907924  0.936384  0.999442  535796800.0   0.858137\n",
              "2000-01-04  0.987723  0.903460  0.966518  0.915179  512377600.0   0.785788\n",
              "2000-01-05  0.987165  0.919643  0.926339  0.928571  778321600.0   0.797286\n",
              "2000-01-06  0.955357  0.848214  0.947545  0.848214  767972800.0   0.728291\n",
              "2000-01-07  0.901786  0.852679  0.861607  0.888393  460734400.0   0.762789"
            ]
          },
          "metadata": {},
          "execution_count": 3
        }
      ]
    },
    {
      "cell_type": "code",
      "metadata": {
        "id": "c28aa85e"
      },
      "source": [
        "data_train = data.loc['2000':'2019', 'Adj Close'].to_numpy()\n",
        "data_test = data.loc['2020', 'Adj Close'].to_numpy()"
      ],
      "id": "c28aa85e",
      "execution_count": 4,
      "outputs": []
    },
    {
      "cell_type": "code",
      "metadata": {
        "id": "cce54350",
        "outputId": "e7395a10-9924-40c4-e456-3f3016b77dd6",
        "colab": {
          "base_uri": "https://localhost:8080/"
        }
      },
      "source": [
        "data_train"
      ],
      "id": "cce54350",
      "execution_count": 5,
      "outputs": [
        {
          "output_type": "execute_result",
          "data": {
            "text/plain": [
              "array([ 0.85813743,  0.78578764,  0.79728615, ..., 71.49375916,\n",
              "       71.91808319, 72.44355774])"
            ]
          },
          "metadata": {},
          "execution_count": 5
        }
      ]
    },
    {
      "cell_type": "code",
      "metadata": {
        "id": "ef8c31cc"
      },
      "source": [
        "scaler = MinMaxScaler()\n",
        "data_train = scaler.fit_transform(data_train.reshape(-1, 1))\n",
        "data_test = scaler.transform(data_test.reshape(-1, 1))"
      ],
      "id": "ef8c31cc",
      "execution_count": 6,
      "outputs": []
    },
    {
      "cell_type": "code",
      "metadata": {
        "id": "50fec294",
        "outputId": "b8186dd2-e954-49e6-b1b1-3aac0fbb793c",
        "colab": {
          "base_uri": "https://localhost:8080/"
        }
      },
      "source": [
        "data_train"
      ],
      "id": "50fec294",
      "execution_count": 7,
      "outputs": [
        {
          "output_type": "execute_result",
          "data": {
            "text/plain": [
              "array([[0.00909405],\n",
              "       [0.00809256],\n",
              "       [0.00825172],\n",
              "       ...,\n",
              "       [0.98685262],\n",
              "       [0.99272623],\n",
              "       [1.        ]])"
            ]
          },
          "metadata": {},
          "execution_count": 7
        }
      ]
    },
    {
      "cell_type": "code",
      "metadata": {
        "id": "634963e9"
      },
      "source": [
        "def data_preparation(data):\n",
        "    x = []\n",
        "    y = []\n",
        "    \n",
        "    for i in range(40, len(data)):\n",
        "        x.append(data[i-40:i, 0])\n",
        "        y.append(data[i])\n",
        "        \n",
        "    x = np.array(x)\n",
        "    y = np.array(y)\n",
        "    \n",
        "    x = x.reshape(x.shape[0], x.shape[1], 1)\n",
        "    \n",
        "    return x, y"
      ],
      "id": "634963e9",
      "execution_count": 8,
      "outputs": []
    },
    {
      "cell_type": "code",
      "metadata": {
        "id": "a862658e"
      },
      "source": [
        "x_train, y_train = data_preparation(data_train)"
      ],
      "id": "a862658e",
      "execution_count": 9,
      "outputs": []
    },
    {
      "cell_type": "code",
      "metadata": {
        "id": "bfb9ef86",
        "outputId": "775e0294-5ba2-420b-d837-f8ff11a256cd",
        "colab": {
          "base_uri": "https://localhost:8080/"
        }
      },
      "source": [
        "x_train.shape, y_train.shape"
      ],
      "id": "bfb9ef86",
      "execution_count": 10,
      "outputs": [
        {
          "output_type": "execute_result",
          "data": {
            "text/plain": [
              "((4991, 40, 1), (4991, 1))"
            ]
          },
          "metadata": {},
          "execution_count": 10
        }
      ]
    },
    {
      "cell_type": "code",
      "metadata": {
        "id": "cef0d0ce"
      },
      "source": [
        "x_test, y_test = data_preparation(data_test)"
      ],
      "id": "cef0d0ce",
      "execution_count": 11,
      "outputs": []
    },
    {
      "cell_type": "code",
      "metadata": {
        "id": "6876052f"
      },
      "source": [
        "model = Sequential()\n",
        "model.add(LSTM(units=45, return_sequences=True, input_shape=(x_train.shape[1], 1)))\n",
        "model.add(LSTM(units=45, return_sequences=True))\n",
        "model.add(LSTM(units=45))\n",
        "model.add(Dense(units=1))\n",
        "\n",
        "model.compile(optimizer='adam', loss='mean_squared_error', metrics=['accuracy'])"
      ],
      "id": "6876052f",
      "execution_count": 12,
      "outputs": []
    },
    {
      "cell_type": "code",
      "metadata": {
        "id": "84c425e8",
        "outputId": "eea4e558-36ef-46a3-8e95-d2a91a05737d",
        "colab": {
          "base_uri": "https://localhost:8080/"
        }
      },
      "source": [
        "model.fit(x_train, y_train, epochs=5, batch_size=32)"
      ],
      "id": "84c425e8",
      "execution_count": 13,
      "outputs": [
        {
          "output_type": "stream",
          "name": "stdout",
          "text": [
            "Epoch 1/5\n",
            "156/156 [==============================] - 16s 63ms/step - loss: 0.0027 - accuracy: 4.0072e-04\n",
            "Epoch 2/5\n",
            "156/156 [==============================] - 10s 66ms/step - loss: 2.7305e-04 - accuracy: 4.0072e-04\n",
            "Epoch 3/5\n",
            "156/156 [==============================] - 10s 66ms/step - loss: 1.9204e-04 - accuracy: 4.0072e-04\n",
            "Epoch 4/5\n",
            "156/156 [==============================] - 10s 65ms/step - loss: 1.8739e-04 - accuracy: 4.0072e-04\n",
            "Epoch 5/5\n",
            "156/156 [==============================] - 10s 67ms/step - loss: 1.4347e-04 - accuracy: 4.0072e-04\n"
          ]
        },
        {
          "output_type": "execute_result",
          "data": {
            "text/plain": [
              "<keras.callbacks.History at 0x7f10d54cc190>"
            ]
          },
          "metadata": {},
          "execution_count": 13
        }
      ]
    },
    {
      "cell_type": "code",
      "metadata": {
        "id": "3fd1baa6"
      },
      "source": [
        "y_pred = model.predict(x_test)"
      ],
      "id": "3fd1baa6",
      "execution_count": 14,
      "outputs": []
    },
    {
      "cell_type": "code",
      "metadata": {
        "id": "f491550e",
        "outputId": "f2f2cc7a-02c8-4718-cc12-c89a507c27eb",
        "colab": {
          "base_uri": "https://localhost:8080/"
        }
      },
      "source": [
        "y_pred.shape"
      ],
      "id": "f491550e",
      "execution_count": 15,
      "outputs": [
        {
          "output_type": "execute_result",
          "data": {
            "text/plain": [
              "(213, 1)"
            ]
          },
          "metadata": {},
          "execution_count": 15
        }
      ]
    },
    {
      "cell_type": "code",
      "metadata": {
        "id": "c5b0c999",
        "outputId": "462de6b2-1fa8-404e-a9da-65db39f737ef",
        "colab": {
          "base_uri": "https://localhost:8080/",
          "height": 282
        }
      },
      "source": [
        "fig, ax = plt.subplots()\n",
        "\n",
        "ax.plot(y_pred)\n",
        "ax.plot(y_test, c='r')"
      ],
      "id": "c5b0c999",
      "execution_count": 16,
      "outputs": [
        {
          "output_type": "execute_result",
          "data": {
            "text/plain": [
              "[<matplotlib.lines.Line2D at 0x7f10d51262d0>]"
            ]
          },
          "metadata": {},
          "execution_count": 16
        },
        {
          "output_type": "display_data",
          "data": {
            "image/png": "[encoded data removed]",
            "text/plain": [
              "<Figure size 432x288 with 1 Axes>"
            ]
          },
          "metadata": {
            "needs_background": "light"
          }
        }
      ]
    },
    {
      "cell_type": "code",
      "metadata": {
        "id": "121283b1"
      },
      "source": [
        "y_unscaled = scaler.inverse_transform(y_pred)"
      ],
      "id": "121283b1",
      "execution_count": 17,
      "outputs": []
    },
    {
      "cell_type": "code",
      "metadata": {
        "id": "8fe9cd61",
        "outputId": "a9fc585d-ad01-4a13-e0a1-afe07628cb46",
        "colab": {
          "base_uri": "https://localhost:8080/",
          "height": 286
        }
      },
      "source": [
        "fig, ax = plt.subplots()\n",
        "\n",
        "y_real = data.loc['2020', 'Adj Close'].to_numpy()\n",
        "\n",
        "ax.plot(y_real[40:])\n",
        "ax.plot(y_unscaled)"
      ],
      "id": "8fe9cd61",
      "execution_count": 18,
      "outputs": [
        {
          "output_type": "execute_result",
          "data": {
            "text/plain": [
              "[<matplotlib.lines.Line2D at 0x7f10d20c5290>]"
            ]
          },
          "metadata": {},
          "execution_count": 18
        },
        {
          "output_type": "display_data",
          "data": {
            "image/png": "[encoded data removed]",
            "text/plain": [
              "<Figure size 432x288 with 1 Axes>"
            ]
          },
          "metadata": {
            "needs_background": "light"
          }
        }
      ]
    }
  ]
}