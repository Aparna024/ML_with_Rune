{
 "cells": [
  {
   "cell_type": "markdown",
   "source": [
    "# Reinforcement Learning\n",
    "### Goal of lesson\n",
    "- Understand how Reinforcement Learning works\n",
    "- Learn about Agent and Environment\n",
    "- How it iterates and gets rewards based on action\n",
    "- How to continuesly learn new things\n",
    "- Create own Reinforcement Learning from scratch"
   ],
   "metadata": {}
  },
  {
   "cell_type": "markdown",
   "source": [
    "### Reinforcement Learning simply explained\n",
    "- Given a set of rewards or punishments, learn what actions to take in the future\n",
    "- The second large group of Machine Learning\n",
    "\n",
    "### Environment\n",
    "<img src='img/reinforcement-learning.png' width=600 align='left'>"
   ],
   "metadata": {}
  },
  {
   "cell_type": "markdown",
   "source": [
    "### Agent\n",
    "- The environment gives the agent a state\n",
    "- The agent action\n",
    "- The environment gives a state and reward (or punishment)"
   ],
   "metadata": {}
  },
  {
   "cell_type": "markdown",
   "source": [
    "This is how robots are taught how to walk"
   ],
   "metadata": {}
  },
  {
   "cell_type": "markdown",
   "source": [
    "### Markov Decision Process\n",
    "- Model for decision-making, representing states, actions, and their rewards\n",
    "- Set of states $S$\n",
    "- Set of actions $Actions(s)$\n",
    "- Transition model $P(s'|s, a)$\n",
    "- Reward function $R(s, a, s')$"
   ],
   "metadata": {}
  },
  {
   "cell_type": "markdown",
   "source": [
    "### Q-learning (one model)\n",
    "- Method for learning a function $Q(s, a)$, estimate of the value of performing action $a$ in state $s$"
   ],
   "metadata": {}
  },
  {
   "cell_type": "markdown",
   "source": [
    "### Q-learning\n",
    "- Start with $Q(s, a) = 0$ for all $s, a$\n",
    "- Update $Q$ when we take an action\n",
    "- $Q(s, a) = Q(s, a) + \\alpha($reward$ + \\gamma\\max(s', a') - Q(s, a)) = (1 - \\alpha)Q(s, a) + \\alpha($reward$ + \\gamma\\max(s', a'))$"
   ],
   "metadata": {}
  },
  {
   "cell_type": "markdown",
   "source": [
    "### $\\epsilon$-Greedy Decision Making\n",
    "**Explore vs Exploit**\n",
    "- With propability $\\epsilon$ take a random move\n",
    "- Otherwise, take action $a$ with maximum $Q(s, a)$"
   ],
   "metadata": {}
  },
  {
   "cell_type": "markdown",
   "source": [
    "### Simple task\n",
    "<img src='img/field.png' width=600 align='left'>\n"
   ],
   "metadata": {}
  },
  {
   "cell_type": "markdown",
   "source": [
    "- Starts at a random point\n",
    "- Move left or right\n",
    "- Avoid the red box\n",
    "- Find the green box"
   ],
   "metadata": {}
  },
  {
   "cell_type": "markdown",
   "source": [
    "![Field](img/field-3.png)"
   ],
   "metadata": {}
  },
  {
   "cell_type": "markdown",
   "source": [
    "> #### Programming Notes:\n",
    "> - Libraries used\n",
    ">     - [**numpy**](http://numpy.org) - scientific computing with Python ([Lecture on NumPy](https://youtu.be/BpzpU8_j0-c))\n",
    ">     - [**random**](https://docs.python.org/3/library/random.html) - pseudo-random generators\n",
    "> - Functionality and concepts used\n",
    ">     - **Object-Oriented Programming (OOP)**: [Lecture on Object Oriented Programming](https://youtu.be/hbO9xo6RfDM)"
   ],
   "metadata": {}
  },
  {
   "cell_type": "markdown",
   "source": [
    "> ### Resources\n",
    "> #### What if there are more states?\n",
    "> - [Reinforcement Learning from Scratch](https://youtu.be/y4LEVVE2mV8)"
   ],
   "metadata": {}
  },
  {
   "cell_type": "code",
   "execution_count": 1,
   "source": [],
   "outputs": [],
   "metadata": {}
  },
  {
   "cell_type": "code",
   "execution_count": 35,
   "source": [],
   "outputs": [],
   "metadata": {}
  },
  {
   "cell_type": "code",
   "execution_count": 36,
   "source": [],
   "outputs": [
    {
     "output_type": "execute_result",
     "data": {
      "text/plain": [
       "(5, False, [0, 1])"
      ]
     },
     "metadata": {},
     "execution_count": 36
    }
   ],
   "metadata": {}
  },
  {
   "cell_type": "code",
   "execution_count": 41,
   "source": [],
   "outputs": [
    {
     "output_type": "execute_result",
     "data": {
      "text/plain": [
       "(10, False, [0])"
      ]
     },
     "metadata": {},
     "execution_count": 41
    }
   ],
   "metadata": {}
  },
  {
   "cell_type": "code",
   "execution_count": 42,
   "source": [],
   "outputs": [
    {
     "output_type": "execute_result",
     "data": {
      "text/plain": [
       "(10, -10)"
      ]
     },
     "metadata": {},
     "execution_count": 42
    }
   ],
   "metadata": {}
  },
  {
   "cell_type": "code",
   "execution_count": 46,
   "source": [],
   "outputs": [],
   "metadata": {}
  },
  {
   "cell_type": "code",
   "execution_count": 47,
   "source": [],
   "outputs": [
    {
     "output_type": "execute_result",
     "data": {
      "text/plain": [
       "array([[ 0.      ,  0.      ],\n",
       "       [-1.      ,  0.03125 ],\n",
       "       [ 0.015625,  0.0625  ],\n",
       "       [ 0.03125 ,  0.125   ],\n",
       "       [ 0.0625  ,  0.25    ],\n",
       "       [ 0.125   ,  0.5     ],\n",
       "       [ 0.25    ,  1.      ],\n",
       "       [ 0.      ,  0.      ],\n",
       "       [ 1.      ,  0.25    ],\n",
       "       [ 0.5     ,  0.125   ],\n",
       "       [ 0.25    ,  0.      ]])"
      ]
     },
     "metadata": {},
     "execution_count": 47
    }
   ],
   "metadata": {
    "scrolled": true
   }
  },
  {
   "cell_type": "code",
   "execution_count": null,
   "source": [],
   "outputs": [],
   "metadata": {}
  }
 ],
 "metadata": {
  "kernelspec": {
   "display_name": "Python 3",
   "language": "python",
   "name": "python3"
  },
  "language_info": {
   "codemirror_mode": {
    "name": "ipython",
    "version": 3
   },
   "file_extension": ".py",
   "mimetype": "text/x-python",
   "name": "python",
   "nbconvert_exporter": "python",
   "pygments_lexer": "ipython3",
   "version": "3.8.8"
  }
 },
 "nbformat": 4,
 "nbformat_minor": 5
}