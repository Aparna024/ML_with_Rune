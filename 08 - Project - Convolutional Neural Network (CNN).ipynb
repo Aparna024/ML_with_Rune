{
  "nbformat": 4,
  "nbformat_minor": 5,
  "metadata": {
    "kernelspec": {
      "display_name": "Python 3",
      "language": "python",
      "name": "python3"
    },
    "language_info": {
      "codemirror_mode": {
        "name": "ipython",
        "version": 3
      },
      "file_extension": ".py",
      "mimetype": "text/x-python",
      "name": "python",
      "nbconvert_exporter": "python",
      "pygments_lexer": "ipython3",
      "version": "3.8.8"
    },
    "colab": {
      "name": "08 - Project - Convolutional Neural Network (CNN).ipynb",
      "provenance": [],
      "include_colab_link": true
    }
  },
  "cells": [
    {
      "cell_type": "markdown",
      "metadata": {
        "id": "view-in-github",
        "colab_type": "text"
      },
      "source": [
        "<a href=\"https://colab.research.google.com/github/adel-nouar/ML_with_Rune/blob/main/08%20-%20Project%20-%20Convolutional%20Neural%20Network%20(CNN).ipynb\" target=\"_parent\"><img src=\"https://colab.research.google.com/assets/colab-badge.svg\" alt=\"Open In Colab\"/></a>"
      ]
    },
    {
      "cell_type": "markdown",
      "metadata": {
        "id": "4e33b771"
      },
      "source": [
        "# Project: Create a Convolutional Neural Network\n",
        "- We will create a model on the [CIFAR-10 dataset](https://www.cs.toronto.edu/%7Ekriz/cifar.html)"
      ],
      "id": "4e33b771"
    },
    {
      "cell_type": "markdown",
      "metadata": {
        "id": "b7fedd3b"
      },
      "source": [
        "### Step 1: Import libraries"
      ],
      "id": "b7fedd3b"
    },
    {
      "cell_type": "code",
      "metadata": {
        "id": "d3fee79d"
      },
      "source": [
        "import tensorflow as tf\n",
        "from tensorflow.keras import datasets, layers, models\n",
        "from tensorflow.keras.models import Sequential\n",
        "from tensorflow.keras.layers import Conv2D, MaxPooling2D, Flatten, Dense\n",
        "import matplotlib.pyplot as plt\n",
        "%matplotlib inline"
      ],
      "id": "d3fee79d",
      "execution_count": 1,
      "outputs": []
    },
    {
      "cell_type": "markdown",
      "metadata": {
        "id": "9c50bbdb"
      },
      "source": [
        "### Step 2: Download the CIFAR10 dataset\n",
        "- Excute the cell below"
      ],
      "id": "9c50bbdb"
    },
    {
      "cell_type": "code",
      "metadata": {
        "id": "12ba9d03",
        "outputId": "0c4c1304-635e-49f8-a07a-8f379031bb94",
        "colab": {
          "base_uri": "https://localhost:8080/"
        }
      },
      "source": [
        "(train_images, train_labels), (test_images, test_labels) = datasets.cifar10.load_data()"
      ],
      "id": "12ba9d03",
      "execution_count": 2,
      "outputs": [
        {
          "output_type": "stream",
          "name": "stdout",
          "text": [
            "Downloading data from https://www.cs.toronto.edu/~kriz/cifar-10-python.tar.gz\n",
            "170500096/170498071 [==============================] - 11s 0us/step\n",
            "170508288/170498071 [==============================] - 11s 0us/step\n"
          ]
        }
      ]
    },
    {
      "cell_type": "markdown",
      "metadata": {
        "id": "30cf23b4"
      },
      "source": [
        "### Step 3: Normalize the pixels\n",
        "- Divide the **train_images** and **test_images** with 255 to normalize them between 0 and 1."
      ],
      "id": "30cf23b4"
    },
    {
      "cell_type": "code",
      "metadata": {
        "id": "7ae75cac"
      },
      "source": [
        "train_images = train_images / 255.0\n",
        "test_images = test_images / 255.0"
      ],
      "id": "7ae75cac",
      "execution_count": 3,
      "outputs": []
    },
    {
      "cell_type": "code",
      "metadata": {
        "id": "d8910cbe"
      },
      "source": [
        ""
      ],
      "id": "d8910cbe",
      "execution_count": null,
      "outputs": []
    },
    {
      "cell_type": "markdown",
      "metadata": {
        "id": "1888712c"
      },
      "source": [
        "### Step 4: Get the class names of the labels\n",
        "- Make a class name conversion.\n",
        "    - HINT: make a list with the name **class_names = ['airplane', 'automobile', 'bird', 'cat', 'deer', 'dog', 'frog', 'horse', 'ship', 'truck']**\n",
        "- How to use the name conversion.\n",
        "    - **class_names[int(train_labels[index])]**\n",
        "- How to show an image\n",
        "    - **plt.imshow(train_images[index])**"
      ],
      "id": "1888712c"
    },
    {
      "cell_type": "code",
      "metadata": {
        "id": "1fda0b89"
      },
      "source": [
        "class_names = ['airplane', 'automobile', 'bird', 'cat', 'deer', 'dog', 'frog', 'horse', 'ship', 'truck']"
      ],
      "id": "1fda0b89",
      "execution_count": 4,
      "outputs": []
    },
    {
      "cell_type": "code",
      "metadata": {
        "id": "c54fb0e9",
        "outputId": "0fe55016-7bb1-4909-e528-a9d605d90fd9",
        "colab": {
          "base_uri": "https://localhost:8080/",
          "height": 284
        }
      },
      "source": [
        "index = 1\n",
        "plt.imshow(train_images[index])\n",
        "class_names[int(train_labels[index])]"
      ],
      "id": "c54fb0e9",
      "execution_count": 7,
      "outputs": [
        {
          "output_type": "execute_result",
          "data": {
            "application/vnd.google.colaboratory.intrinsic+json": {
              "type": "string"
            },
            "text/plain": [
              "'truck'"
            ]
          },
          "metadata": {},
          "execution_count": 7
        },
        {
          "output_type": "display_data",
          "data": {
            "image/png": "[encoded data removed]",
            "text/plain": [
              "<Figure size 432x288 with 1 Axes>"
            ]
          },
          "metadata": {
            "needs_background": "light"
          }
        }
      ]
    },
    {
      "cell_type": "markdown",
      "metadata": {
        "id": "1a1e2ad7"
      },
      "source": [
        "### Step 5: Create a model\n",
        "- Create a **Sequential** model\n",
        "    - **Conv2D** with 32 and (3, 3),  **activation='relu', input_shape=(32, 32, 3)**\n",
        "    - **MaxPooling2D** with (2, 2)\n",
        "    - **Conv2D** with 64 and (3, 3),  **activation='relu'**\n",
        "    - **MaxPooling2D** with (2, 2)\n",
        "    - **Conv2D** with 64 and (3, 3),  **activation='relu'**\n",
        "    - **Flatten**\n",
        "    - **Dense** with 64 nodes with **input_dim=4, activaition='relu'**\n",
        "    - **Dense** with 10 (the output node)**\n",
        "- Complie the model with **optimizer='adam', loss=tf.keras.losses.SparseCategoricalCrossentropy(from_logits=True), metrics=['accuracy']**"
      ],
      "id": "1a1e2ad7"
    },
    {
      "cell_type": "code",
      "metadata": {
        "id": "6f9cce23"
      },
      "source": [
        "model = Sequential()\n",
        "model.add(layers.Conv2D(32, (3, 3), activation='relu', input_shape=(32, 32, 3)))\n",
        "model.add(layers.MaxPooling2D((2, 2)))\n",
        "model.add(layers.Conv2D(64, (3, 3), activation='relu'))\n",
        "model.add(layers.MaxPooling2D((2, 2)))\n",
        "model.add(layers.Conv2D(64, (3, 3), activation='relu'))\n",
        "model.add(layers.Flatten())\n",
        "model.add(layers.Dense(64, input_dim=4, activation='relu'))\n",
        "model.add(layers.Dense(10))\n",
        "\n",
        "model.compile(optimizer='adam', loss=tf.keras.losses.SparseCategoricalCrossentropy(from_logits=True), metrics=['accuracy'])"
      ],
      "id": "6f9cce23",
      "execution_count": 20,
      "outputs": []
    },
    {
      "cell_type": "markdown",
      "metadata": {
        "id": "c885d22d"
      },
      "source": [
        "### Step 6: Train the model\n",
        "- Fit the model with **train_images, train_labels, epochs=10** and **validation_data=(test_images, test_labels)**"
      ],
      "id": "c885d22d"
    },
    {
      "cell_type": "code",
      "metadata": {
        "id": "85e6f867",
        "outputId": "5d53b804-829c-4aa5-98d6-327ad5739238",
        "colab": {
          "base_uri": "https://localhost:8080/"
        }
      },
      "source": [
        "model.fit(train_images, train_labels, epochs=10, validation_data=(test_images, test_labels))"
      ],
      "id": "85e6f867",
      "execution_count": 10,
      "outputs": [
        {
          "output_type": "stream",
          "name": "stdout",
          "text": [
            "Epoch 1/10\n",
            "1563/1563 [==============================] - 72s 45ms/step - loss: 1.5279 - accuracy: 0.4445 - val_loss: 1.2542 - val_accuracy: 0.5515\n",
            "Epoch 2/10\n",
            "1563/1563 [==============================] - 71s 45ms/step - loss: 1.1759 - accuracy: 0.5862 - val_loss: 1.1129 - val_accuracy: 0.6034\n",
            "Epoch 3/10\n",
            "1563/1563 [==============================] - 71s 45ms/step - loss: 1.0357 - accuracy: 0.6362 - val_loss: 1.0272 - val_accuracy: 0.6377\n",
            "Epoch 4/10\n",
            "1563/1563 [==============================] - 70s 45ms/step - loss: 0.9427 - accuracy: 0.6701 - val_loss: 0.9758 - val_accuracy: 0.6587\n",
            "Epoch 5/10\n",
            "1563/1563 [==============================] - 70s 45ms/step - loss: 0.8737 - accuracy: 0.6940 - val_loss: 0.9271 - val_accuracy: 0.6755\n",
            "Epoch 6/10\n",
            "1563/1563 [==============================] - 70s 45ms/step - loss: 0.8201 - accuracy: 0.7130 - val_loss: 0.9386 - val_accuracy: 0.6729\n",
            "Epoch 7/10\n",
            "1563/1563 [==============================] - 70s 45ms/step - loss: 0.7702 - accuracy: 0.7289 - val_loss: 0.9031 - val_accuracy: 0.6889\n",
            "Epoch 8/10\n",
            "1563/1563 [==============================] - 70s 45ms/step - loss: 0.7245 - accuracy: 0.7484 - val_loss: 0.8937 - val_accuracy: 0.6988\n",
            "Epoch 9/10\n",
            "1563/1563 [==============================] - 70s 45ms/step - loss: 0.6907 - accuracy: 0.7586 - val_loss: 0.9009 - val_accuracy: 0.6919\n",
            "Epoch 10/10\n",
            "1563/1563 [==============================] - 70s 45ms/step - loss: 0.6490 - accuracy: 0.7720 - val_loss: 0.8938 - val_accuracy: 0.7041\n"
          ]
        },
        {
          "output_type": "execute_result",
          "data": {
            "text/plain": [
              "<keras.callbacks.History at 0x7f005ee46110>"
            ]
          },
          "metadata": {},
          "execution_count": 10
        }
      ]
    },
    {
      "cell_type": "markdown",
      "metadata": {
        "id": "0c23d005"
      },
      "source": [
        "### Stpe 7: Test the model\n",
        "- Make predictions\n",
        "    - assign the predictions of test_images to a variable\n",
        "- How to test visually\n",
        "    - Assign **index=0**\n",
        "    - Plot the image with **plt.imshow(test_images[index])**\n",
        "    - See the label from prediction by mapping it from **class_names**"
      ],
      "id": "0c23d005"
    },
    {
      "cell_type": "code",
      "metadata": {
        "id": "55a69279"
      },
      "source": [
        "y_pred = model.predict(test_images)"
      ],
      "id": "55a69279",
      "execution_count": 11,
      "outputs": []
    },
    {
      "cell_type": "code",
      "metadata": {
        "id": "e1fd751f",
        "outputId": "2672cc90-34ea-484b-dd26-d0800d49ee47",
        "colab": {
          "base_uri": "https://localhost:8080/",
          "height": 284
        }
      },
      "source": [
        "index = 168\n",
        "plt.imshow(test_images[index])\n",
        "class_names[y_pred[index].argmax()]"
      ],
      "id": "e1fd751f",
      "execution_count": 29,
      "outputs": [
        {
          "output_type": "execute_result",
          "data": {
            "application/vnd.google.colaboratory.intrinsic+json": {
              "type": "string"
            },
            "text/plain": [
              "'truck'"
            ]
          },
          "metadata": {},
          "execution_count": 29
        },
        {
          "output_type": "display_data",
          "data": {
            "image/png": "[encoded data removed]",
            "text/plain": [
              "<Figure size 432x288 with 1 Axes>"
            ]
          },
          "metadata": {
            "needs_background": "light"
          }
        }
      ]
    },
    {
      "cell_type": "code",
      "metadata": {
        "id": "AJ4jgbbg7ECh",
        "outputId": "a12f28d6-b815-4ad3-aec2-8b949808c445",
        "colab": {
          "base_uri": "https://localhost:8080/"
        }
      },
      "source": [
        "model.evaluate(test_images, test_labels, verbose=0)"
      ],
      "id": "AJ4jgbbg7ECh",
      "execution_count": 14,
      "outputs": [
        {
          "output_type": "execute_result",
          "data": {
            "text/plain": [
              "[0.8937668800354004, 0.7041000127792358]"
            ]
          },
          "metadata": {},
          "execution_count": 14
        }
      ]
    },
    {
      "cell_type": "markdown",
      "metadata": {
        "id": "52205de0"
      },
      "source": [
        "### Step 8 (Optional): Improve the model\n",
        "- Try to play around with the model to improve the score"
      ],
      "id": "52205de0"
    },
    {
      "cell_type": "code",
      "metadata": {
        "id": "57a6fd02"
      },
      "source": [
        "model = Sequential()\n",
        "model.add(layers.Conv2D(64, (3, 3), activation='relu', input_shape=(32, 32, 3)))\n",
        "model.add(layers.MaxPooling2D((2, 2)))\n",
        "model.add(layers.Conv2D(64, (3, 3), activation='relu'))\n",
        "model.add(layers.MaxPooling2D((2, 2)))\n",
        "model.add(layers.Conv2D(64, (3, 3), activation='relu'))\n",
        "model.add(layers.Flatten())\n",
        "model.add(layers.Dense(64, input_dim=4, activation='relu'))\n",
        "model.add(layers.Dense(10))\n",
        "\n",
        "model.compile(optimizer='adam', loss=tf.keras.losses.SparseCategoricalCrossentropy(from_logits=True), metrics=['accuracy'])"
      ],
      "id": "57a6fd02",
      "execution_count": 24,
      "outputs": []
    },
    {
      "cell_type": "code",
      "metadata": {
        "id": "4b272f6f",
        "outputId": "12964c62-669e-49bb-bbd0-aa20170f3110",
        "colab": {
          "base_uri": "https://localhost:8080/"
        }
      },
      "source": [
        "model.fit(train_images, train_labels, epochs=10, validation_data=(test_images, test_labels))"
      ],
      "id": "4b272f6f",
      "execution_count": 25,
      "outputs": [
        {
          "output_type": "stream",
          "name": "stdout",
          "text": [
            "Epoch 1/10\n",
            "1563/1563 [==============================] - 118s 75ms/step - loss: 1.5193 - accuracy: 0.4463 - val_loss: 1.2221 - val_accuracy: 0.5644\n",
            "Epoch 2/10\n",
            "1563/1563 [==============================] - 118s 75ms/step - loss: 1.1580 - accuracy: 0.5904 - val_loss: 1.0792 - val_accuracy: 0.6183\n",
            "Epoch 3/10\n",
            "1563/1563 [==============================] - 120s 77ms/step - loss: 1.0012 - accuracy: 0.6466 - val_loss: 0.9870 - val_accuracy: 0.6507\n",
            "Epoch 4/10\n",
            "1563/1563 [==============================] - 118s 76ms/step - loss: 0.8989 - accuracy: 0.6832 - val_loss: 0.9544 - val_accuracy: 0.6678\n",
            "Epoch 5/10\n",
            "1563/1563 [==============================] - 118s 75ms/step - loss: 0.8196 - accuracy: 0.7117 - val_loss: 0.8906 - val_accuracy: 0.6938\n",
            "Epoch 6/10\n",
            "1563/1563 [==============================] - 118s 75ms/step - loss: 0.7631 - accuracy: 0.7318 - val_loss: 0.8667 - val_accuracy: 0.6994\n",
            "Epoch 7/10\n",
            "1563/1563 [==============================] - 118s 75ms/step - loss: 0.7124 - accuracy: 0.7482 - val_loss: 0.9045 - val_accuracy: 0.6927\n",
            "Epoch 8/10\n",
            "1563/1563 [==============================] - 117s 75ms/step - loss: 0.6658 - accuracy: 0.7666 - val_loss: 0.9161 - val_accuracy: 0.6923\n",
            "Epoch 9/10\n",
            "1563/1563 [==============================] - 118s 75ms/step - loss: 0.6253 - accuracy: 0.7800 - val_loss: 0.9044 - val_accuracy: 0.6927\n",
            "Epoch 10/10\n",
            "1563/1563 [==============================] - 117s 75ms/step - loss: 0.5823 - accuracy: 0.7946 - val_loss: 0.9106 - val_accuracy: 0.7014\n"
          ]
        },
        {
          "output_type": "execute_result",
          "data": {
            "text/plain": [
              "<keras.callbacks.History at 0x7f005bfad1d0>"
            ]
          },
          "metadata": {},
          "execution_count": 25
        }
      ]
    },
    {
      "cell_type": "code",
      "metadata": {
        "id": "d75add01"
      },
      "source": [
        "y_pred = model.predict(test_images)"
      ],
      "id": "d75add01",
      "execution_count": 26,
      "outputs": []
    },
    {
      "cell_type": "code",
      "metadata": {
        "id": "WJzQr47v736p",
        "outputId": "13731872-8a29-444c-bc05-7b93869f7cb2",
        "colab": {
          "base_uri": "https://localhost:8080/",
          "height": 284
        }
      },
      "source": [
        "index = 168\n",
        "plt.imshow(test_images[index])\n",
        "class_names[y_pred[index].argmax()]"
      ],
      "id": "WJzQr47v736p",
      "execution_count": 28,
      "outputs": [
        {
          "output_type": "execute_result",
          "data": {
            "application/vnd.google.colaboratory.intrinsic+json": {
              "type": "string"
            },
            "text/plain": [
              "'truck'"
            ]
          },
          "metadata": {},
          "execution_count": 28
        },
        {
          "output_type": "display_data",
          "data": {
            "image/png": "[encoded data removed]",
            "text/plain": [
              "<Figure size 432x288 with 1 Axes>"
            ]
          },
          "metadata": {
            "needs_background": "light"
          }
        }
      ]
    },
    {
      "cell_type": "code",
      "metadata": {
        "id": "8no8oor578Q-"
      },
      "source": [
        "model.evaluate(test_images, test_labels, verbose=0)"
      ],
      "id": "8no8oor578Q-",
      "execution_count": null,
      "outputs": []
    }
  ]
}