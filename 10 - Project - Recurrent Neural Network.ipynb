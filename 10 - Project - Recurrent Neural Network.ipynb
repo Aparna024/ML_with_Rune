{
  "nbformat": 4,
  "nbformat_minor": 5,
  "metadata": {
    "kernelspec": {
      "display_name": "Python 3",
      "language": "python",
      "name": "python3"
    },
    "language_info": {
      "codemirror_mode": {
        "name": "ipython",
        "version": 3
      },
      "file_extension": ".py",
      "mimetype": "text/x-python",
      "name": "python",
      "nbconvert_exporter": "python",
      "pygments_lexer": "ipython3",
      "version": "3.8.8"
    },
    "colab": {
      "name": "10 - Project - Recurrent Neural Network.ipynb",
      "provenance": [],
      "include_colab_link": true
    }
  },
  "cells": [
    {
      "cell_type": "markdown",
      "metadata": {
        "id": "view-in-github",
        "colab_type": "text"
      },
      "source": [
        "<a href=\"https://colab.research.google.com/github/adel-nouar/ML_with_Rune/blob/main/10%20-%20Project%20-%20Recurrent%20Neural%20Network.ipynb\" target=\"_parent\"><img src=\"https://colab.research.google.com/assets/colab-badge.svg\" alt=\"Open In Colab\"/></a>"
      ]
    },
    {
      "cell_type": "markdown",
      "metadata": {
        "id": "4dd71211"
      },
      "source": [
        "# Project: Reucurrent Neural Network\n",
        "- A project on weather predictin on time series data"
      ],
      "id": "4dd71211"
    },
    {
      "cell_type": "markdown",
      "metadata": {
        "id": "993f8640"
      },
      "source": [
        "### Step 1: Import libraries"
      ],
      "id": "993f8640"
    },
    {
      "cell_type": "code",
      "metadata": {
        "id": "51e82d57"
      },
      "source": [
        "import tensorflow as tf\n",
        "import os\n",
        "import pandas as pd\n",
        "import numpy as np\n",
        "from tensorflow.keras import layers, models\n",
        "import matplotlib.pyplot as plt\n",
        "%matplotlib inline"
      ],
      "id": "51e82d57",
      "execution_count": 1,
      "outputs": []
    },
    {
      "cell_type": "markdown",
      "metadata": {
        "id": "8a82eb96"
      },
      "source": [
        "### Step 2: Download dataset\n",
        "- Excute the cell below"
      ],
      "id": "8a82eb96"
    },
    {
      "cell_type": "code",
      "metadata": {
        "id": "0268dfd5",
        "outputId": "9357b6a5-068a-49d4-d7f9-e21170194281",
        "colab": {
          "base_uri": "https://localhost:8080/"
        }
      },
      "source": [
        "zip_path = tf.keras.utils.get_file(\n",
        "    origin='https://storage.googleapis.com/tensorflow/tf-keras-datasets/jena_climate_2009_2016.csv.zip',\n",
        "    fname='jena_climate_2009_2016.csv.zip',\n",
        "    extract=True)\n",
        "csv_path, _ = os.path.splitext(zip_path)"
      ],
      "id": "0268dfd5",
      "execution_count": 2,
      "outputs": [
        {
          "output_type": "stream",
          "name": "stdout",
          "text": [
            "Downloading data from https://storage.googleapis.com/tensorflow/tf-keras-datasets/jena_climate_2009_2016.csv.zip\n",
            "13574144/13568290 [==============================] - 0s 0us/step\n",
            "13582336/13568290 [==============================] - 0s 0us/step\n"
          ]
        }
      ]
    },
    {
      "cell_type": "markdown",
      "metadata": {
        "id": "d6d7af6b"
      },
      "source": [
        "### Step 3: Read the data\n",
        "- Use Pandas [read_csv](https://pandas.pydata.org/pandas-docs/stable/reference/api/pandas.read_csv.html) method to read **csv_path** (from step 2).\n",
        "    - Also **parse_dates=True** and **index_col=0**"
      ],
      "id": "d6d7af6b"
    },
    {
      "cell_type": "code",
      "metadata": {
        "id": "0a1832fe",
        "outputId": "99465de1-ceb0-4ce7-c8c1-589e09104350",
        "colab": {
          "base_uri": "https://localhost:8080/",
          "height": 463
        }
      },
      "source": [
        "data = pd.read_csv(csv_path, parse_dates=True, index_col=0)\n",
        "data.head()"
      ],
      "id": "0a1832fe",
      "execution_count": 3,
      "outputs": [
        {
          "output_type": "execute_result",
          "data": {
            "text/html": [
              "<div>\n",
              "<style scoped>\n",
              "    .dataframe tbody tr th:only-of-type {\n",
              "        vertical-align: middle;\n",
              "    }\n",
              "\n",
              "    .dataframe tbody tr th {\n",
              "        vertical-align: top;\n",
              "    }\n",
              "\n",
              "    .dataframe thead th {\n",
              "        text-align: right;\n",
              "    }\n",
              "</style>\n",
              "<table border=\"1\" class=\"dataframe\">\n",
              "  <thead>\n",
              "    <tr style=\"text-align: right;\">\n",
              "      <th></th>\n",
              "      <th>p (mbar)</th>\n",
              "      <th>T (degC)</th>\n",
              "      <th>Tpot (K)</th>\n",
              "      <th>Tdew (degC)</th>\n",
              "      <th>rh (%)</th>\n",
              "      <th>VPmax (mbar)</th>\n",
              "      <th>VPact (mbar)</th>\n",
              "      <th>VPdef (mbar)</th>\n",
              "      <th>sh (g/kg)</th>\n",
              "      <th>H2OC (mmol/mol)</th>\n",
              "      <th>rho (g/m**3)</th>\n",
              "      <th>wv (m/s)</th>\n",
              "      <th>max. wv (m/s)</th>\n",
              "      <th>wd (deg)</th>\n",
              "    </tr>\n",
              "    <tr>\n",
              "      <th>Date Time</th>\n",
              "      <th></th>\n",
              "      <th></th>\n",
              "      <th></th>\n",
              "      <th></th>\n",
              "      <th></th>\n",
              "      <th></th>\n",
              "      <th></th>\n",
              "      <th></th>\n",
              "      <th></th>\n",
              "      <th></th>\n",
              "      <th></th>\n",
              "      <th></th>\n",
              "      <th></th>\n",
              "      <th></th>\n",
              "    </tr>\n",
              "  </thead>\n",
              "  <tbody>\n",
              "    <tr>\n",
              "      <th>2009-01-01 00:10:00</th>\n",
              "      <td>996.52</td>\n",
              "      <td>-8.02</td>\n",
              "      <td>265.40</td>\n",
              "      <td>-8.90</td>\n",
              "      <td>93.3</td>\n",
              "      <td>3.33</td>\n",
              "      <td>3.11</td>\n",
              "      <td>0.22</td>\n",
              "      <td>1.94</td>\n",
              "      <td>3.12</td>\n",
              "      <td>1307.75</td>\n",
              "      <td>1.03</td>\n",
              "      <td>1.75</td>\n",
              "      <td>152.3</td>\n",
              "    </tr>\n",
              "    <tr>\n",
              "      <th>2009-01-01 00:20:00</th>\n",
              "      <td>996.57</td>\n",
              "      <td>-8.41</td>\n",
              "      <td>265.01</td>\n",
              "      <td>-9.28</td>\n",
              "      <td>93.4</td>\n",
              "      <td>3.23</td>\n",
              "      <td>3.02</td>\n",
              "      <td>0.21</td>\n",
              "      <td>1.89</td>\n",
              "      <td>3.03</td>\n",
              "      <td>1309.80</td>\n",
              "      <td>0.72</td>\n",
              "      <td>1.50</td>\n",
              "      <td>136.1</td>\n",
              "    </tr>\n",
              "    <tr>\n",
              "      <th>2009-01-01 00:30:00</th>\n",
              "      <td>996.53</td>\n",
              "      <td>-8.51</td>\n",
              "      <td>264.91</td>\n",
              "      <td>-9.31</td>\n",
              "      <td>93.9</td>\n",
              "      <td>3.21</td>\n",
              "      <td>3.01</td>\n",
              "      <td>0.20</td>\n",
              "      <td>1.88</td>\n",
              "      <td>3.02</td>\n",
              "      <td>1310.24</td>\n",
              "      <td>0.19</td>\n",
              "      <td>0.63</td>\n",
              "      <td>171.6</td>\n",
              "    </tr>\n",
              "    <tr>\n",
              "      <th>2009-01-01 00:40:00</th>\n",
              "      <td>996.51</td>\n",
              "      <td>-8.31</td>\n",
              "      <td>265.12</td>\n",
              "      <td>-9.07</td>\n",
              "      <td>94.2</td>\n",
              "      <td>3.26</td>\n",
              "      <td>3.07</td>\n",
              "      <td>0.19</td>\n",
              "      <td>1.92</td>\n",
              "      <td>3.08</td>\n",
              "      <td>1309.19</td>\n",
              "      <td>0.34</td>\n",
              "      <td>0.50</td>\n",
              "      <td>198.0</td>\n",
              "    </tr>\n",
              "    <tr>\n",
              "      <th>2009-01-01 00:50:00</th>\n",
              "      <td>996.51</td>\n",
              "      <td>-8.27</td>\n",
              "      <td>265.15</td>\n",
              "      <td>-9.04</td>\n",
              "      <td>94.1</td>\n",
              "      <td>3.27</td>\n",
              "      <td>3.08</td>\n",
              "      <td>0.19</td>\n",
              "      <td>1.92</td>\n",
              "      <td>3.09</td>\n",
              "      <td>1309.00</td>\n",
              "      <td>0.32</td>\n",
              "      <td>0.63</td>\n",
              "      <td>214.3</td>\n",
              "    </tr>\n",
              "  </tbody>\n",
              "</table>\n",
              "</div>"
            ],
            "text/plain": [
              "                     p (mbar)  T (degC)  ...  max. wv (m/s)  wd (deg)\n",
              "Date Time                                ...                         \n",
              "2009-01-01 00:10:00    996.52     -8.02  ...           1.75     152.3\n",
              "2009-01-01 00:20:00    996.57     -8.41  ...           1.50     136.1\n",
              "2009-01-01 00:30:00    996.53     -8.51  ...           0.63     171.6\n",
              "2009-01-01 00:40:00    996.51     -8.31  ...           0.50     198.0\n",
              "2009-01-01 00:50:00    996.51     -8.27  ...           0.63     214.3\n",
              "\n",
              "[5 rows x 14 columns]"
            ]
          },
          "metadata": {},
          "execution_count": 3
        }
      ]
    },
    {
      "cell_type": "code",
      "metadata": {
        "id": "3669fef3",
        "outputId": "6827c559-bdfd-4293-c6f0-64e4c64eba1d",
        "colab": {
          "base_uri": "https://localhost:8080/"
        }
      },
      "source": [
        "len(data)"
      ],
      "id": "3669fef3",
      "execution_count": 4,
      "outputs": [
        {
          "output_type": "execute_result",
          "data": {
            "text/plain": [
              "420551"
            ]
          },
          "metadata": {},
          "execution_count": 4
        }
      ]
    },
    {
      "cell_type": "markdown",
      "metadata": {
        "id": "6f83d741"
      },
      "source": [
        "### Step 4: Limit dataset\n",
        "- The dataset has metrics for every 10 minutes - we will limit it to only once per hour\n",
        "    - HINT: **data[5::6]** will start at 5 and step 6.\n",
        "        - **a[start:stop:step]** start through not past stop, by step"
      ],
      "id": "6f83d741"
    },
    {
      "cell_type": "code",
      "metadata": {
        "id": "a5ec255a"
      },
      "source": [
        "data = data[5::6]"
      ],
      "id": "a5ec255a",
      "execution_count": 5,
      "outputs": []
    },
    {
      "cell_type": "code",
      "metadata": {
        "id": "a232c73f",
        "outputId": "ba91ff94-c229-4e33-ac2b-78eb670bfcef",
        "colab": {
          "base_uri": "https://localhost:8080/"
        }
      },
      "source": [
        "len(data)"
      ],
      "id": "a232c73f",
      "execution_count": 6,
      "outputs": [
        {
          "output_type": "execute_result",
          "data": {
            "text/plain": [
              "70091"
            ]
          },
          "metadata": {},
          "execution_count": 6
        }
      ]
    },
    {
      "cell_type": "code",
      "metadata": {
        "id": "fd86c994",
        "outputId": "e83719de-2011-43ca-eaa6-8c8a8dd77bc4",
        "colab": {
          "base_uri": "https://localhost:8080/",
          "height": 463
        }
      },
      "source": [
        "data.head()"
      ],
      "id": "fd86c994",
      "execution_count": 7,
      "outputs": [
        {
          "output_type": "execute_result",
          "data": {
            "text/html": [
              "<div>\n",
              "<style scoped>\n",
              "    .dataframe tbody tr th:only-of-type {\n",
              "        vertical-align: middle;\n",
              "    }\n",
              "\n",
              "    .dataframe tbody tr th {\n",
              "        vertical-align: top;\n",
              "    }\n",
              "\n",
              "    .dataframe thead th {\n",
              "        text-align: right;\n",
              "    }\n",
              "</style>\n",
              "<table border=\"1\" class=\"dataframe\">\n",
              "  <thead>\n",
              "    <tr style=\"text-align: right;\">\n",
              "      <th></th>\n",
              "      <th>p (mbar)</th>\n",
              "      <th>T (degC)</th>\n",
              "      <th>Tpot (K)</th>\n",
              "      <th>Tdew (degC)</th>\n",
              "      <th>rh (%)</th>\n",
              "      <th>VPmax (mbar)</th>\n",
              "      <th>VPact (mbar)</th>\n",
              "      <th>VPdef (mbar)</th>\n",
              "      <th>sh (g/kg)</th>\n",
              "      <th>H2OC (mmol/mol)</th>\n",
              "      <th>rho (g/m**3)</th>\n",
              "      <th>wv (m/s)</th>\n",
              "      <th>max. wv (m/s)</th>\n",
              "      <th>wd (deg)</th>\n",
              "    </tr>\n",
              "    <tr>\n",
              "      <th>Date Time</th>\n",
              "      <th></th>\n",
              "      <th></th>\n",
              "      <th></th>\n",
              "      <th></th>\n",
              "      <th></th>\n",
              "      <th></th>\n",
              "      <th></th>\n",
              "      <th></th>\n",
              "      <th></th>\n",
              "      <th></th>\n",
              "      <th></th>\n",
              "      <th></th>\n",
              "      <th></th>\n",
              "      <th></th>\n",
              "    </tr>\n",
              "  </thead>\n",
              "  <tbody>\n",
              "    <tr>\n",
              "      <th>2009-01-01 01:00:00</th>\n",
              "      <td>996.50</td>\n",
              "      <td>-8.05</td>\n",
              "      <td>265.38</td>\n",
              "      <td>-8.78</td>\n",
              "      <td>94.4</td>\n",
              "      <td>3.33</td>\n",
              "      <td>3.14</td>\n",
              "      <td>0.19</td>\n",
              "      <td>1.96</td>\n",
              "      <td>3.15</td>\n",
              "      <td>1307.86</td>\n",
              "      <td>0.21</td>\n",
              "      <td>0.63</td>\n",
              "      <td>192.7</td>\n",
              "    </tr>\n",
              "    <tr>\n",
              "      <th>2009-01-01 02:00:00</th>\n",
              "      <td>996.62</td>\n",
              "      <td>-8.88</td>\n",
              "      <td>264.54</td>\n",
              "      <td>-9.77</td>\n",
              "      <td>93.2</td>\n",
              "      <td>3.12</td>\n",
              "      <td>2.90</td>\n",
              "      <td>0.21</td>\n",
              "      <td>1.81</td>\n",
              "      <td>2.91</td>\n",
              "      <td>1312.25</td>\n",
              "      <td>0.25</td>\n",
              "      <td>0.63</td>\n",
              "      <td>190.3</td>\n",
              "    </tr>\n",
              "    <tr>\n",
              "      <th>2009-01-01 03:00:00</th>\n",
              "      <td>996.84</td>\n",
              "      <td>-8.81</td>\n",
              "      <td>264.59</td>\n",
              "      <td>-9.66</td>\n",
              "      <td>93.5</td>\n",
              "      <td>3.13</td>\n",
              "      <td>2.93</td>\n",
              "      <td>0.20</td>\n",
              "      <td>1.83</td>\n",
              "      <td>2.94</td>\n",
              "      <td>1312.18</td>\n",
              "      <td>0.18</td>\n",
              "      <td>0.63</td>\n",
              "      <td>167.2</td>\n",
              "    </tr>\n",
              "    <tr>\n",
              "      <th>2009-01-01 04:00:00</th>\n",
              "      <td>996.99</td>\n",
              "      <td>-9.05</td>\n",
              "      <td>264.34</td>\n",
              "      <td>-10.02</td>\n",
              "      <td>92.6</td>\n",
              "      <td>3.07</td>\n",
              "      <td>2.85</td>\n",
              "      <td>0.23</td>\n",
              "      <td>1.78</td>\n",
              "      <td>2.85</td>\n",
              "      <td>1313.61</td>\n",
              "      <td>0.10</td>\n",
              "      <td>0.38</td>\n",
              "      <td>240.0</td>\n",
              "    </tr>\n",
              "    <tr>\n",
              "      <th>2009-01-01 05:00:00</th>\n",
              "      <td>997.46</td>\n",
              "      <td>-9.63</td>\n",
              "      <td>263.72</td>\n",
              "      <td>-10.65</td>\n",
              "      <td>92.2</td>\n",
              "      <td>2.94</td>\n",
              "      <td>2.71</td>\n",
              "      <td>0.23</td>\n",
              "      <td>1.69</td>\n",
              "      <td>2.71</td>\n",
              "      <td>1317.19</td>\n",
              "      <td>0.40</td>\n",
              "      <td>0.88</td>\n",
              "      <td>157.0</td>\n",
              "    </tr>\n",
              "  </tbody>\n",
              "</table>\n",
              "</div>"
            ],
            "text/plain": [
              "                     p (mbar)  T (degC)  ...  max. wv (m/s)  wd (deg)\n",
              "Date Time                                ...                         \n",
              "2009-01-01 01:00:00    996.50     -8.05  ...           0.63     192.7\n",
              "2009-01-01 02:00:00    996.62     -8.88  ...           0.63     190.3\n",
              "2009-01-01 03:00:00    996.84     -8.81  ...           0.63     167.2\n",
              "2009-01-01 04:00:00    996.99     -9.05  ...           0.38     240.0\n",
              "2009-01-01 05:00:00    997.46     -9.63  ...           0.88     157.0\n",
              "\n",
              "[5 rows x 14 columns]"
            ]
          },
          "metadata": {},
          "execution_count": 7
        }
      ]
    },
    {
      "cell_type": "markdown",
      "metadata": {
        "id": "b2a623d0"
      },
      "source": [
        "### Step 5: Investigate data\n",
        "- Call **corr()** on the data to see correlations\n",
        "- Inspect what columns are correlated and not"
      ],
      "id": "b2a623d0"
    },
    {
      "cell_type": "code",
      "metadata": {
        "id": "4626d95b",
        "outputId": "f620f0d8-f6bd-46ca-916f-93ea9e4f4836",
        "colab": {
          "base_uri": "https://localhost:8080/",
          "height": 647
        }
      },
      "source": [
        "data.corr()"
      ],
      "id": "4626d95b",
      "execution_count": 8,
      "outputs": [
        {
          "output_type": "execute_result",
          "data": {
            "text/html": [
              "<div>\n",
              "<style scoped>\n",
              "    .dataframe tbody tr th:only-of-type {\n",
              "        vertical-align: middle;\n",
              "    }\n",
              "\n",
              "    .dataframe tbody tr th {\n",
              "        vertical-align: top;\n",
              "    }\n",
              "\n",
              "    .dataframe thead th {\n",
              "        text-align: right;\n",
              "    }\n",
              "</style>\n",
              "<table border=\"1\" class=\"dataframe\">\n",
              "  <thead>\n",
              "    <tr style=\"text-align: right;\">\n",
              "      <th></th>\n",
              "      <th>p (mbar)</th>\n",
              "      <th>T (degC)</th>\n",
              "      <th>Tpot (K)</th>\n",
              "      <th>Tdew (degC)</th>\n",
              "      <th>rh (%)</th>\n",
              "      <th>VPmax (mbar)</th>\n",
              "      <th>VPact (mbar)</th>\n",
              "      <th>VPdef (mbar)</th>\n",
              "      <th>sh (g/kg)</th>\n",
              "      <th>H2OC (mmol/mol)</th>\n",
              "      <th>rho (g/m**3)</th>\n",
              "      <th>wv (m/s)</th>\n",
              "      <th>max. wv (m/s)</th>\n",
              "      <th>wd (deg)</th>\n",
              "    </tr>\n",
              "  </thead>\n",
              "  <tbody>\n",
              "    <tr>\n",
              "      <th>p (mbar)</th>\n",
              "      <td>1.000000</td>\n",
              "      <td>-0.045296</td>\n",
              "      <td>-0.124643</td>\n",
              "      <td>-0.066698</td>\n",
              "      <td>-0.018363</td>\n",
              "      <td>-0.031455</td>\n",
              "      <td>-0.054353</td>\n",
              "      <td>-0.003283</td>\n",
              "      <td>-0.069749</td>\n",
              "      <td>-0.069792</td>\n",
              "      <td>0.307583</td>\n",
              "      <td>-0.005740</td>\n",
              "      <td>-0.007360</td>\n",
              "      <td>-0.063678</td>\n",
              "    </tr>\n",
              "    <tr>\n",
              "      <th>T (degC)</th>\n",
              "      <td>-0.045296</td>\n",
              "      <td>1.000000</td>\n",
              "      <td>0.996826</td>\n",
              "      <td>0.895706</td>\n",
              "      <td>-0.572593</td>\n",
              "      <td>0.951080</td>\n",
              "      <td>0.867691</td>\n",
              "      <td>0.761672</td>\n",
              "      <td>0.866770</td>\n",
              "      <td>0.867195</td>\n",
              "      <td>-0.963404</td>\n",
              "      <td>-0.004923</td>\n",
              "      <td>-0.003884</td>\n",
              "      <td>0.041577</td>\n",
              "    </tr>\n",
              "    <tr>\n",
              "      <th>Tpot (K)</th>\n",
              "      <td>-0.124643</td>\n",
              "      <td>0.996826</td>\n",
              "      <td>1.000000</td>\n",
              "      <td>0.894909</td>\n",
              "      <td>-0.567306</td>\n",
              "      <td>0.947259</td>\n",
              "      <td>0.866228</td>\n",
              "      <td>0.756886</td>\n",
              "      <td>0.866553</td>\n",
              "      <td>0.866978</td>\n",
              "      <td>-0.981342</td>\n",
              "      <td>-0.004426</td>\n",
              "      <td>-0.003263</td>\n",
              "      <td>0.046465</td>\n",
              "    </tr>\n",
              "    <tr>\n",
              "      <th>Tdew (degC)</th>\n",
              "      <td>-0.066698</td>\n",
              "      <td>0.895706</td>\n",
              "      <td>0.894909</td>\n",
              "      <td>1.000000</td>\n",
              "      <td>-0.156834</td>\n",
              "      <td>0.799182</td>\n",
              "      <td>0.968361</td>\n",
              "      <td>0.435689</td>\n",
              "      <td>0.967614</td>\n",
              "      <td>0.968061</td>\n",
              "      <td>-0.885231</td>\n",
              "      <td>-0.008581</td>\n",
              "      <td>-0.009693</td>\n",
              "      <td>0.052507</td>\n",
              "    </tr>\n",
              "    <tr>\n",
              "      <th>rh (%)</th>\n",
              "      <td>-0.018363</td>\n",
              "      <td>-0.572593</td>\n",
              "      <td>-0.567306</td>\n",
              "      <td>-0.156834</td>\n",
              "      <td>1.000000</td>\n",
              "      <td>-0.616019</td>\n",
              "      <td>-0.151704</td>\n",
              "      <td>-0.843768</td>\n",
              "      <td>-0.151049</td>\n",
              "      <td>-0.151181</td>\n",
              "      <td>0.514461</td>\n",
              "      <td>-0.004227</td>\n",
              "      <td>-0.008641</td>\n",
              "      <td>-0.017297</td>\n",
              "    </tr>\n",
              "    <tr>\n",
              "      <th>VPmax (mbar)</th>\n",
              "      <td>-0.031455</td>\n",
              "      <td>0.951080</td>\n",
              "      <td>0.947259</td>\n",
              "      <td>0.799182</td>\n",
              "      <td>-0.616019</td>\n",
              "      <td>1.000000</td>\n",
              "      <td>0.824758</td>\n",
              "      <td>0.875639</td>\n",
              "      <td>0.824349</td>\n",
              "      <td>0.824386</td>\n",
              "      <td>-0.901488</td>\n",
              "      <td>-0.004358</td>\n",
              "      <td>-0.003154</td>\n",
              "      <td>-0.006787</td>\n",
              "    </tr>\n",
              "    <tr>\n",
              "      <th>VPact (mbar)</th>\n",
              "      <td>-0.054353</td>\n",
              "      <td>0.867691</td>\n",
              "      <td>0.866228</td>\n",
              "      <td>0.968361</td>\n",
              "      <td>-0.151704</td>\n",
              "      <td>0.824758</td>\n",
              "      <td>1.000000</td>\n",
              "      <td>0.449080</td>\n",
              "      <td>0.999851</td>\n",
              "      <td>0.999856</td>\n",
              "      <td>-0.850271</td>\n",
              "      <td>-0.009390</td>\n",
              "      <td>-0.010883</td>\n",
              "      <td>0.020988</td>\n",
              "    </tr>\n",
              "    <tr>\n",
              "      <th>VPdef (mbar)</th>\n",
              "      <td>-0.003283</td>\n",
              "      <td>0.761672</td>\n",
              "      <td>0.756886</td>\n",
              "      <td>0.435689</td>\n",
              "      <td>-0.843768</td>\n",
              "      <td>0.875639</td>\n",
              "      <td>0.449080</td>\n",
              "      <td>1.000000</td>\n",
              "      <td>0.448561</td>\n",
              "      <td>0.448615</td>\n",
              "      <td>-0.698195</td>\n",
              "      <td>0.001138</td>\n",
              "      <td>0.004315</td>\n",
              "      <td>-0.028644</td>\n",
              "    </tr>\n",
              "    <tr>\n",
              "      <th>sh (g/kg)</th>\n",
              "      <td>-0.069749</td>\n",
              "      <td>0.866770</td>\n",
              "      <td>0.866553</td>\n",
              "      <td>0.967614</td>\n",
              "      <td>-0.151049</td>\n",
              "      <td>0.824349</td>\n",
              "      <td>0.999851</td>\n",
              "      <td>0.448561</td>\n",
              "      <td>1.000000</td>\n",
              "      <td>0.999997</td>\n",
              "      <td>-0.853354</td>\n",
              "      <td>-0.009270</td>\n",
              "      <td>-0.010736</td>\n",
              "      <td>0.021961</td>\n",
              "    </tr>\n",
              "    <tr>\n",
              "      <th>H2OC (mmol/mol)</th>\n",
              "      <td>-0.069792</td>\n",
              "      <td>0.867195</td>\n",
              "      <td>0.866978</td>\n",
              "      <td>0.968061</td>\n",
              "      <td>-0.151181</td>\n",
              "      <td>0.824386</td>\n",
              "      <td>0.999856</td>\n",
              "      <td>0.448615</td>\n",
              "      <td>0.999997</td>\n",
              "      <td>1.000000</td>\n",
              "      <td>-0.853801</td>\n",
              "      <td>-0.009272</td>\n",
              "      <td>-0.010736</td>\n",
              "      <td>0.022195</td>\n",
              "    </tr>\n",
              "    <tr>\n",
              "      <th>rho (g/m**3)</th>\n",
              "      <td>0.307583</td>\n",
              "      <td>-0.963404</td>\n",
              "      <td>-0.981342</td>\n",
              "      <td>-0.885231</td>\n",
              "      <td>0.514461</td>\n",
              "      <td>-0.901488</td>\n",
              "      <td>-0.850271</td>\n",
              "      <td>-0.698195</td>\n",
              "      <td>-0.853354</td>\n",
              "      <td>-0.853801</td>\n",
              "      <td>1.000000</td>\n",
              "      <td>0.003418</td>\n",
              "      <td>0.002138</td>\n",
              "      <td>-0.060856</td>\n",
              "    </tr>\n",
              "    <tr>\n",
              "      <th>wv (m/s)</th>\n",
              "      <td>-0.005740</td>\n",
              "      <td>-0.004923</td>\n",
              "      <td>-0.004426</td>\n",
              "      <td>-0.008581</td>\n",
              "      <td>-0.004227</td>\n",
              "      <td>-0.004358</td>\n",
              "      <td>-0.009390</td>\n",
              "      <td>0.001138</td>\n",
              "      <td>-0.009270</td>\n",
              "      <td>-0.009272</td>\n",
              "      <td>0.003418</td>\n",
              "      <td>1.000000</td>\n",
              "      <td>0.865946</td>\n",
              "      <td>-0.015354</td>\n",
              "    </tr>\n",
              "    <tr>\n",
              "      <th>max. wv (m/s)</th>\n",
              "      <td>-0.007360</td>\n",
              "      <td>-0.003884</td>\n",
              "      <td>-0.003263</td>\n",
              "      <td>-0.009693</td>\n",
              "      <td>-0.008641</td>\n",
              "      <td>-0.003154</td>\n",
              "      <td>-0.010883</td>\n",
              "      <td>0.004315</td>\n",
              "      <td>-0.010736</td>\n",
              "      <td>-0.010736</td>\n",
              "      <td>0.002138</td>\n",
              "      <td>0.865946</td>\n",
              "      <td>1.000000</td>\n",
              "      <td>-0.014768</td>\n",
              "    </tr>\n",
              "    <tr>\n",
              "      <th>wd (deg)</th>\n",
              "      <td>-0.063678</td>\n",
              "      <td>0.041577</td>\n",
              "      <td>0.046465</td>\n",
              "      <td>0.052507</td>\n",
              "      <td>-0.017297</td>\n",
              "      <td>-0.006787</td>\n",
              "      <td>0.020988</td>\n",
              "      <td>-0.028644</td>\n",
              "      <td>0.021961</td>\n",
              "      <td>0.022195</td>\n",
              "      <td>-0.060856</td>\n",
              "      <td>-0.015354</td>\n",
              "      <td>-0.014768</td>\n",
              "      <td>1.000000</td>\n",
              "    </tr>\n",
              "  </tbody>\n",
              "</table>\n",
              "</div>"
            ],
            "text/plain": [
              "                 p (mbar)  T (degC)  ...  max. wv (m/s)  wd (deg)\n",
              "p (mbar)         1.000000 -0.045296  ...      -0.007360 -0.063678\n",
              "T (degC)        -0.045296  1.000000  ...      -0.003884  0.041577\n",
              "Tpot (K)        -0.124643  0.996826  ...      -0.003263  0.046465\n",
              "Tdew (degC)     -0.066698  0.895706  ...      -0.009693  0.052507\n",
              "rh (%)          -0.018363 -0.572593  ...      -0.008641 -0.017297\n",
              "VPmax (mbar)    -0.031455  0.951080  ...      -0.003154 -0.006787\n",
              "VPact (mbar)    -0.054353  0.867691  ...      -0.010883  0.020988\n",
              "VPdef (mbar)    -0.003283  0.761672  ...       0.004315 -0.028644\n",
              "sh (g/kg)       -0.069749  0.866770  ...      -0.010736  0.021961\n",
              "H2OC (mmol/mol) -0.069792  0.867195  ...      -0.010736  0.022195\n",
              "rho (g/m**3)     0.307583 -0.963404  ...       0.002138 -0.060856\n",
              "wv (m/s)        -0.005740 -0.004923  ...       0.865946 -0.015354\n",
              "max. wv (m/s)   -0.007360 -0.003884  ...       1.000000 -0.014768\n",
              "wd (deg)        -0.063678  0.041577  ...      -0.014768  1.000000\n",
              "\n",
              "[14 rows x 14 columns]"
            ]
          },
          "metadata": {},
          "execution_count": 8
        }
      ]
    },
    {
      "cell_type": "markdown",
      "metadata": {
        "id": "0639b914"
      },
      "source": [
        "### Step 6: Remove data\n",
        "- Potential some data could be transformed **'wv (m/s)', 'max. wv (m/s)', 'wd (deg)'**\n",
        "    - We will ignorre it"
      ],
      "id": "0639b914"
    },
    {
      "cell_type": "code",
      "metadata": {
        "id": "8475c75d"
      },
      "source": [
        "df = data.drop(['wv (m/s)', 'max. wv (m/s)', 'wd (deg)'], axis=1)"
      ],
      "id": "8475c75d",
      "execution_count": 10,
      "outputs": []
    },
    {
      "cell_type": "markdown",
      "metadata": {
        "id": "92450271"
      },
      "source": [
        "### Step 7: Add periodic time intervals\n",
        "- Temperature is correlated to the time of day - e.g. it is warmer at mid day than at mid night\n",
        "- Temperature is correlated to seasons (most places in the world) - e.g. it is warmer in summer than in winter\n",
        "- The datetime index is not easy for the model to interpret, hence we can transform it into sinus and cosinus curves based on day and year.\n",
        "- Do it like this\n",
        "    - Assign the dataframe index to a variable, say, **timestamp_s**\n",
        "    - Transform that by using **map(pd.Timestamp.timestamp)**\n",
        "    - Use the period **day =** $24\\times 60 \\times 60$ and **year =** $(365.2425)\\times$**day**\n",
        "    - Make the following columns **'Day sin', 'Day cos', 'Year sin'**, and **'Year cos'** as follows:\n",
        "        - e.g. **df['Day sin'] = np.sin(timestamp_s * (2 * np.pi / day))**"
      ],
      "id": "92450271"
    },
    {
      "cell_type": "code",
      "metadata": {
        "id": "ea561a61"
      },
      "source": [
        "timestamp_s = df.index\n",
        "timestamp_s = timestamp_s.map(pd.Timestamp.timestamp)"
      ],
      "id": "ea561a61",
      "execution_count": 16,
      "outputs": []
    },
    {
      "cell_type": "code",
      "metadata": {
        "id": "ae590288",
        "outputId": "68bc132f-8be5-421d-9115-837b0ccdebf6",
        "colab": {
          "base_uri": "https://localhost:8080/"
        }
      },
      "source": [
        "timestamp_s"
      ],
      "id": "ae590288",
      "execution_count": 17,
      "outputs": [
        {
          "output_type": "execute_result",
          "data": {
            "text/plain": [
              "Float64Index([1230771600.0, 1230775200.0, 1230778800.0, 1230782400.0,\n",
              "              1230786000.0, 1230789600.0, 1230793200.0, 1230796800.0,\n",
              "              1230800400.0, 1230804000.0,\n",
              "              ...\n",
              "              1483193400.0, 1483197000.0, 1483200600.0, 1483204200.0,\n",
              "              1483207800.0, 1483211400.0, 1483215000.0, 1483218600.0,\n",
              "              1483222200.0, 1483225800.0],\n",
              "             dtype='float64', name='Date Time', length=70091)"
            ]
          },
          "metadata": {},
          "execution_count": 17
        }
      ]
    },
    {
      "cell_type": "code",
      "metadata": {
        "id": "e6576dae",
        "outputId": "cf95cf60-826f-46f0-c7c2-dbb680d92117",
        "colab": {
          "base_uri": "https://localhost:8080/"
        }
      },
      "source": [
        "df.index"
      ],
      "id": "e6576dae",
      "execution_count": 18,
      "outputs": [
        {
          "output_type": "execute_result",
          "data": {
            "text/plain": [
              "DatetimeIndex(['2009-01-01 01:00:00', '2009-01-01 02:00:00',\n",
              "               '2009-01-01 03:00:00', '2009-01-01 04:00:00',\n",
              "               '2009-01-01 05:00:00', '2009-01-01 06:00:00',\n",
              "               '2009-01-01 07:00:00', '2009-01-01 08:00:00',\n",
              "               '2009-01-01 09:00:00', '2009-01-01 10:00:00',\n",
              "               ...\n",
              "               '2016-12-31 14:10:00', '2016-12-31 15:10:00',\n",
              "               '2016-12-31 16:10:00', '2016-12-31 17:10:00',\n",
              "               '2016-12-31 18:10:00', '2016-12-31 19:10:00',\n",
              "               '2016-12-31 20:10:00', '2016-12-31 21:10:00',\n",
              "               '2016-12-31 22:10:00', '2016-12-31 23:10:00'],\n",
              "              dtype='datetime64[ns]', name='Date Time', length=70091, freq=None)"
            ]
          },
          "metadata": {},
          "execution_count": 18
        }
      ]
    },
    {
      "cell_type": "code",
      "metadata": {
        "id": "T0f0dsuWsFvi"
      },
      "source": [
        "day = 24 * 60 * 60\n",
        "year = (365.2425) * day"
      ],
      "id": "T0f0dsuWsFvi",
      "execution_count": 14,
      "outputs": []
    },
    {
      "cell_type": "code",
      "metadata": {
        "id": "2xMIQ2NssFiq"
      },
      "source": [
        "df['Day sin'] = np.sin(timestamp_s * (2 * np.pi / day))\n",
        "df['Day cos'] = np.cos(timestamp_s * (2 * np.pi / day))\n",
        "df['Year sin'] = np.sin(timestamp_s * (2 * np.pi / year))\n",
        "df['Year cos'] = np.cos(timestamp_s * (2 * np.pi / year))"
      ],
      "id": "2xMIQ2NssFiq",
      "execution_count": 19,
      "outputs": []
    },
    {
      "cell_type": "code",
      "metadata": {
        "id": "lIsrvYeFtS-z",
        "outputId": "e3967ef5-a715-4b09-9779-0215b5be8f8d",
        "colab": {
          "base_uri": "https://localhost:8080/",
          "height": 661
        }
      },
      "source": [
        "df.corr()"
      ],
      "id": "lIsrvYeFtS-z",
      "execution_count": 20,
      "outputs": [
        {
          "output_type": "execute_result",
          "data": {
            "text/html": [
              "<div>\n",
              "<style scoped>\n",
              "    .dataframe tbody tr th:only-of-type {\n",
              "        vertical-align: middle;\n",
              "    }\n",
              "\n",
              "    .dataframe tbody tr th {\n",
              "        vertical-align: top;\n",
              "    }\n",
              "\n",
              "    .dataframe thead th {\n",
              "        text-align: right;\n",
              "    }\n",
              "</style>\n",
              "<table border=\"1\" class=\"dataframe\">\n",
              "  <thead>\n",
              "    <tr style=\"text-align: right;\">\n",
              "      <th></th>\n",
              "      <th>p (mbar)</th>\n",
              "      <th>T (degC)</th>\n",
              "      <th>Tpot (K)</th>\n",
              "      <th>Tdew (degC)</th>\n",
              "      <th>rh (%)</th>\n",
              "      <th>VPmax (mbar)</th>\n",
              "      <th>VPact (mbar)</th>\n",
              "      <th>VPdef (mbar)</th>\n",
              "      <th>sh (g/kg)</th>\n",
              "      <th>H2OC (mmol/mol)</th>\n",
              "      <th>rho (g/m**3)</th>\n",
              "      <th>Day sin</th>\n",
              "      <th>Day cos</th>\n",
              "      <th>Year sin</th>\n",
              "      <th>Year cos</th>\n",
              "    </tr>\n",
              "  </thead>\n",
              "  <tbody>\n",
              "    <tr>\n",
              "      <th>p (mbar)</th>\n",
              "      <td>1.000000</td>\n",
              "      <td>-0.045296</td>\n",
              "      <td>-0.124643</td>\n",
              "      <td>-0.066698</td>\n",
              "      <td>-0.018363</td>\n",
              "      <td>-0.031455</td>\n",
              "      <td>-0.054353</td>\n",
              "      <td>-0.003283</td>\n",
              "      <td>-0.069749</td>\n",
              "      <td>-0.069792</td>\n",
              "      <td>0.307583</td>\n",
              "      <td>0.024335</td>\n",
              "      <td>0.004076</td>\n",
              "      <td>-0.056380</td>\n",
              "      <td>0.019768</td>\n",
              "    </tr>\n",
              "    <tr>\n",
              "      <th>T (degC)</th>\n",
              "      <td>-0.045296</td>\n",
              "      <td>1.000000</td>\n",
              "      <td>0.996826</td>\n",
              "      <td>0.895706</td>\n",
              "      <td>-0.572593</td>\n",
              "      <td>0.951080</td>\n",
              "      <td>0.867691</td>\n",
              "      <td>0.761672</td>\n",
              "      <td>0.866770</td>\n",
              "      <td>0.867195</td>\n",
              "      <td>-0.963404</td>\n",
              "      <td>-0.209414</td>\n",
              "      <td>-0.158552</td>\n",
              "      <td>-0.142263</td>\n",
              "      <td>-0.462367</td>\n",
              "    </tr>\n",
              "    <tr>\n",
              "      <th>Tpot (K)</th>\n",
              "      <td>-0.124643</td>\n",
              "      <td>0.996826</td>\n",
              "      <td>1.000000</td>\n",
              "      <td>0.894909</td>\n",
              "      <td>-0.567306</td>\n",
              "      <td>0.947259</td>\n",
              "      <td>0.866228</td>\n",
              "      <td>0.756886</td>\n",
              "      <td>0.866553</td>\n",
              "      <td>0.866978</td>\n",
              "      <td>-0.981342</td>\n",
              "      <td>-0.209994</td>\n",
              "      <td>-0.157833</td>\n",
              "      <td>-0.136772</td>\n",
              "      <td>-0.460871</td>\n",
              "    </tr>\n",
              "    <tr>\n",
              "      <th>Tdew (degC)</th>\n",
              "      <td>-0.066698</td>\n",
              "      <td>0.895706</td>\n",
              "      <td>0.894909</td>\n",
              "      <td>1.000000</td>\n",
              "      <td>-0.156834</td>\n",
              "      <td>0.799182</td>\n",
              "      <td>0.968361</td>\n",
              "      <td>0.435689</td>\n",
              "      <td>0.967614</td>\n",
              "      <td>0.968061</td>\n",
              "      <td>-0.885231</td>\n",
              "      <td>-0.042241</td>\n",
              "      <td>-0.021313</td>\n",
              "      <td>-0.216200</td>\n",
              "      <td>-0.430777</td>\n",
              "    </tr>\n",
              "    <tr>\n",
              "      <th>rh (%)</th>\n",
              "      <td>-0.018363</td>\n",
              "      <td>-0.572593</td>\n",
              "      <td>-0.567306</td>\n",
              "      <td>-0.156834</td>\n",
              "      <td>1.000000</td>\n",
              "      <td>-0.616019</td>\n",
              "      <td>-0.151704</td>\n",
              "      <td>-0.843768</td>\n",
              "      <td>-0.151049</td>\n",
              "      <td>-0.151181</td>\n",
              "      <td>0.514461</td>\n",
              "      <td>0.393867</td>\n",
              "      <td>0.312590</td>\n",
              "      <td>-0.088733</td>\n",
              "      <td>0.242826</td>\n",
              "    </tr>\n",
              "    <tr>\n",
              "      <th>VPmax (mbar)</th>\n",
              "      <td>-0.031455</td>\n",
              "      <td>0.951080</td>\n",
              "      <td>0.947259</td>\n",
              "      <td>0.799182</td>\n",
              "      <td>-0.616019</td>\n",
              "      <td>1.000000</td>\n",
              "      <td>0.824758</td>\n",
              "      <td>0.875639</td>\n",
              "      <td>0.824349</td>\n",
              "      <td>0.824386</td>\n",
              "      <td>-0.901488</td>\n",
              "      <td>-0.230615</td>\n",
              "      <td>-0.185214</td>\n",
              "      <td>-0.131800</td>\n",
              "      <td>-0.433101</td>\n",
              "    </tr>\n",
              "    <tr>\n",
              "      <th>VPact (mbar)</th>\n",
              "      <td>-0.054353</td>\n",
              "      <td>0.867691</td>\n",
              "      <td>0.866228</td>\n",
              "      <td>0.968361</td>\n",
              "      <td>-0.151704</td>\n",
              "      <td>0.824758</td>\n",
              "      <td>1.000000</td>\n",
              "      <td>0.449080</td>\n",
              "      <td>0.999851</td>\n",
              "      <td>0.999856</td>\n",
              "      <td>-0.850271</td>\n",
              "      <td>-0.040985</td>\n",
              "      <td>-0.023096</td>\n",
              "      <td>-0.214678</td>\n",
              "      <td>-0.439461</td>\n",
              "    </tr>\n",
              "    <tr>\n",
              "      <th>VPdef (mbar)</th>\n",
              "      <td>-0.003283</td>\n",
              "      <td>0.761672</td>\n",
              "      <td>0.756886</td>\n",
              "      <td>0.435689</td>\n",
              "      <td>-0.843768</td>\n",
              "      <td>0.875639</td>\n",
              "      <td>0.449080</td>\n",
              "      <td>1.000000</td>\n",
              "      <td>0.448561</td>\n",
              "      <td>0.448615</td>\n",
              "      <td>-0.698195</td>\n",
              "      <td>-0.329381</td>\n",
              "      <td>-0.272917</td>\n",
              "      <td>-0.024901</td>\n",
              "      <td>-0.308988</td>\n",
              "    </tr>\n",
              "    <tr>\n",
              "      <th>sh (g/kg)</th>\n",
              "      <td>-0.069749</td>\n",
              "      <td>0.866770</td>\n",
              "      <td>0.866553</td>\n",
              "      <td>0.967614</td>\n",
              "      <td>-0.151049</td>\n",
              "      <td>0.824349</td>\n",
              "      <td>0.999851</td>\n",
              "      <td>0.448561</td>\n",
              "      <td>1.000000</td>\n",
              "      <td>0.999997</td>\n",
              "      <td>-0.853354</td>\n",
              "      <td>-0.041465</td>\n",
              "      <td>-0.023153</td>\n",
              "      <td>-0.213249</td>\n",
              "      <td>-0.439367</td>\n",
              "    </tr>\n",
              "    <tr>\n",
              "      <th>H2OC (mmol/mol)</th>\n",
              "      <td>-0.069792</td>\n",
              "      <td>0.867195</td>\n",
              "      <td>0.866978</td>\n",
              "      <td>0.968061</td>\n",
              "      <td>-0.151181</td>\n",
              "      <td>0.824386</td>\n",
              "      <td>0.999856</td>\n",
              "      <td>0.448615</td>\n",
              "      <td>0.999997</td>\n",
              "      <td>1.000000</td>\n",
              "      <td>-0.853801</td>\n",
              "      <td>-0.041463</td>\n",
              "      <td>-0.023142</td>\n",
              "      <td>-0.213366</td>\n",
              "      <td>-0.439501</td>\n",
              "    </tr>\n",
              "    <tr>\n",
              "      <th>rho (g/m**3)</th>\n",
              "      <td>0.307583</td>\n",
              "      <td>-0.963404</td>\n",
              "      <td>-0.981342</td>\n",
              "      <td>-0.885231</td>\n",
              "      <td>0.514461</td>\n",
              "      <td>-0.901488</td>\n",
              "      <td>-0.850271</td>\n",
              "      <td>-0.698195</td>\n",
              "      <td>-0.853354</td>\n",
              "      <td>-0.853801</td>\n",
              "      <td>1.000000</td>\n",
              "      <td>0.195175</td>\n",
              "      <td>0.142375</td>\n",
              "      <td>0.125191</td>\n",
              "      <td>0.445831</td>\n",
              "    </tr>\n",
              "    <tr>\n",
              "      <th>Day sin</th>\n",
              "      <td>0.024335</td>\n",
              "      <td>-0.209414</td>\n",
              "      <td>-0.209994</td>\n",
              "      <td>-0.042241</td>\n",
              "      <td>0.393867</td>\n",
              "      <td>-0.230615</td>\n",
              "      <td>-0.040985</td>\n",
              "      <td>-0.329381</td>\n",
              "      <td>-0.041465</td>\n",
              "      <td>-0.041463</td>\n",
              "      <td>0.195175</td>\n",
              "      <td>1.000000</td>\n",
              "      <td>0.000072</td>\n",
              "      <td>-0.000037</td>\n",
              "      <td>-0.000011</td>\n",
              "    </tr>\n",
              "    <tr>\n",
              "      <th>Day cos</th>\n",
              "      <td>0.004076</td>\n",
              "      <td>-0.158552</td>\n",
              "      <td>-0.157833</td>\n",
              "      <td>-0.021313</td>\n",
              "      <td>0.312590</td>\n",
              "      <td>-0.185214</td>\n",
              "      <td>-0.023096</td>\n",
              "      <td>-0.272917</td>\n",
              "      <td>-0.023153</td>\n",
              "      <td>-0.023142</td>\n",
              "      <td>0.142375</td>\n",
              "      <td>0.000072</td>\n",
              "      <td>1.000000</td>\n",
              "      <td>-0.000020</td>\n",
              "      <td>-0.000030</td>\n",
              "    </tr>\n",
              "    <tr>\n",
              "      <th>Year sin</th>\n",
              "      <td>-0.056380</td>\n",
              "      <td>-0.142263</td>\n",
              "      <td>-0.136772</td>\n",
              "      <td>-0.216200</td>\n",
              "      <td>-0.088733</td>\n",
              "      <td>-0.131800</td>\n",
              "      <td>-0.214678</td>\n",
              "      <td>-0.024901</td>\n",
              "      <td>-0.213249</td>\n",
              "      <td>-0.213366</td>\n",
              "      <td>0.125191</td>\n",
              "      <td>-0.000037</td>\n",
              "      <td>-0.000020</td>\n",
              "      <td>1.000000</td>\n",
              "      <td>0.001023</td>\n",
              "    </tr>\n",
              "    <tr>\n",
              "      <th>Year cos</th>\n",
              "      <td>0.019768</td>\n",
              "      <td>-0.462367</td>\n",
              "      <td>-0.460871</td>\n",
              "      <td>-0.430777</td>\n",
              "      <td>0.242826</td>\n",
              "      <td>-0.433101</td>\n",
              "      <td>-0.439461</td>\n",
              "      <td>-0.308988</td>\n",
              "      <td>-0.439367</td>\n",
              "      <td>-0.439501</td>\n",
              "      <td>0.445831</td>\n",
              "      <td>-0.000011</td>\n",
              "      <td>-0.000030</td>\n",
              "      <td>0.001023</td>\n",
              "      <td>1.000000</td>\n",
              "    </tr>\n",
              "  </tbody>\n",
              "</table>\n",
              "</div>"
            ],
            "text/plain": [
              "                 p (mbar)  T (degC)  Tpot (K)  ...   Day cos  Year sin  Year cos\n",
              "p (mbar)         1.000000 -0.045296 -0.124643  ...  0.004076 -0.056380  0.019768\n",
              "T (degC)        -0.045296  1.000000  0.996826  ... -0.158552 -0.142263 -0.462367\n",
              "Tpot (K)        -0.124643  0.996826  1.000000  ... -0.157833 -0.136772 -0.460871\n",
              "Tdew (degC)     -0.066698  0.895706  0.894909  ... -0.021313 -0.216200 -0.430777\n",
              "rh (%)          -0.018363 -0.572593 -0.567306  ...  0.312590 -0.088733  0.242826\n",
              "VPmax (mbar)    -0.031455  0.951080  0.947259  ... -0.185214 -0.131800 -0.433101\n",
              "VPact (mbar)    -0.054353  0.867691  0.866228  ... -0.023096 -0.214678 -0.439461\n",
              "VPdef (mbar)    -0.003283  0.761672  0.756886  ... -0.272917 -0.024901 -0.308988\n",
              "sh (g/kg)       -0.069749  0.866770  0.866553  ... -0.023153 -0.213249 -0.439367\n",
              "H2OC (mmol/mol) -0.069792  0.867195  0.866978  ... -0.023142 -0.213366 -0.439501\n",
              "rho (g/m**3)     0.307583 -0.963404 -0.981342  ...  0.142375  0.125191  0.445831\n",
              "Day sin          0.024335 -0.209414 -0.209994  ...  0.000072 -0.000037 -0.000011\n",
              "Day cos          0.004076 -0.158552 -0.157833  ...  1.000000 -0.000020 -0.000030\n",
              "Year sin        -0.056380 -0.142263 -0.136772  ... -0.000020  1.000000  0.001023\n",
              "Year cos         0.019768 -0.462367 -0.460871  ... -0.000030  0.001023  1.000000\n",
              "\n",
              "[15 rows x 15 columns]"
            ]
          },
          "metadata": {},
          "execution_count": 20
        }
      ]
    },
    {
      "cell_type": "markdown",
      "metadata": {
        "id": "669552be"
      },
      "source": [
        "### Step 8: Splitting data\n",
        "\n",
        "#### About splitting\n",
        "If you want to build a solid model you have to follow that specific protocol of splitting your data into three sets: One for training, one for validation and one for final evaluation, which is the test set.\n",
        "\n",
        "The idea is that you train on your training data and tune your model with the results of metrics (accuracy, loss etc) that you get from your validation set.\n",
        "\n",
        "Your model doesn't \"see\" your validation set and isn't in any way trained on it, but you as the architect and master of the hyperparameters tune the model according to this data. Therefore it indirectly influences your model because it directly influences your design decisions. You nudge your model to work well with the validation data and that can possibly bring in a tilt.\n",
        "\n",
        "#### What to do?\n",
        "- Use the length of data and split it into\n",
        "    - 70% for training\n",
        "    - 20% for validation\n",
        "    - 10% for testing set"
      ],
      "id": "669552be"
    },
    {
      "cell_type": "code",
      "metadata": {
        "id": "111d64cb"
      },
      "source": [
        "nb_elts = len(df)\n",
        "train_df = df[:int(nb_elts * .7)]\n",
        "val_df = df[int(nb_elts * .7):int(nb_elts *.9)]\n",
        "test_df = df[int(nb_elts * .9):]"
      ],
      "id": "111d64cb",
      "execution_count": 23,
      "outputs": []
    },
    {
      "cell_type": "markdown",
      "metadata": {
        "id": "f13e8bc1"
      },
      "source": [
        "### Step 9: Normalize data\n",
        "- Only normalize data based on training data\n",
        "    - Notice you should only normalize the training data - because validation and test data could affect the normalization\n",
        "- Get the mean and standard deviation of the data\n",
        "    - HINT: Use **.mean()** and **.std()** on the dataframe.\n",
        "- Noramlize the data as follows\n",
        "    - **train_df = (train_df - train_mean) / train_std** (assuming naming fits)\n",
        "    - HINT: The transformation of validation and test data is done similarly with **train_mean** and **train_std**."
      ],
      "id": "f13e8bc1"
    },
    {
      "cell_type": "code",
      "metadata": {
        "id": "cc3eeb46"
      },
      "source": [
        "train_mean = train_df.mean()\n",
        "train_std = train_df.std()"
      ],
      "id": "cc3eeb46",
      "execution_count": 25,
      "outputs": []
    },
    {
      "cell_type": "code",
      "metadata": {
        "id": "eec78cb8"
      },
      "source": [
        "train_df = (train_df - train_mean) / train_std \n",
        "val_df = (val_df - train_mean) / train_std \n",
        "test_df = (test_df - train_mean) / train_std "
      ],
      "id": "eec78cb8",
      "execution_count": 26,
      "outputs": []
    },
    {
      "cell_type": "markdown",
      "metadata": {
        "id": "fd4b352f"
      },
      "source": [
        "### Step 10: Create datasets\n",
        "<img src='https://github.com/adel-nouar/ML_with_Rune/blob/main/img/data_windowing.png?raw=1' width=600 align='left'>"
      ],
      "id": "fd4b352f"
    },
    {
      "cell_type": "markdown",
      "metadata": {
        "id": "f45502b3"
      },
      "source": [
        "- Make a function with **input_width** and **offset** - assume we always use **label_width=1**.\n",
        "- Call the function **create_dataset**, which takes arguments **df, input_width=24, offset=0, predict_column='T (degC)'**\n",
        "    - Let it create two empty lists **x** and **y**\n",
        "    - Convert the dataframe **df** to numpy and assign it to **data_x**\n",
        "    - Do the same for the **predict_column** but assign it to **data_y**\n",
        "    - Iterate over the range of starting from **input_width** to **len(data_x) - offset**\n",
        "        - Append to **x** with **data_x[i-input_width:i,:]**\n",
        "        - Append to **y** with **data_y[i + offset]**\n",
        "    - Convert **x** and **y** to numpy arrays\n",
        "        - HINT: Use **np.array(...)**\n",
        "    - Return the **x** and **y** (but reshape y with **reshape(-1, 1)**)\n",
        "- Apply the function on training, validation, and test data"
      ],
      "id": "f45502b3"
    },
    {
      "cell_type": "code",
      "metadata": {
        "id": "f3e928bd"
      },
      "source": [
        "def create_dataset(df, input_width:int=24, offset:int=0, predict_column:str='T (degC)'):\n",
        "  x = []\n",
        "  y = []\n",
        "  data_x = df.to_numpy()\n",
        "  data_y = df[predict_column].to_numpy()\n",
        "\n",
        "  for i in range(input_width, len(data_x) - offset ):\n",
        "    x.append(data_x[i - input_width:i, :])\n",
        "    y.append(data_y[i + offset])\n",
        "  \n",
        "  x = np.array(x)\n",
        "  y = np.array(y)\n",
        "\n",
        "  return x, y.reshape(-1, 1)"
      ],
      "id": "f3e928bd",
      "execution_count": 30,
      "outputs": []
    },
    {
      "cell_type": "code",
      "metadata": {
        "id": "ce339780"
      },
      "source": [
        "train_ds = create_dataset(train_df)\n",
        "val_ds = create_dataset(val_df)\n",
        "test_ds = create_dataset(test_df)"
      ],
      "id": "ce339780",
      "execution_count": 31,
      "outputs": []
    },
    {
      "cell_type": "code",
      "metadata": {
        "id": "3094ba59",
        "outputId": "3fd99cf1-30fd-40b1-efe8-a0eada6ad2e4",
        "colab": {
          "base_uri": "https://localhost:8080/"
        }
      },
      "source": [
        "train_ds[0].shape"
      ],
      "id": "3094ba59",
      "execution_count": 32,
      "outputs": [
        {
          "output_type": "execute_result",
          "data": {
            "text/plain": [
              "(49039, 24, 15)"
            ]
          },
          "metadata": {},
          "execution_count": 32
        }
      ]
    },
    {
      "cell_type": "markdown",
      "metadata": {
        "id": "f7463011"
      },
      "source": [
        "### Step 11: Create model\n",
        "- Create the following model\n",
        "    - **model = models.Sequential()**\n",
        "    - **model.add(layers.LSTM(32, return_sequences=True, input_shape=train_ds[0].shape[1:]))**\n",
        "    - **model.add(layers.Dense(units=1))**"
      ],
      "id": "f7463011"
    },
    {
      "cell_type": "code",
      "metadata": {
        "id": "f8c09efe"
      },
      "source": [
        "model = models.Sequential()\n",
        "model.add(layers.LSTM(32, return_sequences=True, input_shape=train_ds[0].shape[1:]))\n",
        "model.add(layers.Dense(units=1))"
      ],
      "id": "f8c09efe",
      "execution_count": 33,
      "outputs": []
    },
    {
      "cell_type": "markdown",
      "metadata": {
        "id": "3b681561"
      },
      "source": [
        "### Step 12: Train model\n",
        "- Compile and fit the model\n",
        "- Complie the model as follows\n",
        "    - **model.compile(optimizer='adam', loss='mean_squared_error', metrics=['accuracy'])**\n",
        "- Fit the model as follows\n",
        "    - **model.fit(x=train_ds[0], y=train_ds[1], validation_data=(val_ds[0], val_ds[1]), epochs=5)**"
      ],
      "id": "3b681561"
    },
    {
      "cell_type": "code",
      "metadata": {
        "id": "d582ae24",
        "outputId": "0fd64067-2fe3-4f88-e0c4-00bcb6af0086",
        "colab": {
          "base_uri": "https://localhost:8080/"
        }
      },
      "source": [
        "model.compile(optimizer='adam', loss='mean_squared_error', metrics=['accuracy'])\n",
        "model.fit(x=train_ds[0], y=train_ds[1], validation_data=(val_ds[0], val_ds[1]), epochs=10)"
      ],
      "id": "d582ae24",
      "execution_count": 34,
      "outputs": [
        {
          "output_type": "stream",
          "name": "stdout",
          "text": [
            "Epoch 1/10\n",
            "1533/1533 [==============================] - 21s 12ms/step - loss: 0.1188 - accuracy: 0.0000e+00 - val_loss: 0.0947 - val_accuracy: 0.0000e+00\n",
            "Epoch 2/10\n",
            "1533/1533 [==============================] - 18s 12ms/step - loss: 0.0873 - accuracy: 0.0000e+00 - val_loss: 0.0897 - val_accuracy: 0.0000e+00\n",
            "Epoch 3/10\n",
            "1533/1533 [==============================] - 18s 12ms/step - loss: 0.0837 - accuracy: 0.0000e+00 - val_loss: 0.0881 - val_accuracy: 0.0000e+00\n",
            "Epoch 4/10\n",
            "1533/1533 [==============================] - 18s 12ms/step - loss: 0.0818 - accuracy: 0.0000e+00 - val_loss: 0.0860 - val_accuracy: 0.0000e+00\n",
            "Epoch 5/10\n",
            "1533/1533 [==============================] - 18s 12ms/step - loss: 0.0803 - accuracy: 0.0000e+00 - val_loss: 0.0871 - val_accuracy: 0.0000e+00\n",
            "Epoch 6/10\n",
            "1533/1533 [==============================] - 18s 12ms/step - loss: 0.0795 - accuracy: 0.0000e+00 - val_loss: 0.0842 - val_accuracy: 0.0000e+00\n",
            "Epoch 7/10\n",
            "1533/1533 [==============================] - 19s 12ms/step - loss: 0.0784 - accuracy: 0.0000e+00 - val_loss: 0.0847 - val_accuracy: 0.0000e+00\n",
            "Epoch 8/10\n",
            "1533/1533 [==============================] - 18s 12ms/step - loss: 0.0777 - accuracy: 0.0000e+00 - val_loss: 0.0851 - val_accuracy: 0.0000e+00\n",
            "Epoch 9/10\n",
            "1533/1533 [==============================] - 18s 12ms/step - loss: 0.0770 - accuracy: 0.0000e+00 - val_loss: 0.0833 - val_accuracy: 0.0000e+00\n",
            "Epoch 10/10\n",
            "1533/1533 [==============================] - 18s 12ms/step - loss: 0.0763 - accuracy: 0.0000e+00 - val_loss: 0.0839 - val_accuracy: 0.0000e+00\n"
          ]
        },
        {
          "output_type": "execute_result",
          "data": {
            "text/plain": [
              "<keras.callbacks.History at 0x7fa0bc0c3a90>"
            ]
          },
          "metadata": {},
          "execution_count": 34
        }
      ]
    },
    {
      "cell_type": "markdown",
      "metadata": {
        "id": "d4ecf642"
      },
      "source": [
        "### Step 13: Predict data\n",
        "- Apply the model on the test data\n",
        "    - HINT: Use **model.predict(x)**, where **x** is assigned to the test data."
      ],
      "id": "d4ecf642"
    },
    {
      "cell_type": "code",
      "metadata": {
        "id": "d8207f2e"
      },
      "source": [
        "x, y = test_ds"
      ],
      "id": "d8207f2e",
      "execution_count": 35,
      "outputs": []
    },
    {
      "cell_type": "code",
      "metadata": {
        "id": "a50d8650"
      },
      "source": [
        "y_pred = model.predict(x)"
      ],
      "id": "a50d8650",
      "execution_count": 36,
      "outputs": []
    },
    {
      "cell_type": "code",
      "metadata": {
        "id": "56f5e97a",
        "outputId": "fa3c031d-aabf-486f-d32e-187d4b990319",
        "colab": {
          "base_uri": "https://localhost:8080/"
        }
      },
      "source": [
        "y_pred.shape"
      ],
      "id": "56f5e97a",
      "execution_count": 37,
      "outputs": [
        {
          "output_type": "execute_result",
          "data": {
            "text/plain": [
              "(6986, 24, 1)"
            ]
          },
          "metadata": {},
          "execution_count": 37
        }
      ]
    },
    {
      "cell_type": "markdown",
      "metadata": {
        "id": "984a5d8c"
      },
      "source": [
        "### Step 14: Plot the result\n",
        "- Plot a window of the data predicted together with the actual data.\n",
        "- One way:\n",
        "    - **fig, ax = plt.subplots()**\n",
        "    - **ax.plot(y[i:i+96*2,0], c='g')**\n",
        "    - **ax.plot(pred[i:i+96*2,-1,0], c='r')**\n",
        "- It will plot a window of 96 hours, where you can index with **i** (**i=150** as an example) and **y** is the real values and **pred** are the predicted values"
      ],
      "id": "984a5d8c"
    },
    {
      "cell_type": "code",
      "metadata": {
        "id": "a28422b8",
        "outputId": "811543e5-6d42-43b1-a9b6-f392cddd52de",
        "colab": {
          "base_uri": "https://localhost:8080/",
          "height": 282
        }
      },
      "source": [
        "fig, ax = plt.subplots()\n",
        "i = 200\n",
        "ax.plot(y[i:i+96*2,0], c='g')\n",
        "ax.plot(y_pred[i:i+96*2,-1,0], c='r')"
      ],
      "id": "a28422b8",
      "execution_count": 38,
      "outputs": [
        {
          "output_type": "execute_result",
          "data": {
            "text/plain": [
              "[<matplotlib.lines.Line2D at 0x7fa0af866c10>]"
            ]
          },
          "metadata": {},
          "execution_count": 38
        },
        {
          "output_type": "display_data",
          "data": {
            "image/png": "[encoded data removed]",
            "text/plain": [
              "<Figure size 432x288 with 1 Axes>"
            ]
          },
          "metadata": {
            "needs_background": "light"
          }
        }
      ]
    },
    {
      "cell_type": "markdown",
      "metadata": {
        "id": "30ebd51c"
      },
      "source": [
        "### Step 15 (Optional): Calculate the correlation\n",
        "- Create a dataframe with real and predicted values.\n",
        "- Apply the **.corr()** method on the dataframe."
      ],
      "id": "30ebd51c"
    },
    {
      "cell_type": "code",
      "metadata": {
        "id": "28a60cce",
        "outputId": "7b81d9ca-3aa9-4f01-aae2-59b42266d03d",
        "colab": {
          "base_uri": "https://localhost:8080/",
          "height": 112
        }
      },
      "source": [
        "df_c = pd.DataFrame({'real': y[:,0], 'pred': y_pred[:, -1,0]})\n",
        "\n",
        "df_c.corr()"
      ],
      "id": "28a60cce",
      "execution_count": 41,
      "outputs": [
        {
          "output_type": "execute_result",
          "data": {
            "text/html": [
              "<div>\n",
              "<style scoped>\n",
              "    .dataframe tbody tr th:only-of-type {\n",
              "        vertical-align: middle;\n",
              "    }\n",
              "\n",
              "    .dataframe tbody tr th {\n",
              "        vertical-align: top;\n",
              "    }\n",
              "\n",
              "    .dataframe thead th {\n",
              "        text-align: right;\n",
              "    }\n",
              "</style>\n",
              "<table border=\"1\" class=\"dataframe\">\n",
              "  <thead>\n",
              "    <tr style=\"text-align: right;\">\n",
              "      <th></th>\n",
              "      <th>real</th>\n",
              "      <th>pred</th>\n",
              "    </tr>\n",
              "  </thead>\n",
              "  <tbody>\n",
              "    <tr>\n",
              "      <th>real</th>\n",
              "      <td>1.000000</td>\n",
              "      <td>0.992758</td>\n",
              "    </tr>\n",
              "    <tr>\n",
              "      <th>pred</th>\n",
              "      <td>0.992758</td>\n",
              "      <td>1.000000</td>\n",
              "    </tr>\n",
              "  </tbody>\n",
              "</table>\n",
              "</div>"
            ],
            "text/plain": [
              "          real      pred\n",
              "real  1.000000  0.992758\n",
              "pred  0.992758  1.000000"
            ]
          },
          "metadata": {},
          "execution_count": 41
        }
      ]
    }
  ]
}