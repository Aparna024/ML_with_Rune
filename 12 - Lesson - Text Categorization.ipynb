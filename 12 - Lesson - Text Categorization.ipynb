{
  "nbformat": 4,
  "nbformat_minor": 5,
  "metadata": {
    "kernelspec": {
      "display_name": "Python 3",
      "language": "python",
      "name": "python3"
    },
    "language_info": {
      "codemirror_mode": {
        "name": "ipython",
        "version": 3
      },
      "file_extension": ".py",
      "mimetype": "text/x-python",
      "name": "python",
      "nbconvert_exporter": "python",
      "pygments_lexer": "ipython3",
      "version": "3.8.8"
    },
    "colab": {
      "name": "12 - Lesson - Text Categorization.ipynb",
      "provenance": [],
      "include_colab_link": true
    }
  },
  "cells": [
    {
      "cell_type": "markdown",
      "metadata": {
        "id": "view-in-github",
        "colab_type": "text"
      },
      "source": [
        "<a href=\"https://colab.research.google.com/github/adel-nouar/ML_with_Rune/blob/main/12%20-%20Lesson%20-%20Text%20Categorization.ipynb\" target=\"_parent\"><img src=\"https://colab.research.google.com/assets/colab-badge.svg\" alt=\"Open In Colab\"/></a>"
      ]
    },
    {
      "cell_type": "markdown",
      "metadata": {
        "id": "679b5aa5"
      },
      "source": [
        "# Text Categorization\n",
        "### Goal of lesson\n",
        "- What is Text Categorization\n",
        "- Learn about the Bag-of-Words Model\n",
        "- Understand Naive Bayes' Rule\n",
        "- How to use Naive Bayes' Rule for sentiment classification (text categorization)\n",
        "- What problem smoothing solves\n",
        "\n",
        "### What is Text Categorization\n",
        "- Example:\n",
        "    - Inbox vs Spam\n",
        "    - Product review: Positive vs Negtive review"
      ],
      "id": "679b5aa5"
    },
    {
      "cell_type": "markdown",
      "metadata": {
        "id": "b37b433d"
      },
      "source": [
        "### Bag-of-Words Model\n",
        "- Model that represents text as an unordered collection of words\n",
        "- The structure is not important\n",
        "- Works well to classify\n",
        "\n",
        "- Example\n",
        "    - I **love** this product.\n",
        "    - This product feels **cheap**.\n",
        "    - This is the **best** product ever."
      ],
      "id": "b37b433d"
    },
    {
      "cell_type": "markdown",
      "metadata": {
        "id": "6280b34e"
      },
      "source": [
        "### Naive Bayes Classifier\n",
        "- Naive Bayes classifiers are a family of simple \"probabilistic classifiers\" based on applying Bayes' theorem with strong (naïve) independence assumptions between the features ([wiki](https://en.wikipedia.org/wiki/Naive_Bayes_classifier))\n",
        "\n",
        "### Bayes' Rule Theorem \n",
        "- Describes the probability of an event, based on prior knowledge of conditions that might be related to the event ([wiki](https://en.wikipedia.org/wiki/Bayes%27_theorem))\n",
        "- $P(b|a) = \\frac{P(a|b)P(b)}{P(a)}$\n",
        "\n",
        "### Explained\n",
        "$P(\\text{positive})$\n",
        "\n",
        "$P(\\text{positive}| \\text{\"I love this product\"}) = P(\\text{positive} | \\text{\"I\", \"love\", \"this\", \"product\"})$\n",
        "\n",
        "Bayes's Rule implies it is equal to\n",
        "\n",
        "$\\frac{P(\\text{\"I\", \"love\", \"this\", \"product\"} | \\text{positive}) P(\\text{positive})}{P(\\text{\"I\", \"love\", \"this\", \"product\"})}$ \n",
        "\n",
        "Or proportional to\n",
        "\n",
        "$P(\\text{\"I\", \"love\", \"this\", \"product\"} | \\text{positive}) P(\\text{positive})$\n",
        "\n",
        "The 'Naive' part we use this to simplify\n",
        "\n",
        "$P(\\text{positive})P(\\text{\"I\"} | \\text{positive})P(\\text{\"love\"} | \\text{positive})P(\\text{\"this\"} | \\text{positive})P(\\text{\"product\"} | \\text{positive})$"
      ],
      "id": "6280b34e"
    },
    {
      "cell_type": "markdown",
      "metadata": {
        "id": "e1e0418e"
      },
      "source": [
        "$P(\\text{positive})=\\frac{\\text{number of positive samples}}{\\text{number of samples}}$\n",
        "\n",
        "$P(\\text{\"love\"}|\\text{positive})=\\frac{\\text{number of positive samples with \"love\"}}{\\text{number of positive samples}}$\n",
        "\n"
      ],
      "id": "e1e0418e"
    },
    {
      "cell_type": "markdown",
      "metadata": {
        "id": "c0fef7a3"
      },
      "source": [
        "### Example\n",
        "\n",
        "\"I love this product\"\n",
        "\n",
        "| positive | negative |\n",
        "| ------ | ------ |\n",
        "| 0.47 | 0.53 |\n",
        "\n",
        "| word | positive | negative |\n",
        "| ------ | ------ | ------ |\n",
        "| \"I\" | 0.30 | 0.20 |\n",
        "| \"love\" | 0.40 | 0.05 |\n",
        "| \"this\" | 0.28 | 0.42 |\n",
        "| \"product\" | 0.25 | 0.28 |\n",
        "\n",
        "\n"
      ],
      "id": "c0fef7a3"
    },
    {
      "cell_type": "markdown",
      "metadata": {
        "id": "272bf3bd"
      },
      "source": [
        "$P(\\text{positive})P(\\text{\"I\"} | \\text{positive})P(\\text{\"love\"} | \\text{positive})P(\\text{\"this\"} | \\text{positive})P(\\text{\"product\"} | \\text{positive}) = 0.47 * 0.30 * 0.40 * 0.28 * 0.25 = 0.003948$\n",
        "\n",
        "$P(\\text{negative})P(\\text{\"I\"} | \\text{negative})P(\\text{\"love\"} | \\text{negative})P(\\text{\"this\"} | \\text{negative})P(\\text{\"product\"} | \\text{negative}) = 0.53 * 0.20 * 0.05 * 0.42 * 0.28 = 0.00062328$"
      ],
      "id": "272bf3bd"
    },
    {
      "cell_type": "markdown",
      "metadata": {
        "id": "16a2ff37"
      },
      "source": [
        "Calculate the likelyhood\n",
        "\n",
        "\"I love this product\" is positive: 0.00394 / (0.00394 + 0.00062328) = 86.3%\n",
        "\n",
        "\"I love this product\" is negative: 0.00062328 / (0.00394 + 0.00062328) = 13.7%"
      ],
      "id": "16a2ff37"
    },
    {
      "cell_type": "markdown",
      "metadata": {
        "id": "6a9466a9"
      },
      "source": [
        "### Problem\n",
        "- If a word never showed up in a sentence\n",
        "\n",
        "### Additive Smoothing\n",
        "- Adding a value to each value in the distribution to smooth the data\n",
        "\n",
        "### Laplace smoothing\n",
        "- Adding 1 to each value in the distribution"
      ],
      "id": "6a9466a9"
    },
    {
      "cell_type": "markdown",
      "metadata": {
        "id": "32d280e6"
      },
      "source": [
        "> #### Programming Notes:\n",
        "> - Libraries used\n",
        ">     - [**pandas**](https://pandas.pydata.org) - a data analysis and manipulation tool\n",
        ">     - [**nltk**](https://www.nltk.org) - Natural Language Toolkit\n",
        "> - Functionality and concepts used\n",
        ">     - [**CSV**](https://en.wikipedia.org/wiki/Comma-separated_values) file ([Lecture on CSV](https://youtu.be/LEyojSOg4EI))\n",
        ">     - [**read_csv()**](https://pandas.pydata.org/pandas-docs/stable/reference/api/pandas.read_csv.html) read a comma-separated values (csv) file into **pandas** DataFrame.\n",
        ">     - **List/Set/Dict Comprehension** to convert data ([Lecture on **List Comprehension**](https://youtu.be/vCYEvtfXdig))\n",
        ">     - [**word_tokenize**](https://www.nltk.org/api/nltk.tokenize.html) Tokenize a string to split off punctuation other than periods\n",
        ">     - [**NaiveBayesClassifier**](https://www.nltk.org/_modules/nltk/classify/naivebayes.html) A classifier based on the Naive Bayes algorithm"
      ],
      "id": "32d280e6"
    },
    {
      "cell_type": "code",
      "metadata": {
        "id": "664d8d53"
      },
      "source": [
        "import nltk\n",
        "import pandas as pd"
      ],
      "id": "664d8d53",
      "execution_count": 1,
      "outputs": []
    },
    {
      "cell_type": "code",
      "metadata": {
        "id": "gDbdxu3cAH-i",
        "outputId": "6a0ec43b-401b-4839-85b0-ec3ff05e5330",
        "colab": {
          "base_uri": "https://localhost:8080/"
        }
      },
      "source": [
        "nltk.download('punkt')"
      ],
      "id": "gDbdxu3cAH-i",
      "execution_count": 7,
      "outputs": [
        {
          "output_type": "stream",
          "name": "stdout",
          "text": [
            "[nltk_data] Downloading package punkt to /root/nltk_data...\n",
            "[nltk_data]   Unzipping tokenizers/punkt.zip.\n"
          ]
        },
        {
          "output_type": "execute_result",
          "data": {
            "text/plain": [
              "True"
            ]
          },
          "metadata": {},
          "execution_count": 7
        }
      ]
    },
    {
      "cell_type": "code",
      "metadata": {
        "id": "86d429b3",
        "outputId": "6f135728-510b-4791-c3fd-8e2afe886762",
        "colab": {
          "base_uri": "https://localhost:8080/",
          "height": 204
        }
      },
      "source": [
        "data = pd.read_csv('files/sentiment.csv')\n",
        "data.tail()"
      ],
      "id": "86d429b3",
      "execution_count": 4,
      "outputs": [
        {
          "output_type": "execute_result",
          "data": {
            "text/html": [
              "<div>\n",
              "<style scoped>\n",
              "    .dataframe tbody tr th:only-of-type {\n",
              "        vertical-align: middle;\n",
              "    }\n",
              "\n",
              "    .dataframe tbody tr th {\n",
              "        vertical-align: top;\n",
              "    }\n",
              "\n",
              "    .dataframe thead th {\n",
              "        text-align: right;\n",
              "    }\n",
              "</style>\n",
              "<table border=\"1\" class=\"dataframe\">\n",
              "  <thead>\n",
              "    <tr style=\"text-align: right;\">\n",
              "      <th></th>\n",
              "      <th>Text</th>\n",
              "      <th>Label</th>\n",
              "    </tr>\n",
              "  </thead>\n",
              "  <tbody>\n",
              "    <tr>\n",
              "      <th>8</th>\n",
              "      <td>So much fun</td>\n",
              "      <td>Positive</td>\n",
              "    </tr>\n",
              "    <tr>\n",
              "      <th>9</th>\n",
              "      <td>Great product, would recommend</td>\n",
              "      <td>Positive</td>\n",
              "    </tr>\n",
              "    <tr>\n",
              "      <th>10</th>\n",
              "      <td>My grandson loved it</td>\n",
              "      <td>Positive</td>\n",
              "    </tr>\n",
              "    <tr>\n",
              "      <th>11</th>\n",
              "      <td>My mother really enjoyed the gift</td>\n",
              "      <td>Positive</td>\n",
              "    </tr>\n",
              "    <tr>\n",
              "      <th>12</th>\n",
              "      <td>Great purchase!</td>\n",
              "      <td>Positive</td>\n",
              "    </tr>\n",
              "  </tbody>\n",
              "</table>\n",
              "</div>"
            ],
            "text/plain": [
              "                                 Text      Label\n",
              "8                         So much fun   Positive\n",
              "9      Great product, would recommend   Positive\n",
              "10               My grandson loved it   Positive\n",
              "11  My mother really enjoyed the gift   Positive\n",
              "12                    Great purchase!   Positive"
            ]
          },
          "metadata": {},
          "execution_count": 4
        }
      ]
    },
    {
      "cell_type": "code",
      "metadata": {
        "id": "366e3f31"
      },
      "source": [
        "def extract_words(document):\n",
        "    return set(\n",
        "        word.lower() for word in nltk.word_tokenize(document)\n",
        "        if any(c.isalpha() for c in word)\n",
        "    )"
      ],
      "id": "366e3f31",
      "execution_count": 5,
      "outputs": []
    },
    {
      "cell_type": "code",
      "metadata": {
        "id": "d5f821e5"
      },
      "source": [
        "words = set()\n",
        "\n",
        "for line in data['Text'].to_list():\n",
        "    words.update(extract_words(line))"
      ],
      "id": "d5f821e5",
      "execution_count": 8,
      "outputs": []
    },
    {
      "cell_type": "code",
      "metadata": {
        "id": "c7c85b11"
      },
      "source": [
        "features = []\n",
        "for _, row in data.iterrows():\n",
        "    features.append(({word: (word in row['Text']) for word in words}, row['Label']))"
      ],
      "id": "c7c85b11",
      "execution_count": 9,
      "outputs": []
    },
    {
      "cell_type": "code",
      "metadata": {
        "id": "303239f5"
      },
      "source": [
        "classifier = nltk.NaiveBayesClassifier.train(features)"
      ],
      "id": "303239f5",
      "execution_count": 10,
      "outputs": []
    },
    {
      "cell_type": "code",
      "metadata": {
        "id": "0949bcec",
        "outputId": "8a7c1c7d-2af0-4759-8c94-4bfa61add068",
        "colab": {
          "base_uri": "https://localhost:8080/"
        }
      },
      "source": [
        "s = input()\n",
        "\n",
        "feature = {word: (word in extract_words(s)) for word in words}\n",
        "\n",
        "result = classifier.prob_classify(feature)\n",
        "\n",
        "for key in result.samples():\n",
        "    print(key, result.prob(key))"
      ],
      "id": "0949bcec",
      "execution_count": 11,
      "outputs": [
        {
          "output_type": "stream",
          "name": "stdout",
          "text": [
            "good to know\n",
            " Negative 0.40181320519069275\n",
            " Positive 0.5981867948093074\n"
          ]
        }
      ]
    }
  ]
}