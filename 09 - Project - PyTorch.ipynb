{
  "nbformat": 4,
  "nbformat_minor": 5,
  "metadata": {
    "kernelspec": {
      "display_name": "Python 3",
      "language": "python",
      "name": "python3"
    },
    "language_info": {
      "codemirror_mode": {
        "name": "ipython",
        "version": 3
      },
      "file_extension": ".py",
      "mimetype": "text/x-python",
      "name": "python",
      "nbconvert_exporter": "python",
      "pygments_lexer": "ipython3",
      "version": "3.8.8"
    },
    "colab": {
      "name": "09 - Project - PyTorch.ipynb",
      "provenance": [],
      "include_colab_link": true
    },
    "widgets": {
      "application/vnd.jupyter.widget-state+json": {
        "3f076dd2d6db4ca2a05dd9fcd43cc9ec": {
          "model_module": "@jupyter-widgets/controls",
          "model_name": "HBoxModel",
          "model_module_version": "1.5.0",
          "state": {
            "_view_name": "HBoxView",
            "_dom_classes": [],
            "_model_name": "HBoxModel",
            "_view_module": "@jupyter-widgets/controls",
            "_model_module_version": "1.5.0",
            "_view_count": null,
            "_view_module_version": "1.5.0",
            "box_style": "",
            "layout": "IPY_MODEL_7fadbd5e93fe468d9e89eb02b34904c6",
            "_model_module": "@jupyter-widgets/controls",
            "children": [
              "IPY_MODEL_e7eeb0a7746142cba53a54f28c16e86c",
              "IPY_MODEL_edfab5dfe1504ba5ac91ab0f89cb0139",
              "IPY_MODEL_d76942abe8c7408ea2b979a95d879fb7"
            ]
          }
        },
        "7fadbd5e93fe468d9e89eb02b34904c6": {
          "model_module": "@jupyter-widgets/base",
          "model_name": "LayoutModel",
          "model_module_version": "1.2.0",
          "state": {
            "_view_name": "LayoutView",
            "grid_template_rows": null,
            "right": null,
            "justify_content": null,
            "_view_module": "@jupyter-widgets/base",
            "overflow": null,
            "_model_module_version": "1.2.0",
            "_view_count": null,
            "flex_flow": null,
            "width": null,
            "min_width": null,
            "border": null,
            "align_items": null,
            "bottom": null,
            "_model_module": "@jupyter-widgets/base",
            "top": null,
            "grid_column": null,
            "overflow_y": null,
            "overflow_x": null,
            "grid_auto_flow": null,
            "grid_area": null,
            "grid_template_columns": null,
            "flex": null,
            "_model_name": "LayoutModel",
            "justify_items": null,
            "grid_row": null,
            "max_height": null,
            "align_content": null,
            "visibility": null,
            "align_self": null,
            "height": null,
            "min_height": null,
            "padding": null,
            "grid_auto_rows": null,
            "grid_gap": null,
            "max_width": null,
            "order": null,
            "_view_module_version": "1.2.0",
            "grid_template_areas": null,
            "object_position": null,
            "object_fit": null,
            "grid_auto_columns": null,
            "margin": null,
            "display": null,
            "left": null
          }
        },
        "e7eeb0a7746142cba53a54f28c16e86c": {
          "model_module": "@jupyter-widgets/controls",
          "model_name": "HTMLModel",
          "model_module_version": "1.5.0",
          "state": {
            "_view_name": "HTMLView",
            "style": "IPY_MODEL_8faa687c9d9c4583a82200a515b43648",
            "_dom_classes": [],
            "description": "",
            "_model_name": "HTMLModel",
            "placeholder": "​",
            "_view_module": "@jupyter-widgets/controls",
            "_model_module_version": "1.5.0",
            "value": "",
            "_view_count": null,
            "_view_module_version": "1.5.0",
            "description_tooltip": null,
            "_model_module": "@jupyter-widgets/controls",
            "layout": "IPY_MODEL_af6eb3022bf14fd286d3bf0c6a0addd7"
          }
        },
        "edfab5dfe1504ba5ac91ab0f89cb0139": {
          "model_module": "@jupyter-widgets/controls",
          "model_name": "FloatProgressModel",
          "model_module_version": "1.5.0",
          "state": {
            "_view_name": "ProgressView",
            "style": "IPY_MODEL_9873ec82bbd84ebd8b0f721707ab4522",
            "_dom_classes": [],
            "description": "",
            "_model_name": "FloatProgressModel",
            "bar_style": "success",
            "max": 170498071,
            "_view_module": "@jupyter-widgets/controls",
            "_model_module_version": "1.5.0",
            "value": 170498071,
            "_view_count": null,
            "_view_module_version": "1.5.0",
            "orientation": "horizontal",
            "min": 0,
            "description_tooltip": null,
            "_model_module": "@jupyter-widgets/controls",
            "layout": "IPY_MODEL_b3dbdf640b094fba98414dcceb14339b"
          }
        },
        "d76942abe8c7408ea2b979a95d879fb7": {
          "model_module": "@jupyter-widgets/controls",
          "model_name": "HTMLModel",
          "model_module_version": "1.5.0",
          "state": {
            "_view_name": "HTMLView",
            "style": "IPY_MODEL_ac96a2e5ef7b4b749230cae14308880a",
            "_dom_classes": [],
            "description": "",
            "_model_name": "HTMLModel",
            "placeholder": "​",
            "_view_module": "@jupyter-widgets/controls",
            "_model_module_version": "1.5.0",
            "value": " 170499072/? [00:03&lt;00:00, 54472418.99it/s]",
            "_view_count": null,
            "_view_module_version": "1.5.0",
            "description_tooltip": null,
            "_model_module": "@jupyter-widgets/controls",
            "layout": "IPY_MODEL_c8df35de0ce44ae3a0b0fb74ed84faff"
          }
        },
        "8faa687c9d9c4583a82200a515b43648": {
          "model_module": "@jupyter-widgets/controls",
          "model_name": "DescriptionStyleModel",
          "model_module_version": "1.5.0",
          "state": {
            "_view_name": "StyleView",
            "_model_name": "DescriptionStyleModel",
            "description_width": "",
            "_view_module": "@jupyter-widgets/base",
            "_model_module_version": "1.5.0",
            "_view_count": null,
            "_view_module_version": "1.2.0",
            "_model_module": "@jupyter-widgets/controls"
          }
        },
        "af6eb3022bf14fd286d3bf0c6a0addd7": {
          "model_module": "@jupyter-widgets/base",
          "model_name": "LayoutModel",
          "model_module_version": "1.2.0",
          "state": {
            "_view_name": "LayoutView",
            "grid_template_rows": null,
            "right": null,
            "justify_content": null,
            "_view_module": "@jupyter-widgets/base",
            "overflow": null,
            "_model_module_version": "1.2.0",
            "_view_count": null,
            "flex_flow": null,
            "width": null,
            "min_width": null,
            "border": null,
            "align_items": null,
            "bottom": null,
            "_model_module": "@jupyter-widgets/base",
            "top": null,
            "grid_column": null,
            "overflow_y": null,
            "overflow_x": null,
            "grid_auto_flow": null,
            "grid_area": null,
            "grid_template_columns": null,
            "flex": null,
            "_model_name": "LayoutModel",
            "justify_items": null,
            "grid_row": null,
            "max_height": null,
            "align_content": null,
            "visibility": null,
            "align_self": null,
            "height": null,
            "min_height": null,
            "padding": null,
            "grid_auto_rows": null,
            "grid_gap": null,
            "max_width": null,
            "order": null,
            "_view_module_version": "1.2.0",
            "grid_template_areas": null,
            "object_position": null,
            "object_fit": null,
            "grid_auto_columns": null,
            "margin": null,
            "display": null,
            "left": null
          }
        },
        "9873ec82bbd84ebd8b0f721707ab4522": {
          "model_module": "@jupyter-widgets/controls",
          "model_name": "ProgressStyleModel",
          "model_module_version": "1.5.0",
          "state": {
            "_view_name": "StyleView",
            "_model_name": "ProgressStyleModel",
            "description_width": "",
            "_view_module": "@jupyter-widgets/base",
            "_model_module_version": "1.5.0",
            "_view_count": null,
            "_view_module_version": "1.2.0",
            "bar_color": null,
            "_model_module": "@jupyter-widgets/controls"
          }
        },
        "b3dbdf640b094fba98414dcceb14339b": {
          "model_module": "@jupyter-widgets/base",
          "model_name": "LayoutModel",
          "model_module_version": "1.2.0",
          "state": {
            "_view_name": "LayoutView",
            "grid_template_rows": null,
            "right": null,
            "justify_content": null,
            "_view_module": "@jupyter-widgets/base",
            "overflow": null,
            "_model_module_version": "1.2.0",
            "_view_count": null,
            "flex_flow": null,
            "width": null,
            "min_width": null,
            "border": null,
            "align_items": null,
            "bottom": null,
            "_model_module": "@jupyter-widgets/base",
            "top": null,
            "grid_column": null,
            "overflow_y": null,
            "overflow_x": null,
            "grid_auto_flow": null,
            "grid_area": null,
            "grid_template_columns": null,
            "flex": null,
            "_model_name": "LayoutModel",
            "justify_items": null,
            "grid_row": null,
            "max_height": null,
            "align_content": null,
            "visibility": null,
            "align_self": null,
            "height": null,
            "min_height": null,
            "padding": null,
            "grid_auto_rows": null,
            "grid_gap": null,
            "max_width": null,
            "order": null,
            "_view_module_version": "1.2.0",
            "grid_template_areas": null,
            "object_position": null,
            "object_fit": null,
            "grid_auto_columns": null,
            "margin": null,
            "display": null,
            "left": null
          }
        },
        "ac96a2e5ef7b4b749230cae14308880a": {
          "model_module": "@jupyter-widgets/controls",
          "model_name": "DescriptionStyleModel",
          "model_module_version": "1.5.0",
          "state": {
            "_view_name": "StyleView",
            "_model_name": "DescriptionStyleModel",
            "description_width": "",
            "_view_module": "@jupyter-widgets/base",
            "_model_module_version": "1.5.0",
            "_view_count": null,
            "_view_module_version": "1.2.0",
            "_model_module": "@jupyter-widgets/controls"
          }
        },
        "c8df35de0ce44ae3a0b0fb74ed84faff": {
          "model_module": "@jupyter-widgets/base",
          "model_name": "LayoutModel",
          "model_module_version": "1.2.0",
          "state": {
            "_view_name": "LayoutView",
            "grid_template_rows": null,
            "right": null,
            "justify_content": null,
            "_view_module": "@jupyter-widgets/base",
            "overflow": null,
            "_model_module_version": "1.2.0",
            "_view_count": null,
            "flex_flow": null,
            "width": null,
            "min_width": null,
            "border": null,
            "align_items": null,
            "bottom": null,
            "_model_module": "@jupyter-widgets/base",
            "top": null,
            "grid_column": null,
            "overflow_y": null,
            "overflow_x": null,
            "grid_auto_flow": null,
            "grid_area": null,
            "grid_template_columns": null,
            "flex": null,
            "_model_name": "LayoutModel",
            "justify_items": null,
            "grid_row": null,
            "max_height": null,
            "align_content": null,
            "visibility": null,
            "align_self": null,
            "height": null,
            "min_height": null,
            "padding": null,
            "grid_auto_rows": null,
            "grid_gap": null,
            "max_width": null,
            "order": null,
            "_view_module_version": "1.2.0",
            "grid_template_areas": null,
            "object_position": null,
            "object_fit": null,
            "grid_auto_columns": null,
            "margin": null,
            "display": null,
            "left": null
          }
        }
      }
    }
  },
  "cells": [
    {
      "cell_type": "markdown",
      "metadata": {
        "id": "view-in-github",
        "colab_type": "text"
      },
      "source": [
        "<a href=\"https://colab.research.google.com/github/adel-nouar/ML_with_Rune/blob/main/09%20-%20Project%20-%20PyTorch.ipynb\" target=\"_parent\"><img src=\"https://colab.research.google.com/assets/colab-badge.svg\" alt=\"Open In Colab\"/></a>"
      ]
    },
    {
      "cell_type": "markdown",
      "metadata": {
        "id": "ef5edb03"
      },
      "source": [
        "### Step 1: Install Torch\n",
        "- Execute the following cell which will install **torch** and **torchvision**"
      ],
      "id": "ef5edb03"
    },
    {
      "cell_type": "code",
      "metadata": {
        "id": "c19e8755",
        "outputId": "040ffd53-a9e8-4146-a495-bd2593fe12bd",
        "colab": {
          "base_uri": "https://localhost:8080/"
        }
      },
      "source": [
        "!pip install torchvision"
      ],
      "id": "c19e8755",
      "execution_count": 1,
      "outputs": [
        {
          "output_type": "stream",
          "name": "stdout",
          "text": [
            "Requirement already satisfied: torchvision in /usr/local/lib/python3.7/dist-packages (0.10.0+cu111)\n",
            "Requirement already satisfied: pillow>=5.3.0 in /usr/local/lib/python3.7/dist-packages (from torchvision) (7.1.2)\n",
            "Requirement already satisfied: numpy in /usr/local/lib/python3.7/dist-packages (from torchvision) (1.19.5)\n",
            "Requirement already satisfied: torch==1.9.0 in /usr/local/lib/python3.7/dist-packages (from torchvision) (1.9.0+cu111)\n",
            "Requirement already satisfied: typing-extensions in /usr/local/lib/python3.7/dist-packages (from torch==1.9.0->torchvision) (3.10.0.2)\n"
          ]
        }
      ]
    },
    {
      "cell_type": "markdown",
      "metadata": {
        "id": "6b8bc9a2"
      },
      "source": [
        "### Step 2: Import libraries"
      ],
      "id": "6b8bc9a2"
    },
    {
      "cell_type": "code",
      "metadata": {
        "id": "fca19d9d"
      },
      "source": [
        "import torch\n",
        "import torch.nn as nn\n",
        "from torch import optim\n",
        "from torchvision import datasets\n",
        "from torchvision import transforms\n",
        "import matplotlib.pyplot as plt\n",
        "%matplotlib inline"
      ],
      "id": "fca19d9d",
      "execution_count": 2,
      "outputs": []
    },
    {
      "cell_type": "markdown",
      "metadata": {
        "id": "cb3a4ae5"
      },
      "source": [
        "### Step 3: Download the CIFAR10 dataset\n",
        "- Excute the cell below"
      ],
      "id": "cb3a4ae5"
    },
    {
      "cell_type": "code",
      "metadata": {
        "id": "73c6e5bb",
        "outputId": "53e80ed9-2c25-4b1b-c230-4b1564c6d05f",
        "colab": {
          "base_uri": "https://localhost:8080/",
          "height": 100,
          "referenced_widgets": [
            "3f076dd2d6db4ca2a05dd9fcd43cc9ec",
            "7fadbd5e93fe468d9e89eb02b34904c6",
            "e7eeb0a7746142cba53a54f28c16e86c",
            "edfab5dfe1504ba5ac91ab0f89cb0139",
            "d76942abe8c7408ea2b979a95d879fb7",
            "8faa687c9d9c4583a82200a515b43648",
            "af6eb3022bf14fd286d3bf0c6a0addd7",
            "9873ec82bbd84ebd8b0f721707ab4522",
            "b3dbdf640b094fba98414dcceb14339b",
            "ac96a2e5ef7b4b749230cae14308880a",
            "c8df35de0ce44ae3a0b0fb74ed84faff"
          ]
        }
      },
      "source": [
        "data_path = 'downloads/'\n",
        "cifar10 = datasets.CIFAR10(data_path, train=True, download=True)\n",
        "cifar10_val = datasets.CIFAR10(data_path, train=False, download=True)"
      ],
      "id": "73c6e5bb",
      "execution_count": 3,
      "outputs": [
        {
          "output_type": "stream",
          "name": "stdout",
          "text": [
            "Downloading https://www.cs.toronto.edu/~kriz/cifar-10-python.tar.gz to downloads/cifar-10-python.tar.gz\n"
          ]
        },
        {
          "output_type": "display_data",
          "data": {
            "application/vnd.jupyter.widget-view+json": {
              "model_id": "3f076dd2d6db4ca2a05dd9fcd43cc9ec",
              "version_minor": 0,
              "version_major": 2
            },
            "text/plain": [
              "  0%|          | 0/170498071 [00:00<?, ?it/s]"
            ]
          },
          "metadata": {}
        },
        {
          "output_type": "stream",
          "name": "stdout",
          "text": [
            "Extracting downloads/cifar-10-python.tar.gz to downloads/\n",
            "Files already downloaded and verified\n"
          ]
        }
      ]
    },
    {
      "cell_type": "markdown",
      "metadata": {
        "id": "cd1bd0ca"
      },
      "source": [
        "### Step 4: Explore the dataset\n",
        "- See the type of **cifar10**\n",
        "- Get the length of **cifar10**\n",
        "- Assign image and label of **cifar10** at index 1000\n",
        "- Get the class name of label\n",
        "    - HINT: Use **cifar10.classes[label]** to get the name"
      ],
      "id": "cd1bd0ca"
    },
    {
      "cell_type": "code",
      "metadata": {
        "id": "a18c1717",
        "outputId": "1cc3f83d-9426-4678-f599-baf844da80f0",
        "colab": {
          "base_uri": "https://localhost:8080/"
        }
      },
      "source": [
        "type(cifar10)"
      ],
      "id": "a18c1717",
      "execution_count": 4,
      "outputs": [
        {
          "output_type": "execute_result",
          "data": {
            "text/plain": [
              "torchvision.datasets.cifar.CIFAR10"
            ]
          },
          "metadata": {},
          "execution_count": 4
        }
      ]
    },
    {
      "cell_type": "code",
      "metadata": {
        "id": "5494a539",
        "outputId": "36d4ce66-536d-400b-d451-fae3f47afef4",
        "colab": {
          "base_uri": "https://localhost:8080/"
        }
      },
      "source": [
        "len(cifar10), len(cifar10_val)"
      ],
      "id": "5494a539",
      "execution_count": 5,
      "outputs": [
        {
          "output_type": "execute_result",
          "data": {
            "text/plain": [
              "(50000, 10000)"
            ]
          },
          "metadata": {},
          "execution_count": 5
        }
      ]
    },
    {
      "cell_type": "code",
      "metadata": {
        "id": "6f74c3dc"
      },
      "source": [
        "img, label = cifar10[1000]"
      ],
      "id": "6f74c3dc",
      "execution_count": 6,
      "outputs": []
    },
    {
      "cell_type": "code",
      "metadata": {
        "id": "8cef4468",
        "outputId": "e01869f8-aa38-4894-e562-bc471fd5dcdc",
        "colab": {
          "base_uri": "https://localhost:8080/",
          "height": 37
        }
      },
      "source": [
        "cifar10.classes[label]"
      ],
      "id": "8cef4468",
      "execution_count": 7,
      "outputs": [
        {
          "output_type": "execute_result",
          "data": {
            "application/vnd.google.colaboratory.intrinsic+json": {
              "type": "string"
            },
            "text/plain": [
              "'truck'"
            ]
          },
          "metadata": {},
          "execution_count": 7
        }
      ]
    },
    {
      "cell_type": "markdown",
      "metadata": {
        "id": "65639015"
      },
      "source": [
        "### Step 5: Visualize the image\n",
        "- Use **matplotlib** to visuazlize image\n",
        "    - HINT: just use **plt.imshow(...)**"
      ],
      "id": "65639015"
    },
    {
      "cell_type": "code",
      "metadata": {
        "id": "3dbf5fa3",
        "outputId": "8bf2f674-3f9c-4d17-d111-da42b2b8f369",
        "colab": {
          "base_uri": "https://localhost:8080/",
          "height": 283
        }
      },
      "source": [
        "plt.imshow(img)"
      ],
      "id": "3dbf5fa3",
      "execution_count": 8,
      "outputs": [
        {
          "output_type": "execute_result",
          "data": {
            "text/plain": [
              "<matplotlib.image.AxesImage at 0x7f9cde654b50>"
            ]
          },
          "metadata": {},
          "execution_count": 8
        },
        {
          "output_type": "display_data",
          "data": {
            "image/png": "[encoded data removed]",
            "text/plain": [
              "<Figure size 432x288 with 1 Axes>"
            ]
          },
          "metadata": {
            "needs_background": "light"
          }
        }
      ]
    },
    {
      "cell_type": "markdown",
      "metadata": {
        "id": "8005d75d"
      },
      "source": [
        "### Step 6: Transform images\n",
        "- We need to convert the PIL image to a PyTorch tensor\n",
        "- We can easily transform it by adding **transform=transforms.ToTensor()** when reading the dataset.\n",
        "- This is given below (just execute)"
      ],
      "id": "8005d75d"
    },
    {
      "cell_type": "code",
      "metadata": {
        "id": "5d7c8a44"
      },
      "source": [
        "tensor_cifar10 = datasets.CIFAR10(data_path, train=True, download=False, transform=transforms.ToTensor())"
      ],
      "id": "5d7c8a44",
      "execution_count": 10,
      "outputs": []
    },
    {
      "cell_type": "markdown",
      "metadata": {
        "id": "fe65a981"
      },
      "source": [
        "### Step 7: Normalize images\n",
        "- Now you have all images (transformed) in **tensor_cifar10**.\n",
        "- To concatenate a stack of images use **torch.stack(..., dim=3)** on the images\n",
        "    - HINT: Use list comprehension to get a list of images from **tensor_cifar10** (to exclude labels)\n",
        "- Calculate the **mean(dim=1)** by applying it on the stack\n",
        "- Calculate the **std(dim=1)** by applying it on the stack\n",
        "- We will use the results in next step"
      ],
      "id": "fe65a981"
    },
    {
      "cell_type": "code",
      "metadata": {
        "id": "2f02d859"
      },
      "source": [
        "imgs = torch.stack([img_t for img_t, _ in tensor_cifar10], dim=3)"
      ],
      "id": "2f02d859",
      "execution_count": 11,
      "outputs": []
    },
    {
      "cell_type": "code",
      "metadata": {
        "id": "c9707c57",
        "outputId": "ff0d5ed0-2a3e-4a6d-fcd2-8bf69991f076",
        "colab": {
          "base_uri": "https://localhost:8080/"
        }
      },
      "source": [
        "imgs.view(3, -1).mean(dim=1)"
      ],
      "id": "c9707c57",
      "execution_count": 12,
      "outputs": [
        {
          "output_type": "execute_result",
          "data": {
            "text/plain": [
              "tensor([0.4914, 0.4822, 0.4465])"
            ]
          },
          "metadata": {},
          "execution_count": 12
        }
      ]
    },
    {
      "cell_type": "code",
      "metadata": {
        "id": "5789d4b3",
        "outputId": "d6572b6d-271e-41d0-e6e2-a4f7d5d931b9",
        "colab": {
          "base_uri": "https://localhost:8080/"
        }
      },
      "source": [
        "imgs.view(3, -1).std(dim=1)"
      ],
      "id": "5789d4b3",
      "execution_count": 13,
      "outputs": [
        {
          "output_type": "execute_result",
          "data": {
            "text/plain": [
              "tensor([0.2470, 0.2435, 0.2616])"
            ]
          },
          "metadata": {},
          "execution_count": 13
        }
      ]
    },
    {
      "cell_type": "markdown",
      "metadata": {
        "id": "d298703f"
      },
      "source": [
        "### Step 8: Normalize the data\n",
        "- We can add a normalize transform with adding a **transforms.Compose([...])**, where the list will contain the transforms.\n",
        "- The transform we want are **transforms.ToTensor()** and **transforms.Normalize(...)**\n",
        "    - HINT: See lesson how it was done\n",
        "- The **transforms.Normalize(...)** takes two tuples of the results from last step.\n",
        "    - Note: that in the lesson it was single numbers, here we hare tuples.\n",
        "- Read the datasets to **cifar10** with the new transform\n",
        "- Read the validation dataset to **cifar10_val** with the new transform"
      ],
      "id": "d298703f"
    },
    {
      "cell_type": "code",
      "metadata": {
        "id": "069a5ea8"
      },
      "source": [
        "cifar10 = datasets.CIFAR10(data_path, train=True, download=False, \n",
        "                           transform=transforms.Compose([\n",
        "                                                         transforms.ToTensor(),\n",
        "                                                         transforms.Normalize((0.4914, 0.4822, 0.4465),\n",
        "                                                                               (0.2470, 0.2435, 0.2616))\n",
        "                           ]))"
      ],
      "id": "069a5ea8",
      "execution_count": 16,
      "outputs": []
    },
    {
      "cell_type": "code",
      "metadata": {
        "id": "037d04db"
      },
      "source": [
        "cifar10_val = datasets.CIFAR10(data_path, train=False, download=False, \n",
        "                           transform=transforms.Compose([\n",
        "                                                         transforms.ToTensor(),\n",
        "                                                         transforms.Normalize((0.4914, 0.4822, 0.4465),\n",
        "                                                                               (0.2470, 0.2435, 0.2616))\n",
        "                           ]))"
      ],
      "id": "037d04db",
      "execution_count": 17,
      "outputs": []
    },
    {
      "cell_type": "markdown",
      "metadata": {
        "id": "f1ef2dcd"
      },
      "source": [
        "### Step 9: Limit the dataset\n",
        "- There are 10 classes in this dataset - to simplify, we will reduce it to two\n",
        "- We will keep label 0 and 2 (**'airplane'** and **'bird'**)\n",
        "- Use list comprehension to filter the datasets.\n",
        "    - To simplify use a **label_map = {0: 0, 2: 1}**, which is used to map label 0 to 0 and label 2 to 1.\n",
        "    - Then use list comprehension **[(img, label_map[label]) for img, label in cifar10 if label in [0, 2]]**\n",
        "    - And similar for **cifar10_val**"
      ],
      "id": "f1ef2dcd"
    },
    {
      "cell_type": "code",
      "metadata": {
        "id": "d81727b1"
      },
      "source": [
        "label_map = {0: 0, 2: 1}\n",
        "cifar2 = [(img, label_map[label]) for img, label in cifar10 if label in [0, 2]]\n",
        "cifar2_val = [(img, label_map[label]) for img, label in cifar10_val if label in [0, 2]]"
      ],
      "id": "d81727b1",
      "execution_count": 23,
      "outputs": []
    },
    {
      "cell_type": "markdown",
      "metadata": {
        "id": "60bb3eac"
      },
      "source": [
        "### Step 10: Create the model\n",
        "- We create a simple model here\n",
        "    - 3072 input nodes -> Linear with 512 nodes (Tanh acitivation)  -> Linear with 2 nodes (LogSoftmax activation)\n",
        "- To do that use **nn.Sequential(...)** with the following arguments.\n",
        "    - **nn.Linear(3072, 512)**\n",
        "        - Bonus question: Why 3072 input nodes?\n",
        "    - **nn.Tanh()**\n",
        "    - **nn.Linear(512, 2)**\n",
        "    - **nn.LogSoftmax(dim=1)**"
      ],
      "id": "60bb3eac"
    },
    {
      "cell_type": "code",
      "metadata": {
        "id": "5a34ddf7"
      },
      "source": [
        "model = nn.Sequential(nn.Linear(3072, 512),\n",
        "                      nn.Tanh(),\n",
        "                      nn.Linear(512, 2),\n",
        "                      nn.LogSoftmax(dim=1))"
      ],
      "id": "5a34ddf7",
      "execution_count": 20,
      "outputs": []
    },
    {
      "cell_type": "markdown",
      "metadata": {
        "id": "cf32440f"
      },
      "source": [
        "### Step 11: Train the model\n",
        "- Prepare training data\n",
        "\n",
        "```Python\n",
        "train_loader = torch.utils.data.DataLoader(cifar2, batch_size=64,\n",
        "                                           shuffle=True)\n",
        "\n",
        "```\n",
        "\n",
        "- Set the **learning_rate = 0.01** (to make it easy to adjust)\n",
        "- Prepare optimizer and loss function.\n",
        "\n",
        "```Python\n",
        "optimizer = optim.SGD(model.parameters(), lr=learning_rate)\n",
        "loss_fn = nn.NLLLoss()\n",
        "```\n",
        "\n",
        "- Run the training\n",
        "\n",
        "```Python\n",
        "n_epochs = 10\n",
        "for epoch in range(n_epochs):\n",
        "    for imgs, labels in train_loader:\n",
        "        optimizer.zero_grad()\n",
        "\n",
        "        batch_size = imgs.shape[0]\n",
        "        outputs = model(imgs.view(batch_size, -1))\n",
        "        loss = loss_fn(outputs, labels)\n",
        "    \n",
        "        loss.backward()\n",
        "        optimizer.step()\n",
        "    print(\"Epoch: %d, Loss: %f\" % (epoch, float(loss)))\n",
        "```"
      ],
      "id": "cf32440f"
    },
    {
      "cell_type": "code",
      "metadata": {
        "id": "0571922e",
        "outputId": "c7a4751b-7b80-4b6c-f1a6-51b5985b01d3",
        "colab": {
          "base_uri": "https://localhost:8080/"
        }
      },
      "source": [
        "train_loader = torch.utils.data.DataLoader(cifar2, batch_size=64,\n",
        "                                           shuffle=True)\n",
        "learning_rate = 0.01\n",
        "optimizer = optim.SGD(model.parameters(), lr=learning_rate)\n",
        "loss_fn = nn.NLLLoss()\n",
        "\n",
        "n_epochs = 10\n",
        "for epoch in range(n_epochs):\n",
        "    for imgs, labels in train_loader:\n",
        "        optimizer.zero_grad()\n",
        "\n",
        "        batch_size = imgs.shape[0]\n",
        "        outputs = model(imgs.view(batch_size, -1))\n",
        "        loss = loss_fn(outputs, labels)\n",
        "\n",
        "        loss.backward()\n",
        "        optimizer.step()\n",
        "    print(\"Epoch: %d, Loss: %f\" % (epoch, float(loss)))\n"
      ],
      "id": "0571922e",
      "execution_count": 24,
      "outputs": [
        {
          "output_type": "stream",
          "name": "stdout",
          "text": [
            "Epoch: 0, Loss: 0.062171\n",
            "Epoch: 1, Loss: 0.163092\n",
            "Epoch: 2, Loss: 0.109265\n",
            "Epoch: 3, Loss: 0.141370\n",
            "Epoch: 4, Loss: 0.173484\n",
            "Epoch: 5, Loss: 0.050794\n",
            "Epoch: 6, Loss: 0.041537\n",
            "Epoch: 7, Loss: 0.053249\n",
            "Epoch: 8, Loss: 0.105814\n",
            "Epoch: 9, Loss: 0.018673\n"
          ]
        }
      ]
    },
    {
      "cell_type": "markdown",
      "metadata": {
        "id": "92a127ed"
      },
      "source": [
        "### Step 12: Test the model\n",
        "- Run the following code (where we assume the test data is called **cifar10_val** and the model **model**.\n",
        "```Python\n",
        "val_loader = torch.utils.data.DataLoader(cifar2_val, batch_size=64,\n",
        "                                         shuffle=False)\n",
        "correct = 0\n",
        "total = 0\n",
        "with torch.no_grad():\n",
        "    for imgs, labels in val_loader:\n",
        "        batch_size = imgs.shape[0]\n",
        "        outputs = model(imgs.view(batch_size, -1))\n",
        "        _, predicted = torch.max(outputs, dim=1)\n",
        "        total += labels.shape[0]\n",
        "        correct += int((predicted == labels).sum())\n",
        "print(\"Accuracy: %f\", correct / total)\n",
        "```"
      ],
      "id": "92a127ed"
    },
    {
      "cell_type": "code",
      "metadata": {
        "id": "b0239d06",
        "outputId": "6d370024-0a6a-4e8d-e2a0-cebc09915326",
        "colab": {
          "base_uri": "https://localhost:8080/"
        }
      },
      "source": [
        "val_loader = torch.utils.data.DataLoader(cifar2_val, batch_size=64,\n",
        "                                       shuffle=False)\n",
        "correct = 0\n",
        "total = 0\n",
        "with torch.no_grad():\n",
        "  for imgs, labels in val_loader:\n",
        "      batch_size = imgs.shape[0]\n",
        "      outputs = model(imgs.view(batch_size, -1))\n",
        "      _, predicted = torch.max(outputs, dim=1)\n",
        "      total += labels.shape[0]\n",
        "      correct += int((predicted == labels).sum())\n",
        "print(\"Accuracy: %f\", correct / total)"
      ],
      "id": "b0239d06",
      "execution_count": 25,
      "outputs": [
        {
          "output_type": "stream",
          "name": "stdout",
          "text": [
            "Accuracy: %f 0.989\n"
          ]
        }
      ]
    },
    {
      "cell_type": "markdown",
      "metadata": {
        "id": "99161df7"
      },
      "source": [
        "### Step 13 (Optional): Improve the model\n",
        "- Try to improve the model\n",
        "    - Simple things you can play with\n",
        "        - Adjust the learning rate\n",
        "        - Run more epochs\n",
        "        - Number of hidden nodes\n",
        "    - Medium things to play with\n",
        "        - Change activation functions\n",
        "        - Add another layer\n",
        "    - Advanced things\n",
        "        - Let your imagination guide you\n",
        "        - For inspiration see state of the art results ([wiki](https://en.wikipedia.org/wiki/CIFAR-10#Research_papers_claiming_state-of-the-art_results_on_CIFAR-10))"
      ],
      "id": "99161df7"
    },
    {
      "cell_type": "code",
      "metadata": {
        "id": "37270489"
      },
      "source": [
        ""
      ],
      "id": "37270489",
      "execution_count": null,
      "outputs": []
    },
    {
      "cell_type": "code",
      "metadata": {
        "id": "281083ed"
      },
      "source": [
        ""
      ],
      "id": "281083ed",
      "execution_count": null,
      "outputs": []
    },
    {
      "cell_type": "markdown",
      "metadata": {
        "id": "0f103c9c"
      },
      "source": [
        "### Step 14 (Optional): Add more classes\n",
        "- The dataset was limited to two classes (**airplane**s and **bird**s)\n",
        "- Try to add another class (or more) and see how it changes"
      ],
      "id": "0f103c9c"
    },
    {
      "cell_type": "code",
      "metadata": {
        "id": "d5cad0bf"
      },
      "source": [
        ""
      ],
      "id": "d5cad0bf",
      "execution_count": null,
      "outputs": []
    },
    {
      "cell_type": "code",
      "metadata": {
        "id": "f5d5ffae"
      },
      "source": [
        ""
      ],
      "id": "f5d5ffae",
      "execution_count": null,
      "outputs": []
    }
  ]
}